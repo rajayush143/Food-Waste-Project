{
  "nbformat": 4,
  "nbformat_minor": 0,
  "metadata": {
    "colab": {
      "name": "Science Fair Project - Notebook.ipynb",
      "provenance": [],
      "machine_shape": "hm"
    },
    "kernelspec": {
      "name": "python3",
      "display_name": "Python 3"
    }
  },
  "cells": [
    {
      "cell_type": "markdown",
      "metadata": {
        "id": "E979AM7XEGtl"
      },
      "source": [
        "# Loading in the Data\r\n",
        "\r\n",
        "In this section, we load in the data from Kaggle. Specifically, we have 5 dataframes: train_df, test_df, sample_submission_df, stores_df, and items_df."
      ]
    },
    {
      "cell_type": "code",
      "metadata": {
        "id": "BVquLsL8EHjN"
      },
      "source": [
        "# importing all libraries\r\n",
        "\r\n",
        "import matplotlib.pyplot as plt\r\n",
        "%matplotlib inline\r\n",
        "\r\n",
        "import numpy as np\r\n",
        "np.random.seed(123)\r\n",
        "\r\n",
        "import pandas as pd\r\n",
        "import os\r\n",
        "import seaborn as sns\r\n",
        "\r\n",
        "from sklearn.preprocessing import label_binarize\r\n",
        "from sklearn.metrics import confusion_matrix, mean_absolute_error\r\n",
        "from sklearn.model_selection import train_test_split\r\n",
        "import itertools\r\n",
        "\r\n",
        "from sklearn.linear_model import LinearRegression\r\n",
        "from sklearn.metrics import mean_squared_error\r\n",
        "from sklearn.metrics import mean_absolute_error\r\n",
        "from sklearn.preprocessing import MinMaxScaler\r\n",
        "from sklearn.metrics import r2_score\r\n",
        "from sklearn.tree import DecisionTreeRegressor\r\n",
        "from sklearn.ensemble import RandomForestRegressor\r\n",
        "from sklearn.metrics import mean_squared_log_error\r\n",
        "from sklearn.ensemble import GradientBoostingRegressor\r\n",
        "\r\n",
        "from sklearn import linear_model\r\n",
        "from sklearn.linear_model import Ridge\r\n",
        "from scipy.optimize import minimize\r\n",
        "import seaborn as sns\r\n",
        "import math\r\n",
        "from tqdm import tqdm\r\n",
        "\r\n",
        "from sklearn.model_selection import GridSearchCV"
      ],
      "execution_count": 58,
      "outputs": []
    },
    {
      "cell_type": "code",
      "metadata": {
        "colab": {
          "base_uri": "https://localhost:8080/"
        },
        "id": "kb-pAa_tEiHD",
        "outputId": "193cb1d6-429a-450d-a404-6ba1e2775f12"
      },
      "source": [
        "from google.colab import drive\r\n",
        "drive.mount('drive')"
      ],
      "execution_count": 2,
      "outputs": [
        {
          "output_type": "stream",
          "text": [
            "Mounted at drive\n"
          ],
          "name": "stdout"
        }
      ]
    },
    {
      "cell_type": "code",
      "metadata": {
        "colab": {
          "base_uri": "https://localhost:8080/"
        },
        "id": "LCDW1qHKsM24",
        "outputId": "04ed81fc-3f94-4087-dbb0-86d3efb6a1d1"
      },
      "source": [
        "from getpass import getpass\n",
        "user = getpass('Kaggle Username: ')\n",
        "key = getpass('Kaggle API key: ')\n",
        "\n",
        "import os\n",
        "if '.kaggle' not in os.listdir('/root'):\n",
        "    !mkdir ~/.kaggle\n",
        "!touch /root/.kaggle/kaggle.json\n",
        "!chmod 666 /root/.kaggle/kaggle.json\n",
        "with open('/root/.kaggle/kaggle.json', 'w') as f:\n",
        "    f.write('{\"username\":\"%s\",\"key\":\"%s\"}' % (user, key))\n",
        "!chmod 600 /root/.kaggle/kaggle.json"
      ],
      "execution_count": 3,
      "outputs": [
        {
          "output_type": "stream",
          "text": [
            "Kaggle Username: ··········\n",
            "Kaggle API key: ··········\n"
          ],
          "name": "stdout"
        }
      ]
    },
    {
      "cell_type": "code",
      "metadata": {
        "colab": {
          "base_uri": "https://localhost:8080/"
        },
        "id": "Nw4WV_KIsPGi",
        "outputId": "aa21c581-2313-472a-b0f4-16d870362692"
      },
      "source": [
        "!mkdir -p grocery_data\n",
        "!kaggle competitions download -c favorita-grocery-sales-forecasting -p grocery_data"
      ],
      "execution_count": 4,
      "outputs": [
        {
          "output_type": "stream",
          "text": [
            "Warning: Looks like you're using an outdated API Version, please consider updating (server 1.5.10 / client 1.5.4)\n",
            "Downloading holidays_events.csv.7z to grocery_data\n",
            "  0% 0.00/1.85k [00:00<?, ?B/s]\n",
            "100% 1.85k/1.85k [00:00<00:00, 718kB/s]\n",
            "Downloading test.csv.7z to grocery_data\n",
            "  0% 0.00/4.66M [00:00<?, ?B/s]\n",
            "100% 4.66M/4.66M [00:00<00:00, 42.5MB/s]\n",
            "Downloading oil.csv.7z to grocery_data\n",
            "  0% 0.00/3.67k [00:00<?, ?B/s]\n",
            "100% 3.67k/3.67k [00:00<00:00, 4.04MB/s]\n",
            "Downloading transactions.csv.7z to grocery_data\n",
            "  0% 0.00/214k [00:00<?, ?B/s]\n",
            "100% 214k/214k [00:00<00:00, 68.5MB/s]\n",
            "Downloading train.csv.7z to grocery_data\n",
            " 99% 447M/452M [00:03<00:00, 176MB/s]\n",
            "100% 452M/452M [00:03<00:00, 154MB/s]\n",
            "Downloading stores.csv.7z to grocery_data\n",
            "  0% 0.00/648 [00:00<?, ?B/s]\n",
            "100% 648/648 [00:00<00:00, 585kB/s]\n",
            "Downloading items.csv.7z to grocery_data\n",
            "  0% 0.00/14.0k [00:00<?, ?B/s]\n",
            "100% 14.0k/14.0k [00:00<00:00, 14.3MB/s]\n",
            "Downloading sample_submission.csv.7z to grocery_data\n",
            "  0% 0.00/651k [00:00<?, ?B/s]\n",
            "100% 651k/651k [00:00<00:00, 91.3MB/s]\n"
          ],
          "name": "stdout"
        }
      ]
    },
    {
      "cell_type": "code",
      "metadata": {
        "colab": {
          "base_uri": "https://localhost:8080/"
        },
        "id": "2S8tqR8VNBgM",
        "outputId": "0e7501a1-854d-4219-80f9-4ce3043f2197"
      },
      "source": [
        "# train_df\n",
        "!apt-get install p7zip-full\n",
        "!p7zip -d grocery_data/train.csv.7z \n",
        "\n",
        "# test_df\n",
        "!apt-get install p7zip-full\n",
        "!p7zip -d grocery_data/test.csv.7z \n",
        "\n",
        "# sample_submission_df\n",
        "!apt-get install p7zip-full\n",
        "!p7zip -d grocery_data/sample_submission.csv.7z \n",
        "\n",
        "# stores_df\n",
        "!apt-get install p7zip-full\n",
        "!p7zip -d grocery_data/stores.csv.7z \n",
        "\n",
        "# items_df\n",
        "!apt-get install p7zip-full\n",
        "!p7zip -d grocery_data/items.csv.7z \n",
        "\n",
        "# holidays_df\n",
        "!apt-get install p7zip-full\n",
        "!p7zip -d grocery_data/holidays_events.csv.7z"
      ],
      "execution_count": 5,
      "outputs": [
        {
          "output_type": "stream",
          "text": [
            "Reading package lists... Done\n",
            "Building dependency tree       \n",
            "Reading state information... Done\n",
            "p7zip-full is already the newest version (16.02+dfsg-6).\n",
            "0 upgraded, 0 newly installed, 0 to remove and 13 not upgraded.\n",
            "\n",
            "7-Zip (a) [64] 16.02 : Copyright (c) 1999-2016 Igor Pavlov : 2016-05-21\n",
            "p7zip Version 16.02 (locale=en_US.UTF-8,Utf16=on,HugeFiles=on,64 bits,4 CPUs Intel(R) Xeon(R) CPU @ 2.30GHz (306F0),ASM,AES-NI)\n",
            "\n",
            "Scanning the drive for archives:\n",
            "  0M Scan\b\b\b\b\b\b\b\b\b         \b\b\b\b\b\b\b\b\b1 file, 474092593 bytes (453 MiB)\n",
            "\n",
            "Extracting archive: grocery_data/train.csv.7z\n",
            "--\n",
            "Path = grocery_data/train.csv.7z\n",
            "Type = 7z\n",
            "Physical Size = 474092593\n",
            "Headers Size = 122\n",
            "Method = LZMA2:24\n",
            "Solid = -\n",
            "Blocks = 1\n",
            "\n",
            "  0%\b\b\b\b    \b\b\b\b  0% - train.csv\b\b\b\b\b\b\b\b\b\b\b\b\b\b\b\b                \b\b\b\b\b\b\b\b\b\b\b\b\b\b\b\b  1% - train.csv\b\b\b\b\b\b\b\b\b\b\b\b\b\b\b\b                \b\b\b\b\b\b\b\b\b\b\b\b\b\b\b\b  2% - train.csv\b\b\b\b\b\b\b\b\b\b\b\b\b\b\b\b                \b\b\b\b\b\b\b\b\b\b\b\b\b\b\b\b  3% - train.csv\b\b\b\b\b\b\b\b\b\b\b\b\b\b\b\b                \b\b\b\b\b\b\b\b\b\b\b\b\b\b\b\b  4% - train.csv\b\b\b\b\b\b\b\b\b\b\b\b\b\b\b\b                \b\b\b\b\b\b\b\b\b\b\b\b\b\b\b\b  5% - train.csv\b\b\b\b\b\b\b\b\b\b\b\b\b\b\b\b                \b\b\b\b\b\b\b\b\b\b\b\b\b\b\b\b  6% - train.csv\b\b\b\b\b\b\b\b\b\b\b\b\b\b\b\b                \b\b\b\b\b\b\b\b\b\b\b\b\b\b\b\b  7% - train.csv\b\b\b\b\b\b\b\b\b\b\b\b\b\b\b\b                \b\b\b\b\b\b\b\b\b\b\b\b\b\b\b\b  8% - train.csv\b\b\b\b\b\b\b\b\b\b\b\b\b\b\b\b                \b\b\b\b\b\b\b\b\b\b\b\b\b\b\b\b  9% - train.csv\b\b\b\b\b\b\b\b\b\b\b\b\b\b\b\b                \b\b\b\b\b\b\b\b\b\b\b\b\b\b\b\b 10% - train.csv\b\b\b\b\b\b\b\b\b\b\b\b\b\b\b\b                \b\b\b\b\b\b\b\b\b\b\b\b\b\b\b\b 11% - train.csv\b\b\b\b\b\b\b\b\b\b\b\b\b\b\b\b                \b\b\b\b\b\b\b\b\b\b\b\b\b\b\b\b 12% - train.csv\b\b\b\b\b\b\b\b\b\b\b\b\b\b\b\b                \b\b\b\b\b\b\b\b\b\b\b\b\b\b\b\b 13% - train.csv\b\b\b\b\b\b\b\b\b\b\b\b\b\b\b\b                \b\b\b\b\b\b\b\b\b\b\b\b\b\b\b\b 14% - train.csv\b\b\b\b\b\b\b\b\b\b\b\b\b\b\b\b                \b\b\b\b\b\b\b\b\b\b\b\b\b\b\b\b 15% - train.csv\b\b\b\b\b\b\b\b\b\b\b\b\b\b\b\b                \b\b\b\b\b\b\b\b\b\b\b\b\b\b\b\b 16% - train.csv\b\b\b\b\b\b\b\b\b\b\b\b\b\b\b\b                \b\b\b\b\b\b\b\b\b\b\b\b\b\b\b\b 17% - train.csv\b\b\b\b\b\b\b\b\b\b\b\b\b\b\b\b                \b\b\b\b\b\b\b\b\b\b\b\b\b\b\b\b 18% - train.csv\b\b\b\b\b\b\b\b\b\b\b\b\b\b\b\b                \b\b\b\b\b\b\b\b\b\b\b\b\b\b\b\b 19% - train.csv\b\b\b\b\b\b\b\b\b\b\b\b\b\b\b\b                \b\b\b\b\b\b\b\b\b\b\b\b\b\b\b\b 20% - train.csv\b\b\b\b\b\b\b\b\b\b\b\b\b\b\b\b                \b\b\b\b\b\b\b\b\b\b\b\b\b\b\b\b 21% - train.csv\b\b\b\b\b\b\b\b\b\b\b\b\b\b\b\b                \b\b\b\b\b\b\b\b\b\b\b\b\b\b\b\b 22% - train.csv\b\b\b\b\b\b\b\b\b\b\b\b\b\b\b\b                \b\b\b\b\b\b\b\b\b\b\b\b\b\b\b\b 23% - train.csv\b\b\b\b\b\b\b\b\b\b\b\b\b\b\b\b                \b\b\b\b\b\b\b\b\b\b\b\b\b\b\b\b 24% - train.csv\b\b\b\b\b\b\b\b\b\b\b\b\b\b\b\b                \b\b\b\b\b\b\b\b\b\b\b\b\b\b\b\b 25% - train.csv\b\b\b\b\b\b\b\b\b\b\b\b\b\b\b\b                \b\b\b\b\b\b\b\b\b\b\b\b\b\b\b\b 26% - train.csv\b\b\b\b\b\b\b\b\b\b\b\b\b\b\b\b                \b\b\b\b\b\b\b\b\b\b\b\b\b\b\b\b 27% - train.csv\b\b\b\b\b\b\b\b\b\b\b\b\b\b\b\b                \b\b\b\b\b\b\b\b\b\b\b\b\b\b\b\b 28% - train.csv\b\b\b\b\b\b\b\b\b\b\b\b\b\b\b\b                \b\b\b\b\b\b\b\b\b\b\b\b\b\b\b\b 29% - train.csv\b\b\b\b\b\b\b\b\b\b\b\b\b\b\b\b                \b\b\b\b\b\b\b\b\b\b\b\b\b\b\b\b 30% - train.csv\b\b\b\b\b\b\b\b\b\b\b\b\b\b\b\b                \b\b\b\b\b\b\b\b\b\b\b\b\b\b\b\b 31% - train.csv\b\b\b\b\b\b\b\b\b\b\b\b\b\b\b\b                \b\b\b\b\b\b\b\b\b\b\b\b\b\b\b\b 32% - train.csv\b\b\b\b\b\b\b\b\b\b\b\b\b\b\b\b                \b\b\b\b\b\b\b\b\b\b\b\b\b\b\b\b 33% - train.csv\b\b\b\b\b\b\b\b\b\b\b\b\b\b\b\b                \b\b\b\b\b\b\b\b\b\b\b\b\b\b\b\b 34% - train.csv\b\b\b\b\b\b\b\b\b\b\b\b\b\b\b\b                \b\b\b\b\b\b\b\b\b\b\b\b\b\b\b\b 35% - train.csv\b\b\b\b\b\b\b\b\b\b\b\b\b\b\b\b                \b\b\b\b\b\b\b\b\b\b\b\b\b\b\b\b 36% - train.csv\b\b\b\b\b\b\b\b\b\b\b\b\b\b\b\b                \b\b\b\b\b\b\b\b\b\b\b\b\b\b\b\b 37% - train.csv\b\b\b\b\b\b\b\b\b\b\b\b\b\b\b\b                \b\b\b\b\b\b\b\b\b\b\b\b\b\b\b\b 38% - train.csv\b\b\b\b\b\b\b\b\b\b\b\b\b\b\b\b                \b\b\b\b\b\b\b\b\b\b\b\b\b\b\b\b 39% - train.csv\b\b\b\b\b\b\b\b\b\b\b\b\b\b\b\b                \b\b\b\b\b\b\b\b\b\b\b\b\b\b\b\b 40% - train.csv\b\b\b\b\b\b\b\b\b\b\b\b\b\b\b\b                \b\b\b\b\b\b\b\b\b\b\b\b\b\b\b\b 41% - train.csv\b\b\b\b\b\b\b\b\b\b\b\b\b\b\b\b                \b\b\b\b\b\b\b\b\b\b\b\b\b\b\b\b 42% - train.csv\b\b\b\b\b\b\b\b\b\b\b\b\b\b\b\b                \b\b\b\b\b\b\b\b\b\b\b\b\b\b\b\b 43% - train.csv\b\b\b\b\b\b\b\b\b\b\b\b\b\b\b\b                \b\b\b\b\b\b\b\b\b\b\b\b\b\b\b\b 44% - train.csv\b\b\b\b\b\b\b\b\b\b\b\b\b\b\b\b                \b\b\b\b\b\b\b\b\b\b\b\b\b\b\b\b 45% - train.csv\b\b\b\b\b\b\b\b\b\b\b\b\b\b\b\b                \b\b\b\b\b\b\b\b\b\b\b\b\b\b\b\b 46% - train.csv\b\b\b\b\b\b\b\b\b\b\b\b\b\b\b\b                \b\b\b\b\b\b\b\b\b\b\b\b\b\b\b\b 47% - train.csv\b\b\b\b\b\b\b\b\b\b\b\b\b\b\b\b                \b\b\b\b\b\b\b\b\b\b\b\b\b\b\b\b 48% - train.csv\b\b\b\b\b\b\b\b\b\b\b\b\b\b\b\b                \b\b\b\b\b\b\b\b\b\b\b\b\b\b\b\b 49% - train.csv\b\b\b\b\b\b\b\b\b\b\b\b\b\b\b\b                \b\b\b\b\b\b\b\b\b\b\b\b\b\b\b\b 50% - train.csv\b\b\b\b\b\b\b\b\b\b\b\b\b\b\b\b                \b\b\b\b\b\b\b\b\b\b\b\b\b\b\b\b 51% - train.csv\b\b\b\b\b\b\b\b\b\b\b\b\b\b\b\b                \b\b\b\b\b\b\b\b\b\b\b\b\b\b\b\b 52% - train.csv\b\b\b\b\b\b\b\b\b\b\b\b\b\b\b\b                \b\b\b\b\b\b\b\b\b\b\b\b\b\b\b\b 53% - train.csv\b\b\b\b\b\b\b\b\b\b\b\b\b\b\b\b                \b\b\b\b\b\b\b\b\b\b\b\b\b\b\b\b 54% - train.csv\b\b\b\b\b\b\b\b\b\b\b\b\b\b\b\b                \b\b\b\b\b\b\b\b\b\b\b\b\b\b\b\b 55% - train.csv\b\b\b\b\b\b\b\b\b\b\b\b\b\b\b\b                \b\b\b\b\b\b\b\b\b\b\b\b\b\b\b\b 56% - train.csv\b\b\b\b\b\b\b\b\b\b\b\b\b\b\b\b                \b\b\b\b\b\b\b\b\b\b\b\b\b\b\b\b 57% - train.csv\b\b\b\b\b\b\b\b\b\b\b\b\b\b\b\b                \b\b\b\b\b\b\b\b\b\b\b\b\b\b\b\b 58% - train.csv\b\b\b\b\b\b\b\b\b\b\b\b\b\b\b\b                \b\b\b\b\b\b\b\b\b\b\b\b\b\b\b\b 59% - train.csv\b\b\b\b\b\b\b\b\b\b\b\b\b\b\b\b                \b\b\b\b\b\b\b\b\b\b\b\b\b\b\b\b 60% - train.csv\b\b\b\b\b\b\b\b\b\b\b\b\b\b\b\b                \b\b\b\b\b\b\b\b\b\b\b\b\b\b\b\b 61% - train.csv\b\b\b\b\b\b\b\b\b\b\b\b\b\b\b\b                \b\b\b\b\b\b\b\b\b\b\b\b\b\b\b\b 62% - train.csv\b\b\b\b\b\b\b\b\b\b\b\b\b\b\b\b                \b\b\b\b\b\b\b\b\b\b\b\b\b\b\b\b 63% - train.csv\b\b\b\b\b\b\b\b\b\b\b\b\b\b\b\b                \b\b\b\b\b\b\b\b\b\b\b\b\b\b\b\b 64% - train.csv\b\b\b\b\b\b\b\b\b\b\b\b\b\b\b\b                \b\b\b\b\b\b\b\b\b\b\b\b\b\b\b\b 65% - train.csv\b\b\b\b\b\b\b\b\b\b\b\b\b\b\b\b                \b\b\b\b\b\b\b\b\b\b\b\b\b\b\b\b 66% - train.csv\b\b\b\b\b\b\b\b\b\b\b\b\b\b\b\b                \b\b\b\b\b\b\b\b\b\b\b\b\b\b\b\b 67% - train.csv\b\b\b\b\b\b\b\b\b\b\b\b\b\b\b\b                \b\b\b\b\b\b\b\b\b\b\b\b\b\b\b\b 68% - train.csv\b\b\b\b\b\b\b\b\b\b\b\b\b\b\b\b                \b\b\b\b\b\b\b\b\b\b\b\b\b\b\b\b 69% - train.csv\b\b\b\b\b\b\b\b\b\b\b\b\b\b\b\b                \b\b\b\b\b\b\b\b\b\b\b\b\b\b\b\b 70% - train.csv\b\b\b\b\b\b\b\b\b\b\b\b\b\b\b\b                \b\b\b\b\b\b\b\b\b\b\b\b\b\b\b\b 71% - train.csv\b\b\b\b\b\b\b\b\b\b\b\b\b\b\b\b                \b\b\b\b\b\b\b\b\b\b\b\b\b\b\b\b 72% - train.csv\b\b\b\b\b\b\b\b\b\b\b\b\b\b\b\b                \b\b\b\b\b\b\b\b\b\b\b\b\b\b\b\b 73% - train.csv\b\b\b\b\b\b\b\b\b\b\b\b\b\b\b\b                \b\b\b\b\b\b\b\b\b\b\b\b\b\b\b\b 74% - train.csv\b\b\b\b\b\b\b\b\b\b\b\b\b\b\b\b                \b\b\b\b\b\b\b\b\b\b\b\b\b\b\b\b 75% - train.csv\b\b\b\b\b\b\b\b\b\b\b\b\b\b\b\b                \b\b\b\b\b\b\b\b\b\b\b\b\b\b\b\b 76% - train.csv\b\b\b\b\b\b\b\b\b\b\b\b\b\b\b\b                \b\b\b\b\b\b\b\b\b\b\b\b\b\b\b\b 77% - train.csv\b\b\b\b\b\b\b\b\b\b\b\b\b\b\b\b                \b\b\b\b\b\b\b\b\b\b\b\b\b\b\b\b 78% - train.csv\b\b\b\b\b\b\b\b\b\b\b\b\b\b\b\b                \b\b\b\b\b\b\b\b\b\b\b\b\b\b\b\b 79% - train.csv\b\b\b\b\b\b\b\b\b\b\b\b\b\b\b\b                \b\b\b\b\b\b\b\b\b\b\b\b\b\b\b\b 80% - train.csv\b\b\b\b\b\b\b\b\b\b\b\b\b\b\b\b                \b\b\b\b\b\b\b\b\b\b\b\b\b\b\b\b 81% - train.csv\b\b\b\b\b\b\b\b\b\b\b\b\b\b\b\b                \b\b\b\b\b\b\b\b\b\b\b\b\b\b\b\b 82% - train.csv\b\b\b\b\b\b\b\b\b\b\b\b\b\b\b\b                \b\b\b\b\b\b\b\b\b\b\b\b\b\b\b\b 83% - train.csv\b\b\b\b\b\b\b\b\b\b\b\b\b\b\b\b                \b\b\b\b\b\b\b\b\b\b\b\b\b\b\b\b 84% - train.csv\b\b\b\b\b\b\b\b\b\b\b\b\b\b\b\b                \b\b\b\b\b\b\b\b\b\b\b\b\b\b\b\b 85% - train.csv\b\b\b\b\b\b\b\b\b\b\b\b\b\b\b\b                \b\b\b\b\b\b\b\b\b\b\b\b\b\b\b\b 86% - train.csv\b\b\b\b\b\b\b\b\b\b\b\b\b\b\b\b                \b\b\b\b\b\b\b\b\b\b\b\b\b\b\b\b 87% - train.csv\b\b\b\b\b\b\b\b\b\b\b\b\b\b\b\b                \b\b\b\b\b\b\b\b\b\b\b\b\b\b\b\b 88% - train.csv\b\b\b\b\b\b\b\b\b\b\b\b\b\b\b\b                \b\b\b\b\b\b\b\b\b\b\b\b\b\b\b\b 89% - train.csv\b\b\b\b\b\b\b\b\b\b\b\b\b\b\b\b                \b\b\b\b\b\b\b\b\b\b\b\b\b\b\b\b 90% - train.csv\b\b\b\b\b\b\b\b\b\b\b\b\b\b\b\b                \b\b\b\b\b\b\b\b\b\b\b\b\b\b\b\b 91% - train.csv\b\b\b\b\b\b\b\b\b\b\b\b\b\b\b\b                \b\b\b\b\b\b\b\b\b\b\b\b\b\b\b\b 92% - train.csv\b\b\b\b\b\b\b\b\b\b\b\b\b\b\b\b                \b\b\b\b\b\b\b\b\b\b\b\b\b\b\b\b 93% - train.csv\b\b\b\b\b\b\b\b\b\b\b\b\b\b\b\b                \b\b\b\b\b\b\b\b\b\b\b\b\b\b\b\b 94% - train.csv\b\b\b\b\b\b\b\b\b\b\b\b\b\b\b\b                \b\b\b\b\b\b\b\b\b\b\b\b\b\b\b\b 95% - train.csv\b\b\b\b\b\b\b\b\b\b\b\b\b\b\b\b                \b\b\b\b\b\b\b\b\b\b\b\b\b\b\b\b 96% - train.csv\b\b\b\b\b\b\b\b\b\b\b\b\b\b\b\b                \b\b\b\b\b\b\b\b\b\b\b\b\b\b\b\b 97% - train.csv\b\b\b\b\b\b\b\b\b\b\b\b\b\b\b\b                \b\b\b\b\b\b\b\b\b\b\b\b\b\b\b\b 98% - train.csv\b\b\b\b\b\b\b\b\b\b\b\b\b\b\b\b                \b\b\b\b\b\b\b\b\b\b\b\b\b\b\b\b 99% - train.csv\b\b\b\b\b\b\b\b\b\b\b\b\b\b\b\b                \b\b\b\b\b\b\b\b\b\b\b\b\b\b\b\b100% 1\b\b\b\b\b\b      \b\b\b\b\b\bEverything is Ok\n",
            "\n",
            "Size:       4997452288\n",
            "Compressed: 474092593\n",
            "Reading package lists... Done\n",
            "Building dependency tree       \n",
            "Reading state information... Done\n",
            "p7zip-full is already the newest version (16.02+dfsg-6).\n",
            "0 upgraded, 0 newly installed, 0 to remove and 13 not upgraded.\n",
            "\n",
            "7-Zip (a) [64] 16.02 : Copyright (c) 1999-2016 Igor Pavlov : 2016-05-21\n",
            "p7zip Version 16.02 (locale=en_US.UTF-8,Utf16=on,HugeFiles=on,64 bits,4 CPUs Intel(R) Xeon(R) CPU @ 2.30GHz (306F0),ASM,AES-NI)\n",
            "\n",
            "Scanning the drive for archives:\n",
            "  0M Scan\b\b\b\b\b\b\b\b\b         \b\b\b\b\b\b\b\b\b1 file, 4885065 bytes (4771 KiB)\n",
            "\n",
            "Extracting archive: grocery_data/test.csv.7z\n",
            "--\n",
            "Path = grocery_data/test.csv.7z\n",
            "Type = 7z\n",
            "Physical Size = 4885065\n",
            "Headers Size = 122\n",
            "Method = LZMA2:24\n",
            "Solid = -\n",
            "Blocks = 1\n",
            "\n",
            "  0%\b\b\b\b    \b\b\b\b 23% - test.csv\b\b\b\b\b\b\b\b\b\b\b\b\b\b\b               \b\b\b\b\b\b\b\b\b\b\b\b\b\b\b 46% - test.csv\b\b\b\b\b\b\b\b\b\b\b\b\b\b\b               \b\b\b\b\b\b\b\b\b\b\b\b\b\b\b 73% - test.csv\b\b\b\b\b\b\b\b\b\b\b\b\b\b\b               \b\b\b\b\b\b\b\b\b\b\b\b\b\b\b 96% - test.csv\b\b\b\b\b\b\b\b\b\b\b\b\b\b\b               \b\b\b\b\b\b\b\b\b\b\b\b\b\b\bEverything is Ok\n",
            "\n",
            "Size:       126163026\n",
            "Compressed: 4885065\n",
            "Reading package lists... Done\n",
            "Building dependency tree       \n",
            "Reading state information... Done\n",
            "p7zip-full is already the newest version (16.02+dfsg-6).\n",
            "0 upgraded, 0 newly installed, 0 to remove and 13 not upgraded.\n",
            "\n",
            "7-Zip (a) [64] 16.02 : Copyright (c) 1999-2016 Igor Pavlov : 2016-05-21\n",
            "p7zip Version 16.02 (locale=en_US.UTF-8,Utf16=on,HugeFiles=on,64 bits,4 CPUs Intel(R) Xeon(R) CPU @ 2.30GHz (306F0),ASM,AES-NI)\n",
            "\n",
            "Scanning the drive for archives:\n",
            "  0M Scan\b\b\b\b\b\b\b\b\b         \b\b\b\b\b\b\b\b\b1 file, 666528 bytes (651 KiB)\n",
            "\n",
            "Extracting archive: grocery_data/sample_submission.csv.7z\n",
            "--\n",
            "Path = grocery_data/sample_submission.csv.7z\n",
            "Type = 7z\n",
            "Physical Size = 666528\n",
            "Headers Size = 146\n",
            "Method = LZMA2:24\n",
            "Solid = -\n",
            "Blocks = 1\n",
            "\n",
            "  0%\b\b\b\b    \b\b\b\b 82% - sample_submission.csv\b\b\b\b\b\b\b\b\b\b\b\b\b\b\b\b\b\b\b\b\b\b\b\b\b\b\b\b                            \b\b\b\b\b\b\b\b\b\b\b\b\b\b\b\b\b\b\b\b\b\b\b\b\b\b\b\bEverything is Ok\n",
            "\n",
            "Size:       40445582\n",
            "Compressed: 666528\n",
            "Reading package lists... Done\n",
            "Building dependency tree       \n",
            "Reading state information... Done\n",
            "p7zip-full is already the newest version (16.02+dfsg-6).\n",
            "0 upgraded, 0 newly installed, 0 to remove and 13 not upgraded.\n",
            "\n",
            "7-Zip (a) [64] 16.02 : Copyright (c) 1999-2016 Igor Pavlov : 2016-05-21\n",
            "p7zip Version 16.02 (locale=en_US.UTF-8,Utf16=on,HugeFiles=on,64 bits,4 CPUs Intel(R) Xeon(R) CPU @ 2.30GHz (306F0),ASM,AES-NI)\n",
            "\n",
            "Scanning the drive for archives:\n",
            "  0M Scan\b\b\b\b\b\b\b\b\b         \b\b\b\b\b\b\b\b\b1 file, 648 bytes (1 KiB)\n",
            "\n",
            "Extracting archive: grocery_data/stores.csv.7z\n",
            "--\n",
            "Path = grocery_data/stores.csv.7z\n",
            "Type = 7z\n",
            "Physical Size = 648\n",
            "Headers Size = 130\n",
            "Method = LZMA2:12\n",
            "Solid = -\n",
            "Blocks = 1\n",
            "\n",
            "  0%\b\b\b\b    \b\b\b\bEverything is Ok\n",
            "\n",
            "Size:       1387\n",
            "Compressed: 648\n",
            "Reading package lists... Done\n",
            "Building dependency tree       \n",
            "Reading state information... Done\n",
            "p7zip-full is already the newest version (16.02+dfsg-6).\n",
            "0 upgraded, 0 newly installed, 0 to remove and 13 not upgraded.\n",
            "\n",
            "7-Zip (a) [64] 16.02 : Copyright (c) 1999-2016 Igor Pavlov : 2016-05-21\n",
            "p7zip Version 16.02 (locale=en_US.UTF-8,Utf16=on,HugeFiles=on,64 bits,4 CPUs Intel(R) Xeon(R) CPU @ 2.30GHz (306F0),ASM,AES-NI)\n",
            "\n",
            "Scanning the drive for archives:\n",
            "  0M Scan\b\b\b\b\b\b\b\b\b         \b\b\b\b\b\b\b\b\b1 file, 14315 bytes (14 KiB)\n",
            "\n",
            "Extracting archive: grocery_data/items.csv.7z\n",
            "--\n",
            "Path = grocery_data/items.csv.7z\n",
            "Type = 7z\n",
            "Physical Size = 14315\n",
            "Headers Size = 122\n",
            "Method = LZMA2:17\n",
            "Solid = -\n",
            "Blocks = 1\n",
            "\n",
            "  0%\b\b\b\b    \b\b\b\bEverything is Ok\n",
            "\n",
            "Size:       101841\n",
            "Compressed: 14315\n",
            "Reading package lists... Done\n",
            "Building dependency tree       \n",
            "Reading state information... Done\n",
            "p7zip-full is already the newest version (16.02+dfsg-6).\n",
            "0 upgraded, 0 newly installed, 0 to remove and 13 not upgraded.\n",
            "\n",
            "7-Zip (a) [64] 16.02 : Copyright (c) 1999-2016 Igor Pavlov : 2016-05-21\n",
            "p7zip Version 16.02 (locale=en_US.UTF-8,Utf16=on,HugeFiles=on,64 bits,4 CPUs Intel(R) Xeon(R) CPU @ 2.30GHz (306F0),ASM,AES-NI)\n",
            "\n",
            "Scanning the drive for archives:\n",
            "  0M Scan\b\b\b\b\b\b\b\b\b         \b\b\b\b\b\b\b\b\b1 file, 1898 bytes (2 KiB)\n",
            "\n",
            "Extracting archive: grocery_data/holidays_events.csv.7z\n",
            "--\n",
            "Path = grocery_data/holidays_events.csv.7z\n",
            "Type = 7z\n",
            "Physical Size = 1898\n",
            "Headers Size = 146\n",
            "Method = LZMA2:24k\n",
            "Solid = -\n",
            "Blocks = 1\n",
            "\n",
            "  0%\b\b\b\b    \b\b\b\bEverything is Ok\n",
            "\n",
            "Size:       22309\n",
            "Compressed: 1898\n"
          ],
          "name": "stdout"
        }
      ]
    },
    {
      "cell_type": "code",
      "metadata": {
        "id": "HVmNIUzQh9g9",
        "colab": {
          "base_uri": "https://localhost:8080/"
        },
        "outputId": "d2627d8c-f6b5-47d8-e868-a61360d177b5"
      },
      "source": [
        "train_df = pd.read_csv('train.csv')\n",
        "\n",
        "test_df = pd.read_csv('test.csv')\n",
        "\n",
        "submission_df = pd.read_csv('sample_submission.csv')\n",
        "\n",
        "stores_df = pd.read_csv('stores.csv')\n",
        "\n",
        "items_df = pd.read_csv('items.csv')\n",
        "\n",
        "holidays_df = pd.read_csv('holidays_events.csv')"
      ],
      "execution_count": 6,
      "outputs": [
        {
          "output_type": "stream",
          "text": [
            "/usr/local/lib/python3.7/dist-packages/IPython/core/interactiveshell.py:2718: DtypeWarning: Columns (5) have mixed types.Specify dtype option on import or set low_memory=False.\n",
            "  interactivity=interactivity, compiler=compiler, result=result)\n"
          ],
          "name": "stderr"
        }
      ]
    },
    {
      "cell_type": "markdown",
      "metadata": {
        "id": "c91SwPe-EI-U"
      },
      "source": [
        "# Data Pre-Processing"
      ]
    },
    {
      "cell_type": "markdown",
      "metadata": {
        "id": "lRanRNLzldOi"
      },
      "source": [
        "### Cleaning out the holidays + Subsampling the dataframe\n",
        "\n",
        "1. Removing all sales data from holidays\n",
        "2. Samples and merges the data"
      ]
    },
    {
      "cell_type": "code",
      "metadata": {
        "id": "LBYR-5_ojaE5"
      },
      "source": [
        "# Removing all sales data on holidays\n",
        "\n",
        "exclude_dates = list(holidays_df['date'].unique())\n",
        "all_dates = list(train_df['date'].unique())\n",
        "include_dates = []\n",
        "\n",
        "for date in all_dates:\n",
        "  if date not in exclude_dates:\n",
        "    include_dates.append(date)\n",
        "\n",
        "train = train_df[train_df['date'].isin(include_dates)]"
      ],
      "execution_count": 7,
      "outputs": []
    },
    {
      "cell_type": "code",
      "metadata": {
        "id": "4P5MB1-ijwoZ"
      },
      "source": [
        "# Sampling and merging the dataframe\n",
        "\n",
        "sampled_df = train.sample(frac=1/250)\n",
        "\n",
        "merged_df = pd.merge(left=sampled_df, right=items_df, left_on='item_nbr', right_on='item_nbr')\n",
        "merged_df = pd.merge(left=merged_df, right=stores_df, left_on='store_nbr', right_on='store_nbr')\n",
        "\n",
        "total_items = np.ones(len(merged_df))\n",
        "merged_df['total_items'] = total_items"
      ],
      "execution_count": null,
      "outputs": []
    },
    {
      "cell_type": "markdown",
      "metadata": {
        "id": "YVcG_bupEKUS"
      },
      "source": [
        "# Feature Vector Creation + Error Metric Functions"
      ]
    },
    {
      "cell_type": "markdown",
      "metadata": {
        "id": "ssZqcaa0j7eh"
      },
      "source": [
        "### Feature vector creation functions\n",
        "\n",
        "Use these functions to format data in a way where we can pass it in to machine learning models."
      ]
    },
    {
      "cell_type": "code",
      "metadata": {
        "id": "g6nXi0KJj1Yg"
      },
      "source": [
        "# get_type_sales - get the sales in all stores of a certain type\n",
        "\n",
        "def get_type_sales(type_name):\n",
        "  stores = np.array(stores_df.loc[stores_df['type'] == type_name, 'store_nbr'])\n",
        "\n",
        "  frames = []\n",
        "  for i in range(len(stores)):\n",
        "    temp_df = train[train['store_nbr'] == stores[i]]\n",
        "    frames.append(temp_df)\n",
        "\n",
        "  df = pd.concat(frames)\n",
        "\n",
        "  return df"
      ],
      "execution_count": 8,
      "outputs": []
    },
    {
      "cell_type": "code",
      "metadata": {
        "id": "w5WfAZqtlJ1y"
      },
      "source": [
        "# get_most_popular_item - gets the most popular item based on transactions in a single or a set of stores\n",
        "\n",
        "def get_most_popular_item(df):\n",
        "  # helps us track transactions\n",
        "  total_items = np.ones(len(df))\n",
        "  df['total_items'] = total_items\n",
        "\n",
        "  # grouping df by item to get transactions of all items\n",
        "  df_grouped = df.groupby(['item_nbr']).sum()\n",
        "\n",
        "  # creating items and sales arrays for a dictionary\n",
        "  sales_dict = {}\n",
        "  items = np.array(df['item_nbr'].unique())\n",
        "  sales = np.array(df_grouped['total_items'])\n",
        "\n",
        "  # adding the sales of each item to the sales_dict dictionary\n",
        "  for i in range(len(items)):\n",
        "    item = items[i]\n",
        "    sales_num = sales[i]\n",
        "\n",
        "    sales_dict[item] = sales_num\n",
        "\n",
        "  # sorting the dictionary that contains sales data for each item\n",
        "  sorted_sales = sorted(sales_dict.items(), key=lambda x: x[1], reverse=True)\n",
        "\n",
        "  # returning the most popular item\n",
        "  return sorted_sales[0][0]"
      ],
      "execution_count": 9,
      "outputs": []
    },
    {
      "cell_type": "code",
      "metadata": {
        "id": "RjxerqXImyhP"
      },
      "source": [
        "# plot_one_item - plots the sales of one item over time\n",
        "\n",
        "def plot_one_item(item, isType, typeNum): # isType - determines if I want to plot all sales or just sales from one type of store\n",
        "\n",
        "  # based on whether or not we are getting sales from a single type, we create temp_df accordingly\n",
        "  if not isType:\n",
        "    temp_df = train[train['item_nbr'] == item]\n",
        "  else:\n",
        "    temp_df = get_type_sales(typeNum)\n",
        "    \n",
        "  # grouping the dataframe by date so we can get transactions for each day\n",
        "  temp_df_grouped = temp_df.groupby(['date']).sum()\n",
        "\n",
        "  # creating lists of sales and dates to plot\n",
        "  sales = np.array(temp_df_grouped['unit_sales'])\n",
        "  dates = np.array(temp_df['date'].unique())\n",
        "\n",
        "  # plotting the sales and dates\n",
        "  plt.plot(dates, sales)\n",
        "  plt.xlabel('Time (in days)')\n",
        "  plt.ylabel('Unit Sales of Item ' + str(item))\n",
        "  plt.title('Unit Sales of Item ' + str(item) + ' over time')"
      ],
      "execution_count": 10,
      "outputs": []
    },
    {
      "cell_type": "code",
      "metadata": {
        "id": "2lHGfggPm_kq",
        "colab": {
          "base_uri": "https://localhost:8080/",
          "height": 295
        },
        "outputId": "4ac25bab-7eaa-409c-f260-6625065e9349"
      },
      "source": [
        "# sample function call\n",
        "type_num = 'A'\n",
        "\n",
        "plot_one_item(get_most_popular_item(get_type_sales(type_num)), True, type_num)"
      ],
      "execution_count": 11,
      "outputs": [
        {
          "output_type": "display_data",
          "data": {
            "image/png": "[encoded data removed]",
            "text/plain": [
              "<Figure size 432x288 with 1 Axes>"
            ]
          },
          "metadata": {
            "tags": [],
            "needs_background": "light"
          }
        }
      ]
    },
    {
      "cell_type": "markdown",
      "metadata": {
        "id": "q46zw1kpAOrQ"
      },
      "source": [
        "#### `construct_predictor_vectors` function\n",
        "\n",
        "Contains `construct_predictor_vectors` function implementation.\n",
        "\n",
        "Used in `preprocess` function."
      ]
    },
    {
      "cell_type": "code",
      "metadata": {
        "id": "85F4ck7OAWSj"
      },
      "source": [
        "# construct_predictor_vectors - takes in the X_data, the y_data, and the num_days (50) to create linreg feature vectors\n",
        "\n",
        "def construct_predictor_vectors(X_data, y_data, seq_length):\n",
        "  num_examples = X_data.shape[0] - seq_length\n",
        "\n",
        "  X = np.zeros((num_examples, seq_length, X_data.shape[1]))\n",
        "  y = np.zeros((num_examples, y_data.shape[1]))\n",
        "\n",
        "  for i in range(num_examples):\n",
        "    X[i, :, :] = X_data[i : i + seq_length, :]\n",
        "    y[i,:] = y_data[i + seq_length - 1, :]\n",
        "\n",
        "  X = np.reshape(X, (X.shape[0], X.shape[1]))\n",
        "  y = np.reshape(y, (y.shape[0], y.shape[1]))\n",
        "\n",
        "  return (X, y)"
      ],
      "execution_count": 12,
      "outputs": []
    },
    {
      "cell_type": "markdown",
      "metadata": {
        "id": "s450E0I1xto4"
      },
      "source": [
        "#### `preprocess`\r\n",
        "\r\n",
        "Creates `X_train`, `y_train`, `X_val`, `y_val`, `X_test`, `y_test` feature arrays.\r\n",
        "\r\n",
        "**This is the main pre-processing function.**"
      ]
    },
    {
      "cell_type": "code",
      "metadata": {
        "id": "Pk8JdnyMREx_"
      },
      "source": [
        "# create_feature_vector_type - multiple stores, single item\n",
        "# inputs: type and item numbers, days_in_future, and num_past (how many days in the past we look at for data)\n",
        "# outputs: linreg-ready vectors with onpromotion and store_nbr as a feature\n",
        "\n",
        "def create_feature_vector_type_no_rescale(type_nbr, test_store, item_nbr, days_in_future, num_past):\n",
        "\n",
        "  # creating dataframe with data from a specific type of stores and a specific item\n",
        "  df = get_type_sales(type_nbr)\n",
        "  df = df[df['item_nbr'] == item_nbr]\n",
        "\n",
        "  # defining this for one-hot coding of store numbers\n",
        "  i = 0\n",
        "\n",
        "  # master lists -- contain x & y and train & test for each store\n",
        "  X_train_list = []\n",
        "  X_test_list = []\n",
        "  y_train_list = []\n",
        "  y_test_list = []\n",
        "\n",
        "  # capturing the test_dates so we can return it --> use for story plots\n",
        "  train_dates_list = []\n",
        "  test_dates_list = []\n",
        "\n",
        "  # capturing store numbers to put in the dataframe\n",
        "  train_store_nbr_list = []\n",
        "  test_store_nbr_list = []\n",
        "\n",
        "  # creating a list of stores to loop through\n",
        "  loop_stores = [test_store]\n",
        "  \n",
        "  for store in df['store_nbr'].unique():\n",
        "    if store != test_store:\n",
        "      loop_stores.append(store)\n",
        "\n",
        "  # creating restriction days for the test_store\n",
        "  min_train_date = \"\"\n",
        "  max_train_date = \"\"\n",
        "\n",
        "  for store in loop_stores: # looping through all stores\n",
        "\n",
        "    # using this as train-test split\n",
        "    test_split = 0.20\n",
        "\n",
        "    # creating a df for this particular store\n",
        "    temp_df = df[df['store_nbr'] == store]\n",
        "\n",
        "    # removing all dates that are not within the limits\n",
        "    # these limits are established by the training section of test_store\n",
        "    if store != test_store:\n",
        "      temp_df = temp_df[temp_df['date'] <= max_train_date]\n",
        "\n",
        "    # Filling the NaN values with False\n",
        "    temp_df = temp_df.fillna(False, axis=1)\n",
        "\n",
        "    # changing False to 0 and True to 1\n",
        "    temp_df['onpromotion'] = temp_df['onpromotion'].map({False:0, True:1})\n",
        "\n",
        "    # getting dates\n",
        "    temp_dates = np.array(temp_df['date'].unique())[0:-1 * days_in_future]  \n",
        "\n",
        "    # getting sales by day\n",
        "    temp_df = temp_df.groupby(['date']).sum()\n",
        "\n",
        "    # sorting the df by day\n",
        "    temp_df.sort_values(by=['date'])\n",
        "\n",
        "    # creating store and promo arrays\n",
        "    store_arr = np.array(temp_df['store_nbr'])\n",
        "    promo_arr = np.array(temp_df['onpromotion'])\n",
        "\n",
        "    # FOCUSING ON THE SALES\n",
        "\n",
        "    # dropping all not needed columns\n",
        "    temp_df = temp_df[['unit_sales']]\n",
        "\n",
        "    # creating a labels dataframe\n",
        "    labels = temp_df.shift(-1 * days_in_future)\n",
        "\n",
        "    # Creating X and y features\n",
        "    X = np.array(temp_df['unit_sales'])[0:-1 * days_in_future]\n",
        "    y = np.array(labels['unit_sales'])[0:-1 * days_in_future]\n",
        "\n",
        "    # FOCUSING ON THE STORES\n",
        "    \n",
        "    if (len(temp_df) - days_in_future - num_past) > 0:\n",
        "\n",
        "      # reshaping the data to rescale\n",
        "      X = np.reshape(X, (X.shape[0], 1))\n",
        "      y = np.reshape(y, (y.shape[0], 1))\n",
        "\n",
        "      # rescaling the data between 0 and 1\n",
        "      x_scaler = MinMaxScaler()\n",
        "      # X_res = x_scaler.fit_transform(X)\n",
        "      X_res = X\n",
        "\n",
        "      y_scaler = MinMaxScaler()\n",
        "      # y_res = y_scaler.fit_transform(y)\n",
        "      y_res = y\n",
        "\n",
        "      # one-hot encoding stores\n",
        "      store_arr_1h = np.zeros((len(temp_df) - days_in_future - num_past, len(df['store_nbr'].unique())))\n",
        "      for j in range(len(temp_df) - days_in_future - num_past):\n",
        "        store_arr_1h[j][i] = 1\n",
        "\n",
        "      test_amount = math.ceil((len(X_res) - num_past) * test_split)\n",
        "          \n",
        "      # MERGING THE SALES, STORES, AND PROMO TOGETHER\n",
        "      \n",
        "      if test_amount > num_past: # this prevents us from getting negative numbers in the numpy array\n",
        "\n",
        "        # removing the last num_past values for dates\n",
        "        temp_dates = temp_dates[:-num_past]\n",
        "\n",
        "        # splitting the dates into train and test\n",
        "        train_dates = temp_dates[0:-1 * test_amount]\n",
        "        test_dates = temp_dates[-1 * test_amount:]\n",
        "        \n",
        "        if store == test_store:\n",
        "          min_train_date = train_dates[0]\n",
        "          max_train_date = train_dates[-1]\n",
        "        \n",
        "        # else:\n",
        "        #   for i in range(len(train_dates)):\n",
        "        #     if train_dates[i] < min_train_date or train_dates[i] > max_train_date:\n",
        "        #       np.delete(train_dates, i)\n",
        "\n",
        "        # appending to the master date lists\n",
        "        train_dates_list.append(train_dates)        \n",
        "\n",
        "        # splitting the stores into train and test\n",
        "        store_train = store_arr_1h[0:-1 * test_amount, :]\n",
        "        store_test = store_arr_1h[-1 * test_amount:, :]\n",
        "      \n",
        "        # FOCUSING ON THE PROMO\n",
        "\n",
        "        # shifting the promo values, as we did to the labels for unit_sales\n",
        "        promo_arr = np.roll(promo_arr, -1 * days_in_future)\n",
        "\n",
        "        # removing the last days_in_future values\n",
        "        promo_arr = promo_arr[0:-1 * days_in_future]\n",
        "\n",
        "        # removing the last num_past values\n",
        "        promo_arr = promo_arr[:-num_past]\n",
        "\n",
        "        # splitting the promo values into train and test\n",
        "        promo_train = promo_arr[0:-1 * test_amount]\n",
        "        promo_test = promo_arr[-1 * test_amount:]\n",
        "\n",
        "        # constructing the predictor vectors\n",
        "        X_vec, y_vec = construct_predictor_vectors(X_res, y_res, num_past)\n",
        "\n",
        "        # splitting into train and test -- 80-20 split of train-test\n",
        "        X_train, X_test, y_train, y_test = train_test_split(X_vec, y_vec, shuffle=False, test_size=test_split)\n",
        "        \n",
        "\n",
        "        # reshaping the promos to put them together with sales\n",
        "        promo_train = np.reshape(promo_train, (promo_train.shape[0], 1))\n",
        "        promo_test = np.reshape(promo_test, (promo_test.shape[0], 1))\n",
        "\n",
        "        # putting the promos and sales together\n",
        "        X_feature_train = np.concatenate((X_train, promo_train), axis=1)\n",
        "        X_feature_test = np.concatenate((X_test, promo_test), axis=1)\n",
        "\n",
        "        # putting the store number and sales & promos together\n",
        "        X_feature_train = np.concatenate((X_feature_train, store_train), axis=1)\n",
        "        X_feature_test = np.concatenate((X_feature_test, store_test), axis=1)\n",
        "\n",
        "               \n",
        "        # appending to the master lists\n",
        "        X_train_list.append(X_feature_train)\n",
        "        y_train_list.append(y_train)\n",
        "\n",
        "        # adding to the store list\n",
        "        train_store_nbr_list.append(np.ones(len(X_train)) * store)\n",
        "\n",
        "        if store == test_store:\n",
        "          X_test_list.append(X_feature_test)\n",
        "          y_test_list.append(y_test)\n",
        "          test_dates_list.append(test_dates)\n",
        "\n",
        "    else:\n",
        "      continue\n",
        "      # raise Exception(\"There is not enough data to construct feature vectors for store \" + str(store))\n",
        "  \n",
        "  if len(X_train_list) > 0 and len(X_test_list) > 0:\n",
        "\n",
        "    # creating global x & y and train & test\n",
        "    X_train = X_train_list[0]\n",
        "    y_train = y_train_list[0]\n",
        "\n",
        "    X_test = X_test_list[0]\n",
        "    y_test = y_test_list[0]\n",
        "   \n",
        "    # concatenating all the data together\n",
        "    for i in range(1, len(X_train_list)):\n",
        "      X_train = np.concatenate((X_train, X_train_list[i]), axis=0)\n",
        "      y_train = np.concatenate((y_train, y_train_list[i]), axis=0)\n",
        "\n",
        "    # concatenating all the dates together\n",
        "    train_dates_concat = np.array(train_dates_list[0])\n",
        "    test_dates_concat = np.array(test_dates_list[0])\n",
        "\n",
        "    for i in range(1, len(train_dates_list)):\n",
        "      train_dates_concat = np.concatenate((train_dates_concat, train_dates_list[i]), axis=0)\n",
        "  \n",
        "    # concatenating all the train store_nbrs together\n",
        "    store_train_concat = np.array(train_store_nbr_list[0])\n",
        "\n",
        "    for i in range(1, len(train_store_nbr_list)):\n",
        "      store_train_concat = np.concatenate((store_train_concat, train_store_nbr_list[i]), axis=0)\n",
        "    \n",
        "    # randomize the data\n",
        "\n",
        "    np.random.seed(10)\n",
        "    np.random.shuffle(X_train)\n",
        "    np.random.seed(10)\n",
        "    np.random.shuffle(y_train)\n",
        "    np.random.seed(10)\n",
        "    np.random.shuffle(train_dates_concat)\n",
        "    np.random.seed(10)\n",
        "    np.random.shuffle(store_train_concat)\n",
        "\n",
        "    # creating list of test_stores\n",
        "    store_nbr_list = np.ones(len(test_dates_concat)) * test_store\n",
        "\n",
        "    # creating new reshaped arrays for the dataframe\n",
        "\n",
        "    # train\n",
        "    train_dates_concat_df = np.reshape(train_dates_concat, (train_dates_concat.shape[0]))\n",
        "    store_train_concat_df = np.reshape(store_train_concat, (store_train_concat.shape[0]))\n",
        "    y_train_df = np.reshape(y_train, (y_train.shape[0]))\n",
        "\n",
        "    # test\n",
        "    test_dates_concat_df = np.reshape(test_dates_concat, (test_dates_concat.shape[0]))\n",
        "    store_nbr_list_df = np.reshape(store_nbr_list, (store_nbr_list.shape[0]))\n",
        "    y_test_df = np.reshape(y_test, (y_test.shape[0]))\n",
        "\n",
        "    # creating the dictionaries\n",
        "    ml_train_dict = {\n",
        "        'features': [],\n",
        "        'date': train_dates_concat_df,\n",
        "        'store_nbr': store_train_concat_df,\n",
        "        'labels': y_train_df\n",
        "    }\n",
        "\n",
        "    ml_test_dict = {\n",
        "        'features': [],\n",
        "        'date': test_dates_concat_df,\n",
        "        'store_nbr': store_nbr_list_df,\n",
        "        'labels': y_test_df\n",
        "    }\n",
        "\n",
        "    # going through all the X_train's and adding the feature vectors to the dictionary\n",
        "    for i in range(X_train.shape[0]):\n",
        "      temp_feature_vector = X_train[i]\n",
        "      temp_feature_vector = np.reshape(temp_feature_vector, (temp_feature_vector.shape[0]))\n",
        "      temp_feature_vector = list(temp_feature_vector)\n",
        "      ml_train_dict['features'].append(temp_feature_vector)\n",
        "    \n",
        "    # going through all the X_test's and adding the feature vectors to the dictionary\n",
        "    for i in range(X_test.shape[0]):\n",
        "      temp_feature_vector = X_test[i]\n",
        "      temp_feature_vector = np.reshape(temp_feature_vector, (temp_feature_vector.shape[0]))\n",
        "      ml_test_dict['features'].append(temp_feature_vector)\n",
        "\n",
        "    # creating the dataframes\n",
        "    ml_train = pd.DataFrame(ml_train_dict)\n",
        "    ml_test = pd.DataFrame(ml_test_dict)\n",
        "\n",
        "    return X_train, X_test, y_train, y_test, ml_train, ml_test\n",
        "  else:\n",
        "    #return np.zeros(0), 0, 0, 0, 0, 0\n",
        "    return np.zeros(0), np.zeros(0), 0, 0, 0, 0"
      ],
      "execution_count": 18,
      "outputs": []
    },
    {
      "cell_type": "code",
      "metadata": {
        "id": "uw1o66exA7yB"
      },
      "source": [
        "# preprocess - multiple stores, single item\r\n",
        "# inputs: type and item numbers, days_in_future, and num_past (how many days in the past we look at for data)\r\n",
        "# outputs: linreg-ready vectors with onpromotion and store_nbr as a feature\r\n",
        "\r\n",
        "def preprocess(type_nbr, test_store, item_nbr, days_in_future, num_past):\r\n",
        "\r\n",
        "  # creating dataframe with data from a specific type of stores and a specific item\r\n",
        "  df = get_type_sales(type_nbr)\r\n",
        "  df = df[df['item_nbr'] == item_nbr]\r\n",
        "\r\n",
        "  # defining this for one-hot encoding of store numbers\r\n",
        "  i = 0\r\n",
        "\r\n",
        "  # master lists -- contain x & y and train & test for each store\r\n",
        "  X_train_list = []\r\n",
        "  X_test_list = []\r\n",
        "  y_train_list = []\r\n",
        "  y_test_list = []\r\n",
        "\r\n",
        "  # capturing the test_dates so we can return it --> use for story plots\r\n",
        "  train_dates_list = []\r\n",
        "  test_dates_list = []\r\n",
        "\r\n",
        "  # capturing store numbers to put in the dataframe\r\n",
        "  train_store_nbr_list = []\r\n",
        "  test_store_nbr_list = []\r\n",
        "\r\n",
        "  # creating a list of stores to loop through\r\n",
        "  loop_stores = [test_store]\r\n",
        "  \r\n",
        "  for store in df['store_nbr'].unique():\r\n",
        "    if store != test_store:\r\n",
        "      loop_stores.append(store)\r\n",
        "\r\n",
        "  # creating restriction days for the test_store\r\n",
        "  min_train_date = \"\"\r\n",
        "  max_train_date = \"\"\r\n",
        "\r\n",
        "  for store in loop_stores: # looping through all stores\r\n",
        "\r\n",
        "    # using this as train-test split\r\n",
        "    test_split = 0.30\r\n",
        "\r\n",
        "    # creating a df for this particular store\r\n",
        "    temp_df = df[df['store_nbr'] == store]\r\n",
        "\r\n",
        "    # removing all dates that are not within the limits\r\n",
        "    # these limits are established by the training section of test_store\r\n",
        "    if store != test_store:\r\n",
        "      temp_df = temp_df[temp_df['date'] <= max_train_date]\r\n",
        "\r\n",
        "    # Filling the NaN values with False\r\n",
        "    temp_df = temp_df.fillna(False, axis=1)\r\n",
        "\r\n",
        "    # changing False to 0 and True to 1\r\n",
        "    temp_df['onpromotion'] = temp_df['onpromotion'].map({False:0, True:1})\r\n",
        "\r\n",
        "    # getting dates\r\n",
        "    temp_dates = np.array(temp_df['date'].unique())[0:-1 * days_in_future]  \r\n",
        "\r\n",
        "    # getting sales by day\r\n",
        "    temp_df = temp_df.groupby(['date']).sum()\r\n",
        "\r\n",
        "    # sorting the df by day\r\n",
        "    temp_df.sort_values(by=['date'])\r\n",
        "\r\n",
        "    # creating store and promo arrays\r\n",
        "    store_arr = np.array(temp_df['store_nbr'])\r\n",
        "    promo_arr = np.array(temp_df['onpromotion'])\r\n",
        "\r\n",
        "    # FOCUSING ON THE SALES\r\n",
        "\r\n",
        "    # dropping all not needed columns\r\n",
        "    temp_df = temp_df[['unit_sales']]\r\n",
        "\r\n",
        "    # creating a labels dataframe\r\n",
        "    labels = temp_df.shift(-1 * days_in_future)\r\n",
        "\r\n",
        "    # Creating X and y features\r\n",
        "    X = np.array(temp_df['unit_sales'])[0:-1 * days_in_future]\r\n",
        "    y = np.array(labels['unit_sales'])[0:-1 * days_in_future]\r\n",
        "\r\n",
        "    # FOCUSING ON THE STORES\r\n",
        "    \r\n",
        "    if (len(temp_df) - days_in_future - num_past) > 0:\r\n",
        "\r\n",
        "      # reshaping the data to rescale\r\n",
        "      X = np.reshape(X, (X.shape[0], 1))\r\n",
        "      y = np.reshape(y, (y.shape[0], 1))\r\n",
        "\r\n",
        "      # rescaling the data between 0 and 1\r\n",
        "      x_scaler = MinMaxScaler()\r\n",
        "      # X_res = x_scaler.fit_transform(X)\r\n",
        "      X_res = X\r\n",
        "\r\n",
        "      y_scaler = MinMaxScaler()\r\n",
        "      # y_res = y_scaler.fit_transform(y)\r\n",
        "      y_res = y\r\n",
        "\r\n",
        "      # one-hot encoding stores\r\n",
        "      store_arr_1h = np.zeros((len(temp_df) - days_in_future - num_past, len(df['store_nbr'].unique())))\r\n",
        "      for j in range(len(temp_df) - days_in_future - num_past):\r\n",
        "        store_arr_1h[j][i] = 1\r\n",
        "\r\n",
        "      test_amount = math.ceil((len(X_res) - num_past) * test_split)\r\n",
        "          \r\n",
        "      # MERGING THE SALES, STORES, AND PROMO TOGETHER\r\n",
        "      \r\n",
        "      if test_amount > num_past: # this prevents us from getting negative numbers in the numpy array\r\n",
        "\r\n",
        "        # removing the last num_past values for dates\r\n",
        "        temp_dates = temp_dates[:-num_past]\r\n",
        "\r\n",
        "        # splitting the dates into train and test\r\n",
        "        train_dates = temp_dates[0:-1 * test_amount]\r\n",
        "        test_dates = temp_dates[-1 * test_amount:]\r\n",
        "        \r\n",
        "        if store == test_store:\r\n",
        "          min_train_date = train_dates[0]\r\n",
        "          max_train_date = train_dates[-1]\r\n",
        "        \r\n",
        "        # else:\r\n",
        "        #   for i in range(len(train_dates)):\r\n",
        "        #     if train_dates[i] < min_train_date or train_dates[i] > max_train_date:\r\n",
        "        #       np.delete(train_dates, i)\r\n",
        "\r\n",
        "        # appending to the master date lists\r\n",
        "        train_dates_list.append(train_dates)        \r\n",
        "\r\n",
        "        # splitting the stores into train and test\r\n",
        "        store_train = store_arr_1h[0:-1 * test_amount, :]\r\n",
        "        store_test = store_arr_1h[-1 * test_amount:, :]\r\n",
        "      \r\n",
        "        # FOCUSING ON THE PROMO\r\n",
        "\r\n",
        "        # shifting the promo values, as we did to the labels for unit_sales\r\n",
        "        promo_arr = np.roll(promo_arr, -1 * days_in_future)\r\n",
        "\r\n",
        "        # removing the last days_in_future values\r\n",
        "        promo_arr = promo_arr[0:-1 * days_in_future]\r\n",
        "\r\n",
        "        # removing the last num_past values\r\n",
        "        promo_arr = promo_arr[:-num_past]\r\n",
        "\r\n",
        "        # splitting the promo values into train and test\r\n",
        "        promo_train = promo_arr[0:-1 * test_amount]\r\n",
        "        promo_test = promo_arr[-1 * test_amount:]\r\n",
        "\r\n",
        "        # constructing the predictor vectors\r\n",
        "        X_vec, y_vec = construct_predictor_vectors(X_res, y_res, num_past)\r\n",
        "\r\n",
        "        # splitting into train and test -- 80-20 split of train-test\r\n",
        "        X_train, X_test, y_train, y_test = train_test_split(X_vec, y_vec, shuffle=False, test_size=test_split)\r\n",
        "        \r\n",
        "\r\n",
        "        # reshaping the promos to put them together with sales\r\n",
        "        promo_train = np.reshape(promo_train, (promo_train.shape[0], 1))\r\n",
        "        promo_test = np.reshape(promo_test, (promo_test.shape[0], 1))\r\n",
        "\r\n",
        "        # putting the promos and sales together\r\n",
        "        X_feature_train = np.concatenate((X_train, promo_train), axis=1)\r\n",
        "        X_feature_test = np.concatenate((X_test, promo_test), axis=1)\r\n",
        "\r\n",
        "        # putting the store number and sales & promos together\r\n",
        "        X_feature_train = np.concatenate((X_feature_train, store_train), axis=1)\r\n",
        "        X_feature_test = np.concatenate((X_feature_test, store_test), axis=1)\r\n",
        "\r\n",
        "               \r\n",
        "        # appending to the master lists\r\n",
        "        X_train_list.append(X_feature_train)\r\n",
        "        y_train_list.append(y_train)\r\n",
        "\r\n",
        "        # adding to the store list\r\n",
        "        train_store_nbr_list.append(np.ones(len(X_train)) * store)\r\n",
        "\r\n",
        "        if store == test_store:\r\n",
        "          X_test_list.append(X_feature_test)\r\n",
        "          y_test_list.append(y_test)\r\n",
        "          test_dates_list.append(test_dates)\r\n",
        "\r\n",
        "    else:\r\n",
        "      continue\r\n",
        "      # raise Exception(\"There is not enough data to construct feature vectors for store \" + str(store))\r\n",
        "  \r\n",
        "  if len(X_train_list) > 0 and len(X_test_list) > 0:\r\n",
        "\r\n",
        "    # creating global x & y and train & test\r\n",
        "    X_train = X_train_list[0]\r\n",
        "    y_train = y_train_list[0]\r\n",
        "\r\n",
        "    X_test = X_test_list[0]\r\n",
        "    y_test = y_test_list[0]\r\n",
        "   \r\n",
        "    # concatenating all the data together\r\n",
        "    for i in range(1, len(X_train_list)):\r\n",
        "      X_train = np.concatenate((X_train, X_train_list[i]), axis=0)\r\n",
        "      y_train = np.concatenate((y_train, y_train_list[i]), axis=0)\r\n",
        "\r\n",
        "    # concatenating all the dates together\r\n",
        "    train_dates_concat = np.array(train_dates_list[0])\r\n",
        "    test_dates_concat = np.array(test_dates_list[0])\r\n",
        "\r\n",
        "    for i in range(1, len(train_dates_list)):\r\n",
        "      train_dates_concat = np.concatenate((train_dates_concat, train_dates_list[i]), axis=0)\r\n",
        "  \r\n",
        "    # concatenating all the train store_nbrs together\r\n",
        "    store_train_concat = np.array(train_store_nbr_list[0])\r\n",
        "\r\n",
        "    for i in range(1, len(train_store_nbr_list)):\r\n",
        "      store_train_concat = np.concatenate((store_train_concat, train_store_nbr_list[i]), axis=0)\r\n",
        "    \r\n",
        "    # randomize the data\r\n",
        "\r\n",
        "    np.random.seed(10)\r\n",
        "    np.random.shuffle(X_train)\r\n",
        "    np.random.seed(10)\r\n",
        "    np.random.shuffle(y_train)\r\n",
        "    np.random.seed(10)\r\n",
        "    np.random.shuffle(train_dates_concat)\r\n",
        "    np.random.seed(10)\r\n",
        "    np.random.shuffle(store_train_concat)\r\n",
        "\r\n",
        "    # creating list of test_stores\r\n",
        "    store_nbr_list = np.ones(len(test_dates_concat)) * test_store\r\n",
        "\r\n",
        "    # creating new reshaped arrays for the dataframe\r\n",
        "\r\n",
        "    # train\r\n",
        "    train_dates_concat_df = np.reshape(train_dates_concat, (train_dates_concat.shape[0]))\r\n",
        "    store_train_concat_df = np.reshape(store_train_concat, (store_train_concat.shape[0]))\r\n",
        "    y_train_df = np.reshape(y_train, (y_train.shape[0]))\r\n",
        "\r\n",
        "    # test\r\n",
        "    test_dates_concat_df = np.reshape(test_dates_concat, (test_dates_concat.shape[0]))\r\n",
        "    store_nbr_list_df = np.reshape(store_nbr_list, (store_nbr_list.shape[0]))\r\n",
        "    y_test_df = np.reshape(y_test, (y_test.shape[0]))\r\n",
        "\r\n",
        "    # creating the dictionaries\r\n",
        "    ml_train_dict = {\r\n",
        "        'features': [],\r\n",
        "        'date': train_dates_concat_df,\r\n",
        "        'store_nbr': store_train_concat_df,\r\n",
        "        'label': y_train_df\r\n",
        "    }\r\n",
        "\r\n",
        "    ml_test_dict = {\r\n",
        "        'features': [],\r\n",
        "        'date': test_dates_concat_df,\r\n",
        "        'store_nbr': store_nbr_list_df,\r\n",
        "        'label': y_test_df\r\n",
        "    }\r\n",
        "\r\n",
        "    # going through all the X_train's and adding the feature vectors to the dictionary\r\n",
        "    for i in range(X_train.shape[0]):\r\n",
        "      temp_feature_vector = X_train[i]\r\n",
        "      temp_feature_vector = np.reshape(temp_feature_vector, (temp_feature_vector.shape[0]))\r\n",
        "      temp_feature_vector = list(temp_feature_vector)\r\n",
        "      ml_train_dict['features'].append(temp_feature_vector)\r\n",
        "    \r\n",
        "    # going through all the X_test's and adding the feature vectors to the dictionary\r\n",
        "    for i in range(X_test.shape[0]):\r\n",
        "      temp_feature_vector = X_test[i]\r\n",
        "      temp_feature_vector = np.reshape(temp_feature_vector, (temp_feature_vector.shape[0]))\r\n",
        "      ml_test_dict['features'].append(temp_feature_vector)\r\n",
        "\r\n",
        "    # creating the dataframes\r\n",
        "    ml_train = pd.DataFrame(ml_train_dict)\r\n",
        "    ml_test = pd.DataFrame(ml_test_dict)\r\n",
        "\r\n",
        "    X_val, X_test, y_val, y_test = np.array_split(X_test, 2)[0], np.array_split(X_test, 2)[1], np.array_split(y_test, 2)[0], np.array_split(y_test, 2)[1]\r\n",
        "    ml_val, ml_test = np.array_split(ml_test, 2)[0], np.array_split(ml_test, 2)[1]\r\n",
        "\r\n",
        "    return X_train, X_val, X_test, y_train, y_val, y_test, ml_train, ml_val, ml_test\r\n",
        "  else:\r\n",
        "    return np.zeros(0), np.zeros(0), 0, 0, 0, 0, 0, 0, 0"
      ],
      "execution_count": 21,
      "outputs": []
    },
    {
      "cell_type": "code",
      "metadata": {
        "id": "R5XKIHepEtdc",
        "colab": {
          "base_uri": "https://localhost:8080/"
        },
        "outputId": "48ad0830-2695-45a9-f4af-0ec8b5782292"
      },
      "source": [
        "X_train, X_test, y_train, y_test, ml_train, ml_test = create_feature_vector_type_no_rescale('A', 49, 103665, 7, 25)\r\n",
        "print('Len of 1st X_train:', len(X_train))\r\n",
        "print('Len of 1st X_test:', len(X_test))\r\n",
        "X_train, X_val, X_test, y_train, y_val, y_test, ml_train, ml_val, ml_test = preprocess('A', 49, 103665, 7, 25)\r\n",
        "print('Len of 2nd X_train:', len(X_train))\r\n",
        "print('Len of X_val:', len(X_val))\r\n",
        "print('Len of 2nd X_test:', len(X_test))"
      ],
      "execution_count": 22,
      "outputs": [
        {
          "output_type": "stream",
          "text": [
            "Len of 1st X_train: 6812\n",
            "Len of 1st X_test: 257\n",
            "Len of 2nd X_train: 5331\n",
            "Len of X_val: 193\n",
            "Len of 2nd X_test: 193\n"
          ],
          "name": "stdout"
        }
      ]
    },
    {
      "cell_type": "markdown",
      "metadata": {
        "id": "Op5EXPrRHtzO"
      },
      "source": [
        "### Error Metrics"
      ]
    },
    {
      "cell_type": "markdown",
      "metadata": {
        "id": "slLisva3ZACU"
      },
      "source": [
        "#### `MAPE` function\n",
        "\n",
        "Calculates the MAPE with given `y_true` and `y_pred` NumPy arrays."
      ]
    },
    {
      "cell_type": "code",
      "metadata": {
        "id": "Y4Kaigr-FQbo"
      },
      "source": [
        "def mape_func(y_pred, labels, eps=0.001):\n",
        "  \"\"\"\n",
        "  Computes the MAPE given the labels and predictions.\n",
        "  \"\"\"\n",
        "\n",
        "  adj_labels = np.clip(abs(labels), eps, np.max(abs(labels)))\n",
        "  raw_pe = 100 * abs((adj_labels - y_pred)/abs(adj_labels))\n",
        "  adj_pe = np.clip(raw_pe, 0, 1/eps) # 1/eps is the maximum contribution\n",
        "\n",
        "  mape = np.mean(adj_pe)\n",
        "\n",
        "  return mape"
      ],
      "execution_count": 13,
      "outputs": []
    },
    {
      "cell_type": "markdown",
      "metadata": {
        "id": "EeXx6a-UGcoX"
      },
      "source": [
        "#### RMSLE function"
      ]
    },
    {
      "cell_type": "code",
      "metadata": {
        "id": "kEyrb2YlGfoV"
      },
      "source": [
        "from sklearn.metrics import mean_squared_log_error\r\n",
        "\r\n",
        "def rmsle(y_test, preds):\r\n",
        "\r\n",
        "  i = 0\r\n",
        "\r\n",
        "  while i < len(y_test):\r\n",
        "    if y_test[i] < 0:\r\n",
        "      y_test = np.delete(y_test, i, 0)\r\n",
        "      preds = np.delete(preds, i, 0)\r\n",
        "\r\n",
        "    j = 0\r\n",
        "    while i <= len(preds) - 1 and j < len(preds[i]):\r\n",
        "      if preds[i][j] < 0:\r\n",
        "        preds = np.delete(preds, i, 0)\r\n",
        "        y_test = np.delete(y_test, i, 0)\r\n",
        "      \r\n",
        "      j += 1\r\n",
        "    i += 1\r\n",
        "\r\n",
        "  return np.sqrt(mean_squared_log_error(y_test, preds))"
      ],
      "execution_count": 24,
      "outputs": []
    },
    {
      "cell_type": "markdown",
      "metadata": {
        "id": "IT6_NkJjELzV"
      },
      "source": [
        "# ML Models"
      ]
    },
    {
      "cell_type": "markdown",
      "metadata": {
        "id": "PV_pEOxoH9tY"
      },
      "source": [
        "### 90 Testing Items\r\n",
        "\r\n",
        "First, get all 90 items which we test on."
      ]
    },
    {
      "cell_type": "code",
      "metadata": {
        "id": "N-3PosnJObiF"
      },
      "source": [
        "# find all perishable items\r\n",
        "# find all items in the family\r\n",
        "# decrease the dataframe to just that store\r\n",
        "# decrease the dataframe so that it contains items that are in the family\r\n",
        "# go through all the items and find their average daily sales in temp_df\r\n",
        "# add the item number and average daily sales into a dictionary\r\n",
        "# sort this dictionary by value (and reverse it)\r\n",
        "# calculate the number of items this family needs to add - len(temp_df_items) / 986 = x / len(items_sorted)\r\n",
        "\r\n",
        "def create_family_items(family, store_input_nbr, total_len_items=100):\r\n",
        "\r\n",
        "  perishable_df = items_df[items_df['perishable'] == 1]\r\n",
        "  perishable_df = perishable_df[perishable_df['family'] == family]\r\n",
        "  family_items = perishable_df['item_nbr']\r\n",
        "\r\n",
        "  temp_df = train[train['store_nbr'] == store_input_nbr]\r\n",
        "  temp_df = temp_df[temp_df['item_nbr'].isin(family_items)]\r\n",
        "  temp_df_items = np.array(temp_df['item_nbr'].unique())\r\n",
        "\r\n",
        "  item_sales_dict = {}\r\n",
        "\r\n",
        "  for i in range(len(temp_df_items)):\r\n",
        "    temp_df_item = temp_df[temp_df['item_nbr'] == temp_df_items[i]]\r\n",
        "\r\n",
        "    temp_df_item = temp_df_item.groupby(['date']).sum()\r\n",
        "\r\n",
        "    mean_sales = np.mean(np.array(temp_df_item['unit_sales']))\r\n",
        "\r\n",
        "    item_sales_dict[temp_df_items[i]] = mean_sales\r\n",
        "\r\n",
        "  items_sorted = sorted(item_sales_dict, key=lambda x: item_sales_dict[x], reverse=True)\r\n",
        "\r\n",
        "  perishable_df = items_df[items_df['perishable'] == 1]\r\n",
        "\r\n",
        "  all_perishables = np.array(perishable_df['item_nbr'].unique())\r\n",
        "\r\n",
        "  temp_store_df = train[train['store_nbr'] == store_input_nbr]\r\n",
        "\r\n",
        "  temp_store_df = temp_store_df[temp_store_df['item_nbr'].isin(all_perishables)]\r\n",
        "\r\n",
        "  temp_store_perishables = len(temp_store_df['item_nbr'].unique())\r\n",
        "\r\n",
        "  family_items = items_df[items_df['family'] == family]\r\n",
        "  family_items = np.array(family_items['item_nbr'])\r\n",
        "\r\n",
        "  unique_store_items = np.array(temp_store_df['item_nbr'].unique())\r\n",
        "\r\n",
        "  temp_family_store_perishables = 0\r\n",
        "\r\n",
        "  for i in range(len(unique_store_items)):\r\n",
        "    if unique_store_items[i] in family_items:\r\n",
        "      temp_family_store_perishables += 1\r\n",
        "  \r\n",
        "  num_items_for_family = int((temp_family_store_perishables * 100) / temp_store_perishables)\r\n",
        "\r\n",
        "  return items_sorted[:num_items_for_family]"
      ],
      "execution_count": 27,
      "outputs": []
    },
    {
      "cell_type": "code",
      "metadata": {
        "id": "HVksu5quObiG",
        "colab": {
          "base_uri": "https://localhost:8080/"
        },
        "outputId": "a51c784c-3142-461e-f973-6a60dcea1cb4"
      },
      "source": [
        "# Next, we need to grab 90 highest-selling items on which we will run both linear regression and decision tree models\r\n",
        "\r\n",
        "perishable_df = items_df[items_df['perishable'] == 1]\r\n",
        "perishable_families = np.array(perishable_df['family'].unique())\r\n",
        "store_input_nbr = 49\r\n",
        "\r\n",
        "comparison_items = []\r\n",
        "family_items = []\r\n",
        "\r\n",
        "for family in (perishable_families):\r\n",
        "\r\n",
        "  comparison_items += create_family_items(family, store_input_nbr, 100)\r\n",
        "  family_items += create_family_items(family, store_input_nbr, 100)\r\n",
        "\r\n",
        "test_items = comparison_items\r\n",
        "len(test_items)"
      ],
      "execution_count": 28,
      "outputs": [
        {
          "output_type": "execute_result",
          "data": {
            "text/plain": [
              "95"
            ]
          },
          "metadata": {
            "tags": []
          },
          "execution_count": 28
        }
      ]
    },
    {
      "cell_type": "markdown",
      "metadata": {
        "id": "7XNgQs_aLGYf"
      },
      "source": [
        "## Baselines"
      ]
    },
    {
      "cell_type": "markdown",
      "metadata": {
        "id": "pdZnwZgtLLXp"
      },
      "source": [
        "### Predicting the Previous Day"
      ]
    },
    {
      "cell_type": "markdown",
      "metadata": {
        "id": "KaVh_lXbIa1X"
      },
      "source": [
        "Defining the function we will use to get the previous day's predictions."
      ]
    },
    {
      "cell_type": "code",
      "metadata": {
        "id": "eFla8KE9IdhQ"
      },
      "source": [
        "# baseline_prev_day - baseline model that uses the previous day's sales to make predictions\r\n",
        "# inputs - X_test, y_test, num_past\r\n",
        "# outputs - preds, mse\r\n",
        "\r\n",
        "def baseline_prev_day(X_test, y_test, num_past):\r\n",
        "  # defining some variables\r\n",
        "\r\n",
        "  num_test_examples = y_test.shape[0]\r\n",
        "  predict_index = num_past - 1\r\n",
        "  labels = y_test\r\n",
        "\r\n",
        "  # making predictions\r\n",
        "  preds = []\r\n",
        "\r\n",
        "  for i in range(num_test_examples):\r\n",
        "    preds.append(X_test[i][predict_index])\r\n",
        "\r\n",
        "  # reshaping preds and labels\r\n",
        "  preds = np.array(preds)\r\n",
        "  test_preds = np.reshape(preds, (preds.shape[0], 1))\r\n",
        "  labels = np.reshape(labels, (labels.shape[0], 1)) \r\n",
        "\r\n",
        "  # calculating mse, mae, and mape\r\n",
        "  mse = mean_squared_error(labels, test_preds)\r\n",
        "  mae = mean_absolute_error(labels, test_preds)\r\n",
        "  mape = mape_func(test_preds, labels)\r\n",
        "  \r\n",
        "  return test_preds, mse, mae, mape, labels"
      ],
      "execution_count": 31,
      "outputs": []
    },
    {
      "cell_type": "markdown",
      "metadata": {
        "id": "K5HCQ2vJNJWr"
      },
      "source": [
        "#### Exploring Results of One Item"
      ]
    },
    {
      "cell_type": "markdown",
      "metadata": {
        "id": "9ZMv8U2cMFFo"
      },
      "source": [
        "First, we need to get the predictions."
      ]
    },
    {
      "cell_type": "code",
      "metadata": {
        "id": "-LXJrE_1Lcjn"
      },
      "source": [
        "# setting variable names to get data\r\n",
        "type_inp = 'A'\r\n",
        "store_inp = 49\r\n",
        "item_inp = 1503844 # highest-selling item\r\n",
        "num_past_inp = 25\r\n",
        "days_in_future_inp = 7\r\n",
        "\r\n",
        "# getting data\r\n",
        "X_train, X_val, X_test, y_train, y_val, y_test, ml_train, ml_val, ml_test = preprocess(type_inp, store_inp, item_inp, days_in_future_inp, num_past_inp)\r\n",
        "\r\n",
        "# getting predictions\r\n",
        "prev_day_preds, prev_day_mse, prev_day_mae, prev_day_mape, prev_day_labels = baseline_prev_day(X_val, y_val, num_past_inp)"
      ],
      "execution_count": 32,
      "outputs": []
    },
    {
      "cell_type": "markdown",
      "metadata": {
        "id": "HJRnx9oHMpmi"
      },
      "source": [
        "Then, we need to figure out our error metrics."
      ]
    },
    {
      "cell_type": "code",
      "metadata": {
        "colab": {
          "base_uri": "https://localhost:8080/"
        },
        "id": "kbZ2pRSKMvOG",
        "outputId": "1451f579-f5f8-4cdf-ca2a-e3e43ac26279"
      },
      "source": [
        "# calculating MAPE and RMSLE\r\n",
        "prev_day_mape = prev_day_mape\r\n",
        "prev_day_rmsle = rmsle(prev_day_labels, prev_day_preds)\r\n",
        "\r\n",
        "# printing MAPE and RMSLE\r\n",
        "print('The MAPE was: '+ str(round(prev_day_mape, 2)) + '%')\r\n",
        "print('The RMSLE was: '+ str(round(prev_day_rmsle, 2)))"
      ],
      "execution_count": 33,
      "outputs": [
        {
          "output_type": "stream",
          "text": [
            "The MAPE was: 25.05%\n",
            "The RMSLE was: 0.32\n"
          ],
          "name": "stdout"
        }
      ]
    },
    {
      "cell_type": "markdown",
      "metadata": {
        "id": "N-5_J3pIMGfm"
      },
      "source": [
        "Now, we can plot the predictions against the labels."
      ]
    },
    {
      "cell_type": "code",
      "metadata": {
        "colab": {
          "base_uri": "https://localhost:8080/",
          "height": 354
        },
        "id": "qHKYrbXEMD7h",
        "outputId": "6aa02e2c-9077-4368-ec57-3b1ffc236ad6"
      },
      "source": [
        "# setting variable names\r\n",
        "num_days_plot = 100\r\n",
        "\r\n",
        "# plot settings\r\n",
        "plt.figure(figsize=(8, 5))\r\n",
        "plt.style.use('ggplot')\r\n",
        "plt.xlabel(str(num_days_plot) + ' Days')\r\n",
        "plt.ylabel('Unit Sales')\r\n",
        "plt.title('Predicted Unit Sales of Predicting the Previous Day')\r\n",
        "\r\n",
        "# plotting the arrays\r\n",
        "plt.plot(prev_day_preds[:num_days_plot], label='Predictions')\r\n",
        "plt.plot(prev_day_labels[:num_days_plot], label='Labels')\r\n",
        "plt.legend()\r\n",
        "plt.show()"
      ],
      "execution_count": 35,
      "outputs": [
        {
          "output_type": "display_data",
          "data": {
            "image/png": "[encoded data removed]",
            "text/plain": [
              "<Figure size 576x360 with 1 Axes>"
            ]
          },
          "metadata": {
            "tags": []
          }
        }
      ]
    },
    {
      "cell_type": "markdown",
      "metadata": {
        "id": "GqoJdCWNNMxM"
      },
      "source": [
        "#### Recording Results of All Items"
      ]
    },
    {
      "cell_type": "code",
      "metadata": {
        "colab": {
          "base_uri": "https://localhost:8080/",
          "height": 221
        },
        "id": "rTiREzMzOCsg",
        "outputId": "8f9a1a4e-2e1e-4f5d-eb3e-f4bf3d762f27"
      },
      "source": [
        "# setting variable names to get data\r\n",
        "type_inp = 'A'\r\n",
        "store_inp = 49\r\n",
        "num_past_inp = 25\r\n",
        "days_in_future_inp = 7\r\n",
        "\r\n",
        "# creating a dictionary to store data\r\n",
        "baseline_prev_day_dict = {'item_nbr': [], 'baseline_prev_day_mape': [], 'baseline_prev_day_rmsle': []}\r\n",
        "\r\n",
        "# looping through all items\r\n",
        "for item in tqdm(test_items):\r\n",
        "\r\n",
        "  # getting the data\r\n",
        "  X_train, X_val, X_test, y_train, y_val, y_test, ml_train, ml_val, ml_test = preprocess(type_inp, store_inp, item, days_in_future_inp, num_past_inp)\r\n",
        "\r\n",
        "  if X_train.size != 0:\r\n",
        "\r\n",
        "    # making predictions\r\n",
        "    prev_day_preds, prev_day_mse, prev_day_mae, prev_day_mape, prev_day_labels = baseline_prev_day(X_test, y_test, num_past_inp)\r\n",
        "\r\n",
        "    # calculating error metrics\r\n",
        "    prev_day_mape = prev_day_mape\r\n",
        "    prev_day_rmsle = rmsle(prev_day_labels, prev_day_preds)\r\n",
        "\r\n",
        "    # adding to dictionary\r\n",
        "    baseline_prev_day_dict['item_nbr'].append(item)\r\n",
        "    baseline_prev_day_dict['baseline_prev_day_mape'].append(prev_day_mape)\r\n",
        "    baseline_prev_day_dict['baseline_prev_day_rmsle'].append(prev_day_rmsle)\r\n",
        "\r\n",
        "# making a dataframe\r\n",
        "baseline_prev_day_df = pd.DataFrame(baseline_prev_day_dict)\r\n",
        "\r\n",
        "baseline_prev_day_df.head()"
      ],
      "execution_count": null,
      "outputs": [
        {
          "output_type": "stream",
          "text": [
            "100%|██████████| 95/95 [06:30<00:00,  4.11s/it]\n"
          ],
          "name": "stderr"
        },
        {
          "output_type": "execute_result",
          "data": {
            "text/html": [
              "<div>\n",
              "<style scoped>\n",
              "    .dataframe tbody tr th:only-of-type {\n",
              "        vertical-align: middle;\n",
              "    }\n",
              "\n",
              "    .dataframe tbody tr th {\n",
              "        vertical-align: top;\n",
              "    }\n",
              "\n",
              "    .dataframe thead th {\n",
              "        text-align: right;\n",
              "    }\n",
              "</style>\n",
              "<table border=\"1\" class=\"dataframe\">\n",
              "  <thead>\n",
              "    <tr style=\"text-align: right;\">\n",
              "      <th></th>\n",
              "      <th>item_nbr</th>\n",
              "      <th>baseline_prev_day_mape</th>\n",
              "      <th>baseline_prev_day_rmsle</th>\n",
              "    </tr>\n",
              "  </thead>\n",
              "  <tbody>\n",
              "    <tr>\n",
              "      <th>0</th>\n",
              "      <td>1333307</td>\n",
              "      <td>30.638109</td>\n",
              "      <td>0.361661</td>\n",
              "    </tr>\n",
              "    <tr>\n",
              "      <th>1</th>\n",
              "      <td>502331</td>\n",
              "      <td>27.303362</td>\n",
              "      <td>0.329036</td>\n",
              "    </tr>\n",
              "    <tr>\n",
              "      <th>2</th>\n",
              "      <td>1309246</td>\n",
              "      <td>38.986543</td>\n",
              "      <td>0.453673</td>\n",
              "    </tr>\n",
              "    <tr>\n",
              "      <th>3</th>\n",
              "      <td>1998005</td>\n",
              "      <td>25.139351</td>\n",
              "      <td>0.283449</td>\n",
              "    </tr>\n",
              "    <tr>\n",
              "      <th>4</th>\n",
              "      <td>1309245</td>\n",
              "      <td>136.967780</td>\n",
              "      <td>0.937779</td>\n",
              "    </tr>\n",
              "  </tbody>\n",
              "</table>\n",
              "</div>"
            ],
            "text/plain": [
              "   item_nbr  baseline_prev_day_mape  baseline_prev_day_rmsle\n",
              "0   1333307               30.638109                 0.361661\n",
              "1    502331               27.303362                 0.329036\n",
              "2   1309246               38.986543                 0.453673\n",
              "3   1998005               25.139351                 0.283449\n",
              "4   1309245              136.967780                 0.937779"
            ]
          },
          "metadata": {
            "tags": []
          },
          "execution_count": 108
        }
      ]
    },
    {
      "cell_type": "code",
      "metadata": {
        "id": "1RHAUmONqILj"
      },
      "source": [
        "# Now, I will save this df to a csv in google drive\r\n",
        "\r\n",
        "baseline_prev_day_df.to_csv('baseline_prev_day_results.csv')\r\n",
        "!cp baseline_prev_day_results.csv \"drive/My Drive/High School/Science Fair 2020/Machine Learning/Nitya Mentorship/Notebook Versions/Results/Model Results/Testing Results - 14 Days\""
      ],
      "execution_count": null,
      "outputs": []
    },
    {
      "cell_type": "markdown",
      "metadata": {
        "id": "VgwOv4HDLOCw"
      },
      "source": [
        "### EWMA"
      ]
    },
    {
      "cell_type": "markdown",
      "metadata": {
        "id": "S3L4mjy7I36o"
      },
      "source": [
        "We need to define the function we will use to make predictions."
      ]
    },
    {
      "cell_type": "code",
      "metadata": {
        "colab": {
          "base_uri": "https://localhost:8080/"
        },
        "id": "rmoVksntI3U5",
        "outputId": "decc0009-c9ef-460d-be25-52b5c0a3d64c"
      },
      "source": [
        "# ewma_baseline - computes the ewma\r\n",
        "# input: X_train, X_test, y_train, y_test\r\n",
        "# ouputs: preds, labels (unit_sales), mse\r\n",
        "\r\n",
        "def ewma_baseline(X_test, y_test, y_rescaler=0):\r\n",
        "  preds = []\r\n",
        "  for i in range(len(X_test)):\r\n",
        "    row = np.array(X_test[i])\r\n",
        "    single_test_example_df = pd.DataFrame({'unit_sales': row})\r\n",
        "    temp = np.array(single_test_example_df.ewm(com=X_test.shape[0]/2).mean()) # divide by 2 because that makes the center of mass the middle of X_test\r\n",
        "    preds.append(temp[len(temp) - 1])\r\n",
        "\r\n",
        "  # making sure the preds and labels are the same length\r\n",
        "  preds = np.array(preds)\r\n",
        "  preds = np.reshape(preds, (preds.shape[0], 1))\r\n",
        "\r\n",
        "  if type(y_rescaler) != int:\r\n",
        "    labels = y_rescaler.inverse_transform(y_test)\r\n",
        "    preds = y_rescaler.inverse_transform(preds)\r\n",
        "  else:\r\n",
        "    labels = y_test\r\n",
        "\r\n",
        "  # calculating mse, mae, and mape\r\n",
        "  mse = mean_squared_error(labels, preds)\r\n",
        "  mae = mean_absolute_error(labels, preds)\r\n",
        "  mape = mape_func(preds, labels)\r\n",
        "\r\n",
        "  return preds, mse, mae, mape, labels\r\n",
        "\r\n",
        "# setting variables for parameters\r\n",
        "item_input_nbr = 1926217\r\n",
        "type_input_nbr = 'A'\r\n",
        "days_in_future_input = 7\r\n",
        "num_past_input = 25\r\n",
        "ewma_num_past_input = 15\r\n",
        "store_nbr_input = 49\r\n",
        "\r\n",
        "# getting all preds and mse\r\n",
        "X_train, X_test, y_train, y_test, ml_train, ml_test = create_feature_vector_type_no_rescale(type_input_nbr, store_nbr_input, item_input_nbr, days_in_future_input, num_past_input)\r\n",
        "ewma_preds, ewma_mse, ewma_mae, ewma_mape, ewma_labels = ewma_baseline(X_test, y_test)\r\n",
        "\r\n",
        "print(ewma_mape)"
      ],
      "execution_count": 36,
      "outputs": [
        {
          "output_type": "stream",
          "text": [
            "32.27741266473564\n"
          ],
          "name": "stdout"
        }
      ]
    },
    {
      "cell_type": "markdown",
      "metadata": {
        "id": "vRZDXCT9_6Gx"
      },
      "source": [
        "#### Exploring Results of One Item"
      ]
    },
    {
      "cell_type": "markdown",
      "metadata": {
        "id": "ZtgxapqrABEN"
      },
      "source": [
        "First, we need to get the predictions."
      ]
    },
    {
      "cell_type": "code",
      "metadata": {
        "id": "DS-f8M8EABEO"
      },
      "source": [
        "# setting variable names to get data\r\n",
        "type_inp = 'A'\r\n",
        "store_inp = 49\r\n",
        "item_inp = 1503844 # highest-selling item\r\n",
        "num_past_inp = 25\r\n",
        "days_in_future_inp = 7\r\n",
        "\r\n",
        "# getting data\r\n",
        "X_train, X_val, X_test, y_train, y_val, y_test, ml_train, ml_val, ml_test = preprocess(type_inp, store_inp, item_inp, days_in_future_inp, num_past_inp)\r\n",
        "\r\n",
        "# getting predictions\r\n",
        "ewma_preds, ewma_mse, ewma_mae, ewma_mape, ewma_labels = ewma_baseline(X_val, y_val)"
      ],
      "execution_count": 37,
      "outputs": []
    },
    {
      "cell_type": "markdown",
      "metadata": {
        "id": "r__vW8ICABEP"
      },
      "source": [
        "Then, we need to figure out our error metrics."
      ]
    },
    {
      "cell_type": "code",
      "metadata": {
        "colab": {
          "base_uri": "https://localhost:8080/"
        },
        "id": "EnTnuTEdABEP",
        "outputId": "fbb801b8-e33a-4486-c6bc-6d2b21fc2c05"
      },
      "source": [
        "# calculating MAPE and RMSLE\r\n",
        "ewma_mape = ewma_mape\r\n",
        "ewma_rmsle = rmsle(ewma_labels, ewma_preds)\r\n",
        "\r\n",
        "# printing MAPE and RMSLE\r\n",
        "print('The MAPE was: '+ str(round(ewma_mape, 2)) + '%')\r\n",
        "print('The RMSLE was: '+ str(round(ewma_rmsle, 2)))"
      ],
      "execution_count": 38,
      "outputs": [
        {
          "output_type": "stream",
          "text": [
            "The MAPE was: 33.3%\n",
            "The RMSLE was: 0.48\n"
          ],
          "name": "stdout"
        }
      ]
    },
    {
      "cell_type": "markdown",
      "metadata": {
        "id": "wR9_Y4sMABEP"
      },
      "source": [
        "Now, we can plot the predictions against the labels."
      ]
    },
    {
      "cell_type": "code",
      "metadata": {
        "colab": {
          "base_uri": "https://localhost:8080/",
          "height": 354
        },
        "id": "x2wNi7liABEQ",
        "outputId": "3e17eb6c-9ce7-4d13-ecd0-d051217316a1"
      },
      "source": [
        "# setting variable names\r\n",
        "num_days_plot = 100\r\n",
        "\r\n",
        "# plot settings\r\n",
        "plt.figure(figsize=(8, 5))\r\n",
        "plt.style.use('ggplot')\r\n",
        "plt.xlabel(str(num_days_plot) + ' Days')\r\n",
        "plt.ylabel('Unit Sales')\r\n",
        "plt.title('Predicted Unit Sales of EWMA')\r\n",
        "\r\n",
        "# plotting the arrays\r\n",
        "plt.plot(ewma_preds[:num_days_plot], label='Predictions')\r\n",
        "plt.plot(ewma_labels[:num_days_plot], label='Labels')\r\n",
        "plt.legend()\r\n",
        "plt.show()"
      ],
      "execution_count": 40,
      "outputs": [
        {
          "output_type": "display_data",
          "data": {
            "image/png": "[encoded data removed]",
            "text/plain": [
              "<Figure size 576x360 with 1 Axes>"
            ]
          },
          "metadata": {
            "tags": []
          }
        }
      ]
    },
    {
      "cell_type": "markdown",
      "metadata": {
        "id": "-NTMdzXf_759"
      },
      "source": [
        "#### Recording Results of All Items"
      ]
    },
    {
      "cell_type": "code",
      "metadata": {
        "colab": {
          "base_uri": "https://localhost:8080/",
          "height": 131
        },
        "id": "67nsEMHg_-n0",
        "outputId": "00f30cba-d450-4b7e-a8f5-127d5911c3c3"
      },
      "source": [
        "# setting variable names to get data\r\n",
        "type_inp = 'A'\r\n",
        "store_inp = 49\r\n",
        "num_past_inp = 25\r\n",
        "days_in_future_inp = 7\r\n",
        "\r\n",
        "# creating a dictionary to store data\r\n",
        "ewma_dict = {'item_nbr': [], 'ewma_mape': [], 'ewma_rmsle': []}\r\n",
        "\r\n",
        "# looping through all items\r\n",
        "for item in tqdm(test_items):\r\n",
        "\r\n",
        "  # getting the data\r\n",
        "  X_train, X_val, X_test, y_train, y_val, y_test, ml_train, ml_val, ml_test = preprocess(type_inp, store_inp, item, days_in_future_inp, num_past_inp)\r\n",
        "\r\n",
        "  if X_train.size != 0:\r\n",
        "\r\n",
        "    # making predictions\r\n",
        "    ewma_preds, ewma_mse, ewma_mae, ewma_mape, ewma_labels = ewma_baseline(X_test, y_test)\r\n",
        "\r\n",
        "    # removing the bad data\r\n",
        "    if item == 1503844:\r\n",
        "      for i in range(len(y_test)):\r\n",
        "        if y_test[i][0] < 1:\r\n",
        "          ewma_preds = np.delete(ewma_preds, i, 0)\r\n",
        "          ewma_labels = np.delete(y_test, i, 0)\r\n",
        "\r\n",
        "    # calculating error metrics\r\n",
        "    ewma_mape_adjusted = mape_func(ewma_preds, ewma_labels)\r\n",
        "    ewma_rmsle = rmsle(ewma_labels, ewma_preds)\r\n",
        "\r\n",
        "    # adding to dictionary\r\n",
        "    ewma_dict['item_nbr'].append(item)\r\n",
        "    ewma_dict['ewma_mape'].append(ewma_mape_adjusted)\r\n",
        "    ewma_dict['ewma_rmsle'].append(ewma_rmsle)\r\n",
        "\r\n",
        "# making a dataframe\r\n",
        "ewma_df = pd.DataFrame(ewma_dict)\r\n",
        "\r\n",
        "ewma_df.head()"
      ],
      "execution_count": null,
      "outputs": [
        {
          "output_type": "stream",
          "text": [
            "\n",
            "  0%|          | 0/1 [00:00<?, ?it/s]\u001b[A\n",
            "100%|██████████| 1/1 [00:04<00:00,  4.72s/it]\n"
          ],
          "name": "stderr"
        },
        {
          "output_type": "execute_result",
          "data": {
            "text/html": [
              "<div>\n",
              "<style scoped>\n",
              "    .dataframe tbody tr th:only-of-type {\n",
              "        vertical-align: middle;\n",
              "    }\n",
              "\n",
              "    .dataframe tbody tr th {\n",
              "        vertical-align: top;\n",
              "    }\n",
              "\n",
              "    .dataframe thead th {\n",
              "        text-align: right;\n",
              "    }\n",
              "</style>\n",
              "<table border=\"1\" class=\"dataframe\">\n",
              "  <thead>\n",
              "    <tr style=\"text-align: right;\">\n",
              "      <th></th>\n",
              "      <th>item_nbr</th>\n",
              "      <th>ewma_mape</th>\n",
              "      <th>ewma_rmsle</th>\n",
              "    </tr>\n",
              "  </thead>\n",
              "  <tbody>\n",
              "    <tr>\n",
              "      <th>0</th>\n",
              "      <td>1503844</td>\n",
              "      <td>34.419302</td>\n",
              "      <td>0.476761</td>\n",
              "    </tr>\n",
              "  </tbody>\n",
              "</table>\n",
              "</div>"
            ],
            "text/plain": [
              "   item_nbr  ewma_mape  ewma_rmsle\n",
              "0   1503844  34.419302    0.476761"
            ]
          },
          "metadata": {
            "tags": []
          },
          "execution_count": 165
        }
      ]
    },
    {
      "cell_type": "code",
      "metadata": {
        "id": "I9Ds3TZkqTLV"
      },
      "source": [
        "# Now, I will save this df to a csv in google drive\r\n",
        "\r\n",
        "ewma_df.to_csv('ewma_results.csv')\r\n",
        "!cp ewma_results.csv \"drive/My Drive/High School/Science Fair 2020/Machine Learning/Nitya Mentorship/Notebook Versions/Results/Model Results/Testing Results - 14 Days\""
      ],
      "execution_count": null,
      "outputs": []
    },
    {
      "cell_type": "markdown",
      "metadata": {
        "id": "SsH6rqmjJTE5"
      },
      "source": [
        "## Autoregressive Models"
      ]
    },
    {
      "cell_type": "markdown",
      "metadata": {
        "id": "eiFj2w-4JdYL"
      },
      "source": [
        "### Least-Squares Linear Regression\r\n",
        "\r\n",
        "No regularization yet."
      ]
    },
    {
      "cell_type": "markdown",
      "metadata": {
        "id": "b_pKbqi_Jire"
      },
      "source": [
        "First, we need to define the function we will use to get results."
      ]
    },
    {
      "cell_type": "code",
      "metadata": {
        "id": "k7Kp1CP-JVE3"
      },
      "source": [
        "# linreg_model -- returns predictions and mse of a linreg model\r\n",
        "# inputs: X_train, X_test, y_train, y_test\r\n",
        "# outputs: preds, mse\r\n",
        "\r\n",
        "\r\n",
        "def linreg_model(X_train, X_test, y_train, y_test, y_rescaler=0):\r\n",
        "\r\n",
        "  # linear regression model\r\n",
        "  model = LinearRegression()\r\n",
        "  model.fit(X_train, y_train)\r\n",
        "  preds = model.predict(X_test)\r\n",
        "\r\n",
        "  if type(y_rescaler) != int:\r\n",
        "    # unscaling the preds and labels\r\n",
        "    labels = y_rescaler.inverse_transform(y_test)\r\n",
        "    preds = y_rescaler.inverse_transform(preds)\r\n",
        "  \r\n",
        "  else:\r\n",
        "    labels = y_test\r\n",
        "\r\n",
        "  # calculating mse, mae, and mape\r\n",
        "  mse = mean_squared_error(labels, preds)\r\n",
        "  mae = mean_absolute_error(labels, preds)\r\n",
        "  mape = mape_func(preds, labels)\r\n",
        "  \r\n",
        "  return preds, mse, mae, mape, labels"
      ],
      "execution_count": 41,
      "outputs": []
    },
    {
      "cell_type": "markdown",
      "metadata": {
        "id": "zrNHFY-4ns1e"
      },
      "source": [
        "#### Running on One Item"
      ]
    },
    {
      "cell_type": "markdown",
      "metadata": {
        "id": "LNbZ8NVwnirx"
      },
      "source": [
        "First, we need to make the predictions."
      ]
    },
    {
      "cell_type": "code",
      "metadata": {
        "id": "QbzjyipNniOi"
      },
      "source": [
        "# setting variable names to get data\r\n",
        "type_inp = 'A'\r\n",
        "store_inp = 49\r\n",
        "item_inp = 1503844 # highest-selling item\r\n",
        "num_past_inp = 25\r\n",
        "days_in_future_inp = 7\r\n",
        "\r\n",
        "# getting data\r\n",
        "X_train, X_val, X_test, y_train, y_val, y_test, ml_train, ml_val, ml_test = preprocess(type_inp, store_inp, item_inp, days_in_future_inp, num_past_inp)\r\n",
        "\r\n",
        "# making predictions\r\n",
        "ln = LinearRegression()\r\n",
        "ln.fit(X_train, y_train)\r\n",
        "ln_train_preds = ln.predict(X_train)\r\n",
        "ln_val_preds = ln.predict(X_val)"
      ],
      "execution_count": 42,
      "outputs": []
    },
    {
      "cell_type": "markdown",
      "metadata": {
        "id": "wSv_Bvz7oHQC"
      },
      "source": [
        "Then, we need to figure out error metrics."
      ]
    },
    {
      "cell_type": "code",
      "metadata": {
        "colab": {
          "base_uri": "https://localhost:8080/"
        },
        "id": "fCcN52DJn02o",
        "outputId": "ff84a851-88b5-4466-c263-56f70cc07a8c"
      },
      "source": [
        "# getting error metrics\r\n",
        "ln_train_preds_reshaped = np.reshape(ln_train_preds, (ln_train_preds.shape[0]))\r\n",
        "ln_train_labels = np.reshape(y_train, (y_train.shape[0]))\r\n",
        "\r\n",
        "ln_train_mape = mape_func(ln_train_preds_reshaped, ln_train_labels)\r\n",
        "ln_val_mape = mape_func(ln_val_preds, y_val)\r\n",
        "ln_train_rmsle = rmsle(y_train, ln_train_preds)\r\n",
        "ln_val_rmsle = rmsle(y_val, ln_val_preds)\r\n",
        "\r\n",
        "# printing val error\r\n",
        "print('The val MAPE was: '+ str(round(ln_val_mape, 2)) + '%')\r\n",
        "print('The val RMSLE was: '+ str(round(ln_val_rmsle, 2)))\r\n",
        "\r\n",
        "# printing train error\r\n",
        "print('The train MAPE was: '+ str(round(ln_train_mape, 2)) + '%')\r\n",
        "print('The train RMSLE was: '+ str(round(ln_train_rmsle, 2)))"
      ],
      "execution_count": 43,
      "outputs": [
        {
          "output_type": "stream",
          "text": [
            "The val MAPE was: 23.1%\n",
            "The val RMSLE was: 0.28\n",
            "The train MAPE was: 26.29%\n",
            "The train RMSLE was: 0.32\n"
          ],
          "name": "stdout"
        }
      ]
    },
    {
      "cell_type": "markdown",
      "metadata": {
        "id": "62rhG4LXoI2R"
      },
      "source": [
        "Then, we can plot the predictions vs. the labels."
      ]
    },
    {
      "cell_type": "code",
      "metadata": {
        "colab": {
          "base_uri": "https://localhost:8080/",
          "height": 354
        },
        "id": "qqxNipBTr4dv",
        "outputId": "02c8acea-eb49-4fd2-c8a6-ec1ce1d5e6e2"
      },
      "source": [
        "# setting variable names\r\n",
        "num_days_plot = 120\r\n",
        "\r\n",
        "# plot settings\r\n",
        "plt.figure(figsize=(8, 5))\r\n",
        "plt.style.use('ggplot')\r\n",
        "plt.xlabel(str(num_days_plot) + ' Days')\r\n",
        "plt.ylabel('Unit Sales')\r\n",
        "plt.title('Predicted Unit Sales of Linear Regression')\r\n",
        "plt.ylim((0, 1000))\r\n",
        "\r\n",
        "# plotting the arrays\r\n",
        "plt.plot(ln_val_preds[:num_days_plot], label='Predictions')\r\n",
        "plt.plot(y_val[:num_days_plot], label='Labels')\r\n",
        "plt.legend()\r\n",
        "plt.show()"
      ],
      "execution_count": 48,
      "outputs": [
        {
          "output_type": "display_data",
          "data": {
            "image/png": "[encoded data removed]",
            "text/plain": [
              "<Figure size 576x360 with 1 Axes>"
            ]
          },
          "metadata": {
            "tags": []
          }
        }
      ]
    },
    {
      "cell_type": "markdown",
      "metadata": {
        "id": "gCTj1sWenvpt"
      },
      "source": [
        "#### Running on All Items"
      ]
    },
    {
      "cell_type": "code",
      "metadata": {
        "id": "K6dQLVUUFeTH",
        "colab": {
          "base_uri": "https://localhost:8080/",
          "height": 131
        },
        "outputId": "d1dafe90-3d13-415c-df05-e0a21864eb5f"
      },
      "source": [
        "# setting variable names to get data\r\n",
        "type_inp = 'A'\r\n",
        "store_inp = 49\r\n",
        "num_past_inp = 25\r\n",
        "days_in_future_inp = 7\r\n",
        "\r\n",
        "# creating a dictionary to store data\r\n",
        "linreg_dict = {'item_nbr': [], 'linreg_train_mape': [], 'linreg_train_rmsle': [], 'linreg_val_mape': [], 'linreg_val_rmsle': [], 'linreg_test_mape': [], 'linreg_test_rmsle': []}\r\n",
        "\r\n",
        "# looping through all items\r\n",
        "for item in tqdm(test_items):\r\n",
        "\r\n",
        "  # getting the data\r\n",
        "  X_train, X_val, X_test, y_train, y_val, y_test, ml_train, ml_val, ml_test = preprocess(type_inp, store_inp, item, days_in_future_inp, num_past_inp)\r\n",
        "\r\n",
        "  if X_train.size != 0:\r\n",
        "\r\n",
        "    # creating a model and fitting it\r\n",
        "    ln = LinearRegression()\r\n",
        "    ln.fit(X_train, y_train)\r\n",
        "\r\n",
        "    # making predictions\r\n",
        "    ln_train_preds = ln.predict(X_train)\r\n",
        "    ln_val_preds = ln.predict(X_val)\r\n",
        "    ln_test_preds = ln.predict(X_test)\r\n",
        "\r\n",
        "    # removing the bad data\r\n",
        "    if item == 1503844:\r\n",
        "      for i in range(len(y_test)):\r\n",
        "        if y_test[i][0] < 1:\r\n",
        "          ln_test_preds = np.delete(ln_test_preds, i, 0)\r\n",
        "          y_test = np.delete(y_test, i, 0)\r\n",
        "          break\r\n",
        "\r\n",
        "    # calculating error metrics\r\n",
        "    ln_train_mape = mape_func(ln_train_preds, y_train)\r\n",
        "    ln_val_mape = mape_func(ln_val_preds, y_val)\r\n",
        "    ln_test_mape = mape_func(ln_test_preds, y_test)\r\n",
        "    ln_train_rmsle = rmsle(y_train, ln_train_preds)\r\n",
        "    ln_val_rmsle = rmsle(y_val, ln_val_preds)\r\n",
        "    ln_test_rmsle = rmsle(y_test, ln_test_preds)\r\n",
        "\r\n",
        "    # adding to dictionary\r\n",
        "    linreg_dict['item_nbr'].append(item)\r\n",
        "    linreg_dict['linreg_train_mape'].append(ln_train_mape)\r\n",
        "    linreg_dict['linreg_train_rmsle'].append(ln_train_rmsle)\r\n",
        "    linreg_dict['linreg_val_mape'].append(ln_val_mape)\r\n",
        "    linreg_dict['linreg_val_rmsle'].append(ln_val_rmsle)\r\n",
        "    linreg_dict['linreg_test_mape'].append(ln_test_mape)\r\n",
        "    linreg_dict['linreg_test_rmsle'].append(ln_test_rmsle)\r\n",
        "\r\n",
        "# making a dataframe\r\n",
        "linreg_df = pd.DataFrame(linreg_dict)\r\n",
        "\r\n",
        "linreg_df.head()"
      ],
      "execution_count": null,
      "outputs": [
        {
          "output_type": "stream",
          "text": [
            "\n",
            "  0%|          | 0/1 [00:00<?, ?it/s]\u001b[A\n",
            "100%|██████████| 1/1 [00:04<00:00,  4.56s/it]\n"
          ],
          "name": "stderr"
        },
        {
          "output_type": "execute_result",
          "data": {
            "text/html": [
              "<div>\n",
              "<style scoped>\n",
              "    .dataframe tbody tr th:only-of-type {\n",
              "        vertical-align: middle;\n",
              "    }\n",
              "\n",
              "    .dataframe tbody tr th {\n",
              "        vertical-align: top;\n",
              "    }\n",
              "\n",
              "    .dataframe thead th {\n",
              "        text-align: right;\n",
              "    }\n",
              "</style>\n",
              "<table border=\"1\" class=\"dataframe\">\n",
              "  <thead>\n",
              "    <tr style=\"text-align: right;\">\n",
              "      <th></th>\n",
              "      <th>item_nbr</th>\n",
              "      <th>linreg_train_mape</th>\n",
              "      <th>linreg_train_rmsle</th>\n",
              "      <th>linreg_val_mape</th>\n",
              "      <th>linreg_val_rmsle</th>\n",
              "      <th>linreg_test_mape</th>\n",
              "      <th>linreg_test_rmsle</th>\n",
              "    </tr>\n",
              "  </thead>\n",
              "  <tbody>\n",
              "    <tr>\n",
              "      <th>0</th>\n",
              "      <td>1503844</td>\n",
              "      <td>26.28501</td>\n",
              "      <td>0.316737</td>\n",
              "      <td>23.101611</td>\n",
              "      <td>0.277028</td>\n",
              "      <td>24.499533</td>\n",
              "      <td>0.292815</td>\n",
              "    </tr>\n",
              "  </tbody>\n",
              "</table>\n",
              "</div>"
            ],
            "text/plain": [
              "   item_nbr  linreg_train_mape  ...  linreg_test_mape  linreg_test_rmsle\n",
              "0   1503844           26.28501  ...         24.499533           0.292815\n",
              "\n",
              "[1 rows x 7 columns]"
            ]
          },
          "metadata": {
            "tags": []
          },
          "execution_count": 167
        }
      ]
    },
    {
      "cell_type": "code",
      "metadata": {
        "id": "I4i7iGb_7N-a"
      },
      "source": [
        "# Now, I will save this df to a csv in google drive\r\n",
        "\r\n",
        "linreg_df.to_csv('linreg_results.csv')\r\n",
        "!cp linreg_results.csv \"drive/My Drive/High School/Science Fair 2020/Machine Learning/Nitya Mentorship/Notebook Versions/Results/Model Results/Testing Results - 14 Days\""
      ],
      "execution_count": null,
      "outputs": []
    },
    {
      "cell_type": "markdown",
      "metadata": {
        "id": "7BZgX_SALTdw"
      },
      "source": [
        "### Lasso Regression"
      ]
    },
    {
      "cell_type": "markdown",
      "metadata": {
        "id": "OfIcDuTcTf-F"
      },
      "source": [
        "#### Running on One Item"
      ]
    },
    {
      "cell_type": "markdown",
      "metadata": {
        "id": "mtehz7pTT92y"
      },
      "source": [
        "First, we need to load in the data."
      ]
    },
    {
      "cell_type": "code",
      "metadata": {
        "id": "TIsZRzEKUCKS"
      },
      "source": [
        "# setting variable names to get data\r\n",
        "type_inp = 'A'\r\n",
        "store_inp = 49\r\n",
        "item_inp = 1503844\r\n",
        "num_past_inp = 25\r\n",
        "days_in_future_inp = 7\r\n",
        "\r\n",
        "# getting data\r\n",
        "X_train, X_val, X_test, y_train, y_val, y_test, ml_train, ml_val, ml_test = preprocess(type_inp, store_inp, item_inp, days_in_future_inp, num_past_inp)"
      ],
      "execution_count": 53,
      "outputs": []
    },
    {
      "cell_type": "markdown",
      "metadata": {
        "id": "9tBAktZ5T_a2"
      },
      "source": [
        "Next, we can try to explore which values of alpha result in a lower MAPE."
      ]
    },
    {
      "cell_type": "code",
      "metadata": {
        "id": "ZkfkB8XCTh_9"
      },
      "source": [
        "# creating useful lists\r\n",
        "alpha = [0.001, 0.01, 0.05, 0.1, 0.5, 1, 2, 5, 10, 20, 30, 40, 50, 60, 75, 90, 100, 500, 1000, 2000, 3000]\r\n",
        "# coefs = []\r\n",
        "# preds = []\r\n",
        "# intercepts = []\r\n",
        "alpha_mape_dict = {}\r\n",
        "\r\n",
        "# going through all alphas\r\n",
        "for alpha_value in alpha:\r\n",
        "\r\n",
        "  # fitting the model\r\n",
        "  model = linear_model.Lasso(alpha=alpha_value, max_iter=5000)\r\n",
        "  model.fit(X_train, y_train)\r\n",
        "\r\n",
        "  # making predictions, calculating error metrics\r\n",
        "  train_preds = model.predict(X_train)\r\n",
        "  train_preds = np.reshape(train_preds, (train_preds.shape[0], 1))\r\n",
        "  temp_alpha_mape = mape_func(train_preds, y_train)\r\n",
        "\r\n",
        "  # adding alpha and mape to dict\r\n",
        "  alpha_mape_dict[alpha_value] = temp_alpha_mape"
      ],
      "execution_count": 54,
      "outputs": []
    },
    {
      "cell_type": "code",
      "metadata": {
        "colab": {
          "base_uri": "https://localhost:8080/"
        },
        "id": "TnVcHV8YVaV-",
        "outputId": "6fd97a46-5e91-4fe8-8f68-4e895f1fe4e4"
      },
      "source": [
        "alpha_mape_dict"
      ],
      "execution_count": 55,
      "outputs": [
        {
          "output_type": "execute_result",
          "data": {
            "text/plain": [
              "{0.001: 26.284924630858963,\n",
              " 0.01: 26.284158042663382,\n",
              " 0.05: 26.280775049983383,\n",
              " 0.1: 26.276914489373453,\n",
              " 0.5: 26.250980418540646,\n",
              " 1: 26.231821284703194,\n",
              " 2: 26.263366202741626,\n",
              " 5: 26.263773446396666,\n",
              " 10: 26.264400138828034,\n",
              " 20: 26.2658898081431,\n",
              " 30: 26.267151995098995,\n",
              " 40: 26.26899620557834,\n",
              " 50: 26.271505657889627,\n",
              " 60: 26.27277723973119,\n",
              " 75: 26.277343964178936,\n",
              " 90: 26.282473206510314,\n",
              " 100: 26.286607693992067,\n",
              " 500: 26.5449477125042,\n",
              " 1000: 26.884129230066524,\n",
              " 2000: 27.650985386160396,\n",
              " 3000: 28.52287197691638}"
            ]
          },
          "metadata": {
            "tags": []
          },
          "execution_count": 55
        }
      ]
    },
    {
      "cell_type": "markdown",
      "metadata": {
        "id": "bOPv1Ya0ViGX"
      },
      "source": [
        "Comparing to normal least-squares linear regression."
      ]
    },
    {
      "cell_type": "code",
      "metadata": {
        "colab": {
          "base_uri": "https://localhost:8080/"
        },
        "id": "PhVszC7aVkWV",
        "outputId": "2595087c-a866-4999-994f-3cf8f30f8e88"
      },
      "source": [
        "ln = LinearRegression()\r\n",
        "ln.fit(X_train, y_train)\r\n",
        "normal_train_preds = ln.predict(X_train)\r\n",
        "normal_train_preds = np.reshape(normal_train_preds, (normal_train_preds.shape[0], 1))\r\n",
        "\r\n",
        "print(mape_func(normal_train_preds, y_train))"
      ],
      "execution_count": 56,
      "outputs": [
        {
          "output_type": "stream",
          "text": [
            "26.285009808686052\n"
          ],
          "name": "stdout"
        }
      ]
    },
    {
      "cell_type": "markdown",
      "metadata": {
        "id": "Qdk5fGiYZCGc"
      },
      "source": [
        "#### Running on All Items"
      ]
    },
    {
      "cell_type": "code",
      "metadata": {
        "colab": {
          "base_uri": "https://localhost:8080/",
          "height": 221
        },
        "id": "c5XZ9B1aZEHp",
        "outputId": "f4b908c8-c6ea-4f15-9634-e2c538df45ac"
      },
      "source": [
        "# setting variable names to get data\r\n",
        "type_inp = 'A'\r\n",
        "store_inp = 49\r\n",
        "num_past_inp = 25\r\n",
        "days_in_future_inp = 7\r\n",
        "\r\n",
        "# dict to store data\r\n",
        "lasso_reg_dict = {'item_nbr': [], 'lasso_mape': [], 'lasso_rmsle': [], 'lasso_mae': []}\r\n",
        "\r\n",
        "# looping through all items\r\n",
        "for item in tqdm(test_items):\r\n",
        "\r\n",
        "  # getting data\r\n",
        "  X_train, X_val, X_test, y_train, y_val, y_test, ml_train, ml_val, ml_test = preprocess(type_inp, store_inp, item, days_in_future_inp, num_past_inp)\r\n",
        "\r\n",
        "  if X_train.size != 0:\r\n",
        "\r\n",
        "    # TESTING ALPHAS\r\n",
        "    alpha = [0.001, 0.01, 0.05, 0.1, 0.5, 1, 2, 5, 10, 20, 30, 40, 50, 60, 75, 90, 100, 500, 1000, 2000, 3000]\r\n",
        "    alpha_mape_dict = {}\r\n",
        "\r\n",
        "    # going through all alphas\r\n",
        "    for alpha_value in alpha:\r\n",
        "\r\n",
        "      # fitting the model\r\n",
        "      model = linear_model.Lasso(alpha=alpha_value, max_iter=5000)\r\n",
        "      model.fit(X_train, y_train)\r\n",
        "\r\n",
        "      # making predictions, calculating error metrics\r\n",
        "      train_preds = model.predict(X_train)\r\n",
        "      train_preds = np.reshape(train_preds, (train_preds.shape[0], 1))\r\n",
        "      temp_alpha_mape = mape_func(train_preds, y_train)\r\n",
        "\r\n",
        "      # adding alpha and mape to dict\r\n",
        "      alpha_mape_dict[alpha_value] = temp_alpha_mape\r\n",
        "    \r\n",
        "    # getting the alpha which resulted in the lowest MAPE\r\n",
        "    min_mape_alpha = min(alpha_mape_dict, key=lambda x: alpha_mape_dict[x])\r\n",
        "\r\n",
        "    # training the model with the best alpha\r\n",
        "    model = linear_model.Lasso(alpha=min_mape_alpha, max_iter=5000)\r\n",
        "    model.fit(X_train, y_train)\r\n",
        "\r\n",
        "    # making predictions\r\n",
        "    test_preds = model.predict(X_test)\r\n",
        "\r\n",
        "    # getting error metrics\r\n",
        "    test_preds = np.reshape(test_preds, (test_preds.shape[0], 1))\r\n",
        "    test_mape = mape_func(test_preds, y_test)\r\n",
        "    test_rmsle = rmsle(y_test, test_preds)\r\n",
        "\r\n",
        "    # getting mae\r\n",
        "    y_test_mae = np.reshape(y_test, (y_test.shape[0]))\r\n",
        "    test_preds_mae = np.reshape(test_preds, (test_preds.shape[0]))\r\n",
        "    test_mae = mean_absolute_error(y_test_mae, test_preds_mae)\r\n",
        "\r\n",
        "    # adding to dict\r\n",
        "    lasso_reg_dict['item_nbr'].append(item)\r\n",
        "    lasso_reg_dict['lasso_mape'].append(test_mape)\r\n",
        "    lasso_reg_dict['lasso_rmsle'].append(test_rmsle)\r\n",
        "    lasso_reg_dict['lasso_mae'].append(test_mae)\r\n",
        "\r\n",
        "# converting to df\r\n",
        "lasso_reg_df = pd.DataFrame(lasso_reg_dict)\r\n",
        "\r\n",
        "# printing\r\n",
        "lasso_reg_df.head()"
      ],
      "execution_count": null,
      "outputs": [
        {
          "output_type": "stream",
          "text": [
            "100%|██████████| 95/95 [08:09<00:00,  5.15s/it]\n"
          ],
          "name": "stderr"
        },
        {
          "output_type": "execute_result",
          "data": {
            "text/html": [
              "<div>\n",
              "<style scoped>\n",
              "    .dataframe tbody tr th:only-of-type {\n",
              "        vertical-align: middle;\n",
              "    }\n",
              "\n",
              "    .dataframe tbody tr th {\n",
              "        vertical-align: top;\n",
              "    }\n",
              "\n",
              "    .dataframe thead th {\n",
              "        text-align: right;\n",
              "    }\n",
              "</style>\n",
              "<table border=\"1\" class=\"dataframe\">\n",
              "  <thead>\n",
              "    <tr style=\"text-align: right;\">\n",
              "      <th></th>\n",
              "      <th>item_nbr</th>\n",
              "      <th>lasso_mape</th>\n",
              "      <th>lasso_rmsle</th>\n",
              "      <th>lasso_mae</th>\n",
              "    </tr>\n",
              "  </thead>\n",
              "  <tbody>\n",
              "    <tr>\n",
              "      <th>0</th>\n",
              "      <td>1333307</td>\n",
              "      <td>21.518349</td>\n",
              "      <td>0.268023</td>\n",
              "      <td>29.873019</td>\n",
              "    </tr>\n",
              "    <tr>\n",
              "      <th>1</th>\n",
              "      <td>502331</td>\n",
              "      <td>22.502817</td>\n",
              "      <td>0.256606</td>\n",
              "      <td>13.692484</td>\n",
              "    </tr>\n",
              "    <tr>\n",
              "      <th>2</th>\n",
              "      <td>1309246</td>\n",
              "      <td>28.694593</td>\n",
              "      <td>0.322194</td>\n",
              "      <td>15.402372</td>\n",
              "    </tr>\n",
              "    <tr>\n",
              "      <th>3</th>\n",
              "      <td>1998005</td>\n",
              "      <td>19.685685</td>\n",
              "      <td>0.211796</td>\n",
              "      <td>9.273807</td>\n",
              "    </tr>\n",
              "    <tr>\n",
              "      <th>4</th>\n",
              "      <td>1309245</td>\n",
              "      <td>117.412121</td>\n",
              "      <td>0.811754</td>\n",
              "      <td>24.785837</td>\n",
              "    </tr>\n",
              "  </tbody>\n",
              "</table>\n",
              "</div>"
            ],
            "text/plain": [
              "   item_nbr  lasso_mape  lasso_rmsle  lasso_mae\n",
              "0   1333307   21.518349     0.268023  29.873019\n",
              "1    502331   22.502817     0.256606  13.692484\n",
              "2   1309246   28.694593     0.322194  15.402372\n",
              "3   1998005   19.685685     0.211796   9.273807\n",
              "4   1309245  117.412121     0.811754  24.785837"
            ]
          },
          "metadata": {
            "tags": []
          },
          "execution_count": 104
        }
      ]
    },
    {
      "cell_type": "code",
      "metadata": {
        "id": "GojocTTrc6C9"
      },
      "source": [
        "# Now, I will save this df to a csv in google drive\r\n",
        "\r\n",
        "lasso_reg_df.to_csv('lasso_results.csv')\r\n",
        "!cp lasso_results.csv \"drive/My Drive/High School/Science Fair 2020/Machine Learning/Nitya Mentorship/Notebook Versions/Results/Model Results/Testing Results - 14 Days\""
      ],
      "execution_count": null,
      "outputs": []
    },
    {
      "cell_type": "markdown",
      "metadata": {
        "id": "ig-q1rE-LVnM"
      },
      "source": [
        "### Ridge Regression"
      ]
    },
    {
      "cell_type": "markdown",
      "metadata": {
        "id": "F5ZF4vdlkEbG"
      },
      "source": [
        "#### Running on One Item"
      ]
    },
    {
      "cell_type": "markdown",
      "metadata": {
        "id": "D6LLP4IekMCi"
      },
      "source": [
        "First, we need to load in the data."
      ]
    },
    {
      "cell_type": "code",
      "metadata": {
        "id": "1A8QZfaDkMCj"
      },
      "source": [
        "# setting variable names to get data\r\n",
        "type_inp = 'A'\r\n",
        "store_inp = 49\r\n",
        "item_inp = 1503844\r\n",
        "num_past_inp = 25\r\n",
        "days_in_future_inp = 7\r\n",
        "\r\n",
        "# getting data\r\n",
        "X_train, X_val, X_test, y_train, y_val, y_test, ml_train, ml_val, ml_test = preprocess(type_inp, store_inp, item_inp, days_in_future_inp, num_past_inp)"
      ],
      "execution_count": 49,
      "outputs": []
    },
    {
      "cell_type": "markdown",
      "metadata": {
        "id": "F8Itep00kMCk"
      },
      "source": [
        "Next, we can try to explore which values of alpha result in a lower MAPE."
      ]
    },
    {
      "cell_type": "code",
      "metadata": {
        "id": "wL5iwQhCkMCl"
      },
      "source": [
        "# creating useful lists\r\n",
        "alpha = [0.001, 0.01, 0.05, 0.1, 0.5, 1, 2, 5, 10, 20, 30, 40, 50, 60, 75, 90, 100, 500, 1000, 2000, 3000]\r\n",
        "alpha_mape_dict = {}\r\n",
        "\r\n",
        "# going through all alphas\r\n",
        "for alpha_value in alpha:\r\n",
        "\r\n",
        "  # fitting the model\r\n",
        "  model = linear_model.Ridge(alpha=alpha_value, max_iter=5000)\r\n",
        "  model.fit(X_train, y_train)\r\n",
        "\r\n",
        "  # making predictions, calculating error metrics\r\n",
        "  train_preds = model.predict(X_train)\r\n",
        "  train_preds = np.reshape(train_preds, (train_preds.shape[0], 1))\r\n",
        "  temp_alpha_mape = mape_func(train_preds, y_train)\r\n",
        "\r\n",
        "  # adding alpha and mape to dict\r\n",
        "  alpha_mape_dict[alpha_value] = temp_alpha_mape"
      ],
      "execution_count": 50,
      "outputs": []
    },
    {
      "cell_type": "code",
      "metadata": {
        "colab": {
          "base_uri": "https://localhost:8080/"
        },
        "id": "Wj-1J_oKkMCm",
        "outputId": "b547b9e3-d522-4616-9fce-946c2ad27da5"
      },
      "source": [
        "alpha_mape_dict"
      ],
      "execution_count": 51,
      "outputs": [
        {
          "output_type": "execute_result",
          "data": {
            "text/plain": [
              "{0.001: 26.285009132910737,\n",
              " 0.01: 26.28500305117914,\n",
              " 0.05: 26.284976026619535,\n",
              " 0.1: 26.284942258218024,\n",
              " 0.5: 26.28467260195322,\n",
              " 1: 26.284336754290884,\n",
              " 2: 26.283669103445405,\n",
              " 5: 26.281710052232302,\n",
              " 10: 26.27869782030495,\n",
              " 20: 26.273396735924045,\n",
              " 30: 26.268478917664442,\n",
              " 40: 26.264029379925706,\n",
              " 50: 26.260527664794413,\n",
              " 60: 26.25749864997513,\n",
              " 75: 26.253338558913047,\n",
              " 90: 26.249678445511456,\n",
              " 100: 26.24742717482088,\n",
              " 500: 26.232814059627675,\n",
              " 1000: 26.23923075913416,\n",
              " 2000: 26.247454864179645,\n",
              " 3000: 26.25169258574019}"
            ]
          },
          "metadata": {
            "tags": []
          },
          "execution_count": 51
        }
      ]
    },
    {
      "cell_type": "markdown",
      "metadata": {
        "id": "dKbQMCzJkMCo"
      },
      "source": [
        "Comparing to normal least-squares linear regression."
      ]
    },
    {
      "cell_type": "code",
      "metadata": {
        "colab": {
          "base_uri": "https://localhost:8080/"
        },
        "id": "8P16JaiikMCp",
        "outputId": "78346353-1e7d-4f35-8439-6bac725e5aac"
      },
      "source": [
        "ln = LinearRegression()\r\n",
        "ln.fit(X_train, y_train)\r\n",
        "normal_train_preds = ln.predict(X_train)\r\n",
        "normal_train_preds = np.reshape(normal_train_preds, (normal_train_preds.shape[0], 1))\r\n",
        "\r\n",
        "print(mape_func(normal_train_preds, y_train))"
      ],
      "execution_count": 52,
      "outputs": [
        {
          "output_type": "stream",
          "text": [
            "26.285009808686052\n"
          ],
          "name": "stdout"
        }
      ]
    },
    {
      "cell_type": "markdown",
      "metadata": {
        "id": "cz8a3Sh9kHaq"
      },
      "source": [
        "#### Running on All Items"
      ]
    },
    {
      "cell_type": "code",
      "metadata": {
        "colab": {
          "base_uri": "https://localhost:8080/",
          "height": 221
        },
        "id": "dYhtzZ4EkjKE",
        "outputId": "29cc729e-eb67-4cf5-e5b6-6d36abeeac4c"
      },
      "source": [
        "# setting variable names to get data\r\n",
        "type_inp = 'A'\r\n",
        "store_inp = 49\r\n",
        "num_past_inp = 25\r\n",
        "days_in_future_inp = 7\r\n",
        "\r\n",
        "# dict to store data\r\n",
        "ridge_reg_dict = {'item_nbr': [], 'ridge_mape': [], 'ridge_rmsle': [], 'ridge_mae': []}\r\n",
        "\r\n",
        "# looping through all items\r\n",
        "for item in tqdm(test_items):\r\n",
        "\r\n",
        "  # getting data\r\n",
        "  X_train, X_val, X_test, y_train, y_val, y_test, ml_train, ml_val, ml_test = preprocess(type_inp, store_inp, item, days_in_future_inp, num_past_inp)\r\n",
        "\r\n",
        "  if X_train.size != 0:\r\n",
        "\r\n",
        "    # TESTING ALPHAS\r\n",
        "    alpha = [0.001, 0.01, 0.05, 0.1, 0.5, 1, 2, 5, 10, 20, 30, 40, 50, 60, 75, 90, 100, 500, 1000, 2000, 3000]\r\n",
        "    alpha_mape_dict = {}\r\n",
        "\r\n",
        "    # going through all alphas\r\n",
        "    for alpha_value in alpha:\r\n",
        "\r\n",
        "      # fitting the model\r\n",
        "      model = linear_model.Ridge(alpha=alpha_value, max_iter=5000)\r\n",
        "      model.fit(X_train, y_train)\r\n",
        "\r\n",
        "      # making predictions, calculating error metrics\r\n",
        "      train_preds = model.predict(X_train)\r\n",
        "      train_preds = np.reshape(train_preds, (train_preds.shape[0], 1))\r\n",
        "      temp_alpha_mape = mape_func(train_preds, y_train)\r\n",
        "\r\n",
        "      # adding alpha and mape to dict\r\n",
        "      alpha_mape_dict[alpha_value] = temp_alpha_mape\r\n",
        "    \r\n",
        "    # getting the alpha which resulted in the lowest MAPE for the training data\r\n",
        "    min_mape_alpha = min(alpha_mape_dict, key=lambda x: alpha_mape_dict[x])\r\n",
        "\r\n",
        "    # training the model with the best alpha\r\n",
        "    model = linear_model.Ridge(alpha=min_mape_alpha, max_iter=5000)\r\n",
        "    model.fit(X_train, y_train)\r\n",
        "\r\n",
        "    # making predictions\r\n",
        "    test_preds = model.predict(X_test)\r\n",
        "\r\n",
        "    # getting error metrics\r\n",
        "    test_preds = np.reshape(test_preds, (test_preds.shape[0], 1))\r\n",
        "    test_mape = mape_func(test_preds, y_test)\r\n",
        "    test_rmsle = rmsle(y_test, test_preds)\r\n",
        "\r\n",
        "    # getting mae\r\n",
        "    y_test_mae = np.reshape(y_test, (y_test.shape[0]))\r\n",
        "    test_preds_mae = np.reshape(test_preds, (test_preds.shape[0]))\r\n",
        "    test_mae = mean_absolute_error(y_test_mae, test_preds_mae)\r\n",
        "\r\n",
        "    # adding to dict\r\n",
        "    ridge_reg_dict['item_nbr'].append(item)\r\n",
        "    ridge_reg_dict['ridge_mape'].append(test_mape)\r\n",
        "    ridge_reg_dict['ridge_rmsle'].append(test_rmsle)\r\n",
        "    ridge_reg_dict['ridge_mae'].append(test_mae)\r\n",
        "\r\n",
        "# converting to df\r\n",
        "ridge_reg_df = pd.DataFrame(ridge_reg_dict)\r\n",
        "\r\n",
        "# printing\r\n",
        "ridge_reg_df.head()"
      ],
      "execution_count": null,
      "outputs": [
        {
          "output_type": "stream",
          "text": [
            "100%|██████████| 95/95 [06:49<00:00,  4.31s/it]\n"
          ],
          "name": "stderr"
        },
        {
          "output_type": "execute_result",
          "data": {
            "text/html": [
              "<div>\n",
              "<style scoped>\n",
              "    .dataframe tbody tr th:only-of-type {\n",
              "        vertical-align: middle;\n",
              "    }\n",
              "\n",
              "    .dataframe tbody tr th {\n",
              "        vertical-align: top;\n",
              "    }\n",
              "\n",
              "    .dataframe thead th {\n",
              "        text-align: right;\n",
              "    }\n",
              "</style>\n",
              "<table border=\"1\" class=\"dataframe\">\n",
              "  <thead>\n",
              "    <tr style=\"text-align: right;\">\n",
              "      <th></th>\n",
              "      <th>item_nbr</th>\n",
              "      <th>ridge_mape</th>\n",
              "      <th>ridge_rmsle</th>\n",
              "      <th>ridge_mae</th>\n",
              "    </tr>\n",
              "  </thead>\n",
              "  <tbody>\n",
              "    <tr>\n",
              "      <th>0</th>\n",
              "      <td>1333307</td>\n",
              "      <td>21.518046</td>\n",
              "      <td>0.268021</td>\n",
              "      <td>29.872849</td>\n",
              "    </tr>\n",
              "    <tr>\n",
              "      <th>1</th>\n",
              "      <td>502331</td>\n",
              "      <td>22.023779</td>\n",
              "      <td>0.252985</td>\n",
              "      <td>13.473721</td>\n",
              "    </tr>\n",
              "    <tr>\n",
              "      <th>2</th>\n",
              "      <td>1309246</td>\n",
              "      <td>28.694257</td>\n",
              "      <td>0.322193</td>\n",
              "      <td>15.402422</td>\n",
              "    </tr>\n",
              "    <tr>\n",
              "      <th>3</th>\n",
              "      <td>1998005</td>\n",
              "      <td>19.597298</td>\n",
              "      <td>0.211004</td>\n",
              "      <td>9.258108</td>\n",
              "    </tr>\n",
              "    <tr>\n",
              "      <th>4</th>\n",
              "      <td>1309245</td>\n",
              "      <td>117.409450</td>\n",
              "      <td>0.811750</td>\n",
              "      <td>24.785764</td>\n",
              "    </tr>\n",
              "  </tbody>\n",
              "</table>\n",
              "</div>"
            ],
            "text/plain": [
              "   item_nbr  ridge_mape  ridge_rmsle  ridge_mae\n",
              "0   1333307   21.518046     0.268021  29.872849\n",
              "1    502331   22.023779     0.252985  13.473721\n",
              "2   1309246   28.694257     0.322193  15.402422\n",
              "3   1998005   19.597298     0.211004   9.258108\n",
              "4   1309245  117.409450     0.811750  24.785764"
            ]
          },
          "metadata": {
            "tags": []
          },
          "execution_count": 106
        }
      ]
    },
    {
      "cell_type": "code",
      "metadata": {
        "id": "9ckRRIv-m6gU"
      },
      "source": [
        "# Now, I will save this df to a csv in google drive\r\n",
        "\r\n",
        "ridge_reg_df.to_csv('ridge_results.csv')\r\n",
        "!cp ridge_results.csv \"drive/My Drive/High School/Science Fair 2020/Machine Learning/Nitya Mentorship/Notebook Versions/Results/Model Results/Testing Results - 14 Days\""
      ],
      "execution_count": null,
      "outputs": []
    },
    {
      "cell_type": "markdown",
      "metadata": {
        "id": "9XwCHUm2LJ_u"
      },
      "source": [
        "## Decision Trees"
      ]
    },
    {
      "cell_type": "markdown",
      "metadata": {
        "id": "5z2f2t7LLX7d"
      },
      "source": [
        "### Normal Decision Tree"
      ]
    },
    {
      "cell_type": "markdown",
      "metadata": {
        "id": "OleX2-5-z1pl"
      },
      "source": [
        "#### Running on One Item"
      ]
    },
    {
      "cell_type": "markdown",
      "metadata": {
        "id": "uzYC8MuihEgO"
      },
      "source": [
        "First, we need to get the predictions. Let's use an iterative grid search."
      ]
    },
    {
      "cell_type": "code",
      "metadata": {
        "id": "5dmvVyPFiX3W"
      },
      "source": [
        "# now, let's create a custom scorer using the MAPE\r\n",
        "\r\n",
        "from sklearn.metrics import make_scorer\r\n",
        "def mape_scorer(y_true, y_pred):\r\n",
        "  return mape_func(y_pred, y_true)\r\n",
        "\r\n",
        "# creating a new instance of a scorer\r\n",
        "mape_scorer = make_scorer(mape_scorer, greater_is_better=False)"
      ],
      "execution_count": 57,
      "outputs": []
    },
    {
      "cell_type": "code",
      "metadata": {
        "id": "tUIdtZdZhEgP"
      },
      "source": [
        "# setting variable names to get data\r\n",
        "type_inp = 'A'\r\n",
        "store_inp = 49\r\n",
        "item_inp = 1503844\r\n",
        "num_past_inp = 25\r\n",
        "days_in_future_inp = 7\r\n",
        "\r\n",
        "# getting data\r\n",
        "X_train, X_val, X_test, y_train, y_val, y_test, ml_train, ml_val, ml_test = preprocess(type_inp, store_inp, item_inp, days_in_future_inp, num_past_inp)\r\n",
        "\r\n",
        "# making sure we have enough data\r\n",
        "if X_train.size != 0:\r\n",
        "\r\n",
        "  # max_depth of tree\r\n",
        "  max_depth = [int(x) for x in np.linspace(3, 20, num = 18)]\r\n",
        "  max_depth.append(None)\r\n",
        "  # min_samples_split possibilities\r\n",
        "  min_samples_split = [2, 5, 10, 15, 20, 25, 30]\r\n",
        "  # Create the hyperparameter grid\r\n",
        "  dt_grid = {'max_depth': max_depth,\r\n",
        "          'min_samples_split': min_samples_split\r\n",
        "          }\r\n",
        "\r\n",
        "  # GRID SEARCH\r\n",
        "\r\n",
        "  # First create the base model to tune\r\n",
        "  dt = DecisionTreeRegressor()\r\n",
        "\r\n",
        "  # Grid search of parameters, using 10 fold cross validation, search across 100 different combinations, and use all available cores\r\n",
        "  dt_best = GridSearchCV(estimator=dt, param_grid=dt_grid, scoring=mape_scorer, cv=10, verbose=0, n_jobs=-1)\r\n",
        "\r\n",
        "  # Fit the model\r\n",
        "  dt_y_train = np.reshape(y_train, (y_train.shape[0]))\r\n",
        "  dt_best.fit(X_train, y_train)\r\n",
        "\r\n",
        "  # best params\r\n",
        "  dt_best_params = dt_best.best_params_\r\n",
        "  dt_best_model = DecisionTreeRegressor(max_depth=dt_best_params['max_depth'], min_samples_split=dt_best_params['min_samples_split'])\r\n",
        "\r\n",
        "  # fitting the best model\r\n",
        "  dt_best_model.fit(X_train, y_train)\r\n",
        "\r\n",
        "  # making predictions\r\n",
        "  dt_train_preds = dt_best_model.predict(X_train)\r\n",
        "  dt_val_preds = dt_best_model.predict(X_val)\r\n",
        "\r\n",
        "  # reshaping\r\n",
        "  train_labels = np.reshape(y_train, (y_train.shape[0]))\r\n",
        "  val_labels = np.reshape(y_val, (y_val.shape[0]))\r\n",
        "  rmsle_train_preds = np.reshape(dt_train_preds, (dt_train_preds.shape[0], 1))\r\n",
        "  rmsle_val_preds = np.reshape(dt_val_preds, (dt_val_preds.shape[0], 1))\r\n",
        "\r\n",
        "else:\r\n",
        "  print('Not enough data.')"
      ],
      "execution_count": 60,
      "outputs": []
    },
    {
      "cell_type": "markdown",
      "metadata": {
        "id": "rNgeZ1OkhEgP"
      },
      "source": [
        "First, we need to figure out our error metrics."
      ]
    },
    {
      "cell_type": "code",
      "metadata": {
        "id": "oVSYDkIjhEgP",
        "colab": {
          "base_uri": "https://localhost:8080/"
        },
        "outputId": "8825d093-29e5-4468-e98a-76570dca7567"
      },
      "source": [
        "# calculating error metrics\r\n",
        "dt_train_mape = mape_func(dt_train_preds, train_labels)\r\n",
        "dt_val_mape = mape_func(dt_val_preds, val_labels)\r\n",
        "dt_train_rmsle = rmsle(train_labels, rmsle_train_preds)\r\n",
        "dt_val_rmsle = rmsle(val_labels, rmsle_val_preds)\r\n",
        "\r\n",
        "# printing MAPE and RMSLE\r\n",
        "print('The val MAPE was: '+ str(round(dt_val_mape, 2)) + '%')\r\n",
        "print('The val RMSLE was: '+ str(round(dt_val_rmsle, 2)))"
      ],
      "execution_count": 61,
      "outputs": [
        {
          "output_type": "stream",
          "text": [
            "The val MAPE was: 22.79%\n",
            "The val RMSLE was: 0.29\n"
          ],
          "name": "stdout"
        }
      ]
    },
    {
      "cell_type": "markdown",
      "metadata": {
        "id": "pCNj1x2ioM3h"
      },
      "source": [
        "Then, we can print out the optimized model to take a look at the parameters."
      ]
    },
    {
      "cell_type": "code",
      "metadata": {
        "id": "B2UuzLBphzha",
        "colab": {
          "base_uri": "https://localhost:8080/"
        },
        "outputId": "4f56ea6a-932d-435b-a76f-bc6aad5079c6"
      },
      "source": [
        "dt_best_model"
      ],
      "execution_count": 62,
      "outputs": [
        {
          "output_type": "execute_result",
          "data": {
            "text/plain": [
              "DecisionTreeRegressor(ccp_alpha=0.0, criterion='mse', max_depth=3,\n",
              "                      max_features=None, max_leaf_nodes=None,\n",
              "                      min_impurity_decrease=0.0, min_impurity_split=None,\n",
              "                      min_samples_leaf=1, min_samples_split=15,\n",
              "                      min_weight_fraction_leaf=0.0, presort='deprecated',\n",
              "                      random_state=None, splitter='best')"
            ]
          },
          "metadata": {
            "tags": []
          },
          "execution_count": 62
        }
      ]
    },
    {
      "cell_type": "markdown",
      "metadata": {
        "id": "0THwFOeNhEgQ"
      },
      "source": [
        "Now, we can plot the predictions against the labels."
      ]
    },
    {
      "cell_type": "code",
      "metadata": {
        "id": "LE_z2YUuhEgQ",
        "colab": {
          "base_uri": "https://localhost:8080/",
          "height": 354
        },
        "outputId": "a7f53e2a-7b96-4952-a691-821eb9f033f0"
      },
      "source": [
        "# setting variable names\r\n",
        "num_days_plot = 50\r\n",
        "\r\n",
        "# plot settings\r\n",
        "plt.figure(figsize=(8, 5))\r\n",
        "plt.style.use('ggplot')\r\n",
        "plt.xlabel(str(num_days_plot) + ' Days')\r\n",
        "plt.ylabel('Unit Sales')\r\n",
        "plt.title('Predicted Unit Sales of Decision Tree')\r\n",
        "\r\n",
        "# plotting the arrays\r\n",
        "plt.plot(dt_val_preds[:num_days_plot], label='Predictions')\r\n",
        "plt.plot(val_labels[:num_days_plot], label='Labels')\r\n",
        "plt.legend()\r\n",
        "plt.show()"
      ],
      "execution_count": 63,
      "outputs": [
        {
          "output_type": "display_data",
          "data": {
            "image/png": "[encoded data removed]",
            "text/plain": [
              "<Figure size 576x360 with 1 Axes>"
            ]
          },
          "metadata": {
            "tags": [],
            "needs_background": "light"
          }
        }
      ]
    },
    {
      "cell_type": "markdown",
      "metadata": {
        "id": "TeJnp_O3z3Dw"
      },
      "source": [
        "#### Running on All Items"
      ]
    },
    {
      "cell_type": "code",
      "metadata": {
        "id": "K3bHwJr00LyF"
      },
      "source": [
        "# defining a custom scorer for optimization\r\n",
        "\r\n",
        "from sklearn.metrics import make_scorer\r\n",
        "def mape_scorer(y_true, y_pred):\r\n",
        "  return mape_func(y_pred, y_true)\r\n",
        "\r\n",
        "# creating a new instance of a scorer\r\n",
        "mape_scorer = make_scorer(mape_scorer, greater_is_better=False)"
      ],
      "execution_count": 64,
      "outputs": []
    },
    {
      "cell_type": "code",
      "metadata": {
        "colab": {
          "base_uri": "https://localhost:8080/"
        },
        "id": "rUyftx7qz4iP",
        "outputId": "4c49a18d-6661-435a-c1e0-32e7c1253ee5"
      },
      "source": [
        "# importing grid search\r\n",
        "from sklearn.model_selection import GridSearchCV\r\n",
        "\r\n",
        "# setting variable names to get data\r\n",
        "type_inp = 'A'\r\n",
        "store_inp = 49\r\n",
        "num_past_inp = 25\r\n",
        "days_in_future_inp = 7\r\n",
        "\r\n",
        "# creating a dictionary to store data\r\n",
        "dt_dict = {'item_nbr': [], 'dt_test_mape': [], 'dt_test_rmsle': []}\r\n",
        "\r\n",
        "# looping through all items\r\n",
        "for item in tqdm(test_items):\r\n",
        "\r\n",
        "  # getting the data\r\n",
        "  X_train, X_val, X_test, y_train, y_val, y_test, ml_train, ml_val, ml_test = preprocess(type_inp, store_inp, item, days_in_future_inp, num_past_inp)\r\n",
        "\r\n",
        "  if X_train.size != 0:\r\n",
        "\r\n",
        "    # CREATING GRID\r\n",
        "\r\n",
        "    # max_depth of tree\r\n",
        "    max_depth = [int(x) for x in np.linspace(1, 20, num = 20)]\r\n",
        "    max_depth.append(None)\r\n",
        "    # min_samples_split possibilities\r\n",
        "    min_samples_split = [2, 5, 10, 15, 20, 25, 30]\r\n",
        "    # Create the hyperparameter grid\r\n",
        "    dt_grid = {'max_depth': max_depth,\r\n",
        "              'min_samples_split': min_samples_split\r\n",
        "              }\r\n",
        "    \r\n",
        "    # GRID SEARCH\r\n",
        "\r\n",
        "    # First create the base model to tune\r\n",
        "    dt = DecisionTreeRegressor()\r\n",
        "\r\n",
        "    # Grid search of parameters, using 10 fold cross validation, search across 100 different combinations, and use all available cores\r\n",
        "    dt_best = GridSearchCV(estimator=dt, param_grid=dt_grid, scoring=mape_scorer, cv=10, verbose=0, n_jobs=-1)\r\n",
        "\r\n",
        "    # Fit the model\r\n",
        "    dt_y_train = np.reshape(y_train, (y_train.shape[0]))\r\n",
        "    dt_best.fit(X_train, y_train)\r\n",
        "\r\n",
        "    # making predictions\r\n",
        "    dt_train_preds = dt_best.predict(X_train)\r\n",
        "    dt_test_preds = dt_best.predict(X_test)\r\n",
        "\r\n",
        "    # reshaping\r\n",
        "    train_labels = np.reshape(y_train, (y_train.shape[0]))\r\n",
        "    test_labels = np.reshape(y_test, (y_test.shape[0]))\r\n",
        "    rmsle_train_preds = np.reshape(dt_train_preds, (dt_train_preds.shape[0], 1))\r\n",
        "    rmsle_test_preds = np.reshape(dt_test_preds, (dt_test_preds.shape[0], 1))\r\n",
        "\r\n",
        "    # calculating error metrics\r\n",
        "    dt_train_mape = mape_func(dt_train_preds, train_labels)\r\n",
        "    dt_test_mape = mape_func(dt_test_preds, test_labels)\r\n",
        "    dt_train_rmsle = rmsle(train_labels, rmsle_train_preds)\r\n",
        "    dt_test_rmsle = rmsle(test_labels, rmsle_test_preds)\r\n",
        "\r\n",
        "    # adding to dictionary\r\n",
        "    dt_dict['item_nbr'].append(item)\r\n",
        "    dt_dict['dt_test_mape'].append(dt_test_mape)\r\n",
        "    dt_dict['dt_test_rmsle'].append(dt_test_rmsle)\r\n",
        "\r\n",
        "# making a dataframe\r\n",
        "dt_df = pd.DataFrame(dt_dict)\r\n",
        "\r\n",
        "dt_df.head()"
      ],
      "execution_count": null,
      "outputs": [
        {
          "output_type": "stream",
          "text": [
            "100%|██████████| 95/95 [53:38<00:00, 33.88s/it]\n"
          ],
          "name": "stderr"
        },
        {
          "output_type": "execute_result",
          "data": {
            "text/html": [
              "<div>\n",
              "<style scoped>\n",
              "    .dataframe tbody tr th:only-of-type {\n",
              "        vertical-align: middle;\n",
              "    }\n",
              "\n",
              "    .dataframe tbody tr th {\n",
              "        vertical-align: top;\n",
              "    }\n",
              "\n",
              "    .dataframe thead th {\n",
              "        text-align: right;\n",
              "    }\n",
              "</style>\n",
              "<table border=\"1\" class=\"dataframe\">\n",
              "  <thead>\n",
              "    <tr style=\"text-align: right;\">\n",
              "      <th></th>\n",
              "      <th>item_nbr</th>\n",
              "      <th>dt_test_mape</th>\n",
              "      <th>dt_test_rmsle</th>\n",
              "    </tr>\n",
              "  </thead>\n",
              "  <tbody>\n",
              "    <tr>\n",
              "      <th>0</th>\n",
              "      <td>1333307</td>\n",
              "      <td>24.971493</td>\n",
              "      <td>0.393912</td>\n",
              "    </tr>\n",
              "    <tr>\n",
              "      <th>1</th>\n",
              "      <td>502331</td>\n",
              "      <td>25.169007</td>\n",
              "      <td>0.275515</td>\n",
              "    </tr>\n",
              "    <tr>\n",
              "      <th>2</th>\n",
              "      <td>1309246</td>\n",
              "      <td>27.747450</td>\n",
              "      <td>0.351052</td>\n",
              "    </tr>\n",
              "    <tr>\n",
              "      <th>3</th>\n",
              "      <td>1998005</td>\n",
              "      <td>16.520559</td>\n",
              "      <td>0.235941</td>\n",
              "    </tr>\n",
              "    <tr>\n",
              "      <th>4</th>\n",
              "      <td>1309245</td>\n",
              "      <td>106.508693</td>\n",
              "      <td>0.793462</td>\n",
              "    </tr>\n",
              "  </tbody>\n",
              "</table>\n",
              "</div>"
            ],
            "text/plain": [
              "   item_nbr  dt_test_mape  dt_test_rmsle\n",
              "0   1333307     24.971493       0.393912\n",
              "1    502331     25.169007       0.275515\n",
              "2   1309246     27.747450       0.351052\n",
              "3   1998005     16.520559       0.235941\n",
              "4   1309245    106.508693       0.793462"
            ]
          },
          "metadata": {
            "tags": []
          },
          "execution_count": 106
        }
      ]
    },
    {
      "cell_type": "code",
      "metadata": {
        "colab": {
          "base_uri": "https://localhost:8080/"
        },
        "id": "cpczwN2V2AxE",
        "outputId": "2d6b1138-b0e8-4d60-c3e5-e268fc7cc4a1"
      },
      "source": [
        "print('Mean train MAPE: ' + str(round(np.mean(np.array(dt_df['dt_train_mape'])), 2)) + '%')\r\n",
        "print('Mean val MAPE: ' + str(round(np.mean(np.array(dt_df['dt_val_mape'])), 2)) + '%')\r\n",
        "print()\r\n",
        "print('Mean train RMSLE: ' + str(round(np.mean(np.array(dt_df['dt_train_rmsle'])), 2)))\r\n",
        "print('Mean val RMSLE: ' + str(round(np.mean(np.array(dt_df['dt_val_rmsle'])), 2)))"
      ],
      "execution_count": null,
      "outputs": [
        {
          "output_type": "stream",
          "text": [
            "Mean train MAPE: 76.69%\n",
            "Mean val MAPE: 53.44%\n",
            "\n",
            "Mean train RMSLE: 0.61\n",
            "Mean val RMSLE: 0.53\n"
          ],
          "name": "stdout"
        }
      ]
    },
    {
      "cell_type": "code",
      "metadata": {
        "id": "d8or6K8uEQv3"
      },
      "source": [
        "# Now, I will save this df to a csv in google drive\r\n",
        "\r\n",
        "dt_df.to_csv('dt_results.csv')\r\n",
        "!cp dt_results.csv \"drive/My Drive/High School/Science Fair 2020/Machine Learning/Nitya Mentorship/Notebook Versions/Results/Model Results/Testing Results\""
      ],
      "execution_count": null,
      "outputs": []
    },
    {
      "cell_type": "markdown",
      "metadata": {
        "id": "xxC5jLcHINFk"
      },
      "source": [
        "#### Combining Linreg and DT\r\n",
        "\r\n",
        "Do this to compare results."
      ]
    },
    {
      "cell_type": "code",
      "metadata": {
        "colab": {
          "base_uri": "https://localhost:8080/",
          "height": 204
        },
        "id": "GkN50qbTIQJf",
        "outputId": "f99479fb-a458-4cbb-8951-d086e3eaf54d"
      },
      "source": [
        "linreg_dt_df = pd.merge(linreg_df, dt_df, on='item_nbr')\r\n",
        "\r\n",
        "linreg_dt_df.head()"
      ],
      "execution_count": null,
      "outputs": [
        {
          "output_type": "execute_result",
          "data": {
            "text/html": [
              "<div>\n",
              "<style scoped>\n",
              "    .dataframe tbody tr th:only-of-type {\n",
              "        vertical-align: middle;\n",
              "    }\n",
              "\n",
              "    .dataframe tbody tr th {\n",
              "        vertical-align: top;\n",
              "    }\n",
              "\n",
              "    .dataframe thead th {\n",
              "        text-align: right;\n",
              "    }\n",
              "</style>\n",
              "<table border=\"1\" class=\"dataframe\">\n",
              "  <thead>\n",
              "    <tr style=\"text-align: right;\">\n",
              "      <th></th>\n",
              "      <th>item_nbr</th>\n",
              "      <th>linreg_train_mape</th>\n",
              "      <th>linreg_train_rmsle</th>\n",
              "      <th>linreg_val_mape</th>\n",
              "      <th>linreg_val_rmsle</th>\n",
              "      <th>dt_train_mape</th>\n",
              "      <th>dt_val_mape</th>\n",
              "      <th>dt_train_rmsle</th>\n",
              "      <th>dt_val_rmsle</th>\n",
              "    </tr>\n",
              "  </thead>\n",
              "  <tbody>\n",
              "    <tr>\n",
              "      <th>0</th>\n",
              "      <td>1333307</td>\n",
              "      <td>52.583374</td>\n",
              "      <td>0.516804</td>\n",
              "      <td>22.972528</td>\n",
              "      <td>0.283155</td>\n",
              "      <td>90.839694</td>\n",
              "      <td>25.989423</td>\n",
              "      <td>0.727196</td>\n",
              "      <td>0.419208</td>\n",
              "    </tr>\n",
              "    <tr>\n",
              "      <th>1</th>\n",
              "      <td>502331</td>\n",
              "      <td>28.634624</td>\n",
              "      <td>0.325896</td>\n",
              "      <td>22.567780</td>\n",
              "      <td>0.261024</td>\n",
              "      <td>32.019635</td>\n",
              "      <td>31.597488</td>\n",
              "      <td>0.360388</td>\n",
              "      <td>0.323093</td>\n",
              "    </tr>\n",
              "    <tr>\n",
              "      <th>2</th>\n",
              "      <td>1309246</td>\n",
              "      <td>41.429287</td>\n",
              "      <td>0.423720</td>\n",
              "      <td>27.041649</td>\n",
              "      <td>0.309537</td>\n",
              "      <td>56.954002</td>\n",
              "      <td>24.769253</td>\n",
              "      <td>0.530198</td>\n",
              "      <td>0.322671</td>\n",
              "    </tr>\n",
              "    <tr>\n",
              "      <th>3</th>\n",
              "      <td>1998005</td>\n",
              "      <td>48.102828</td>\n",
              "      <td>0.435544</td>\n",
              "      <td>21.114922</td>\n",
              "      <td>0.245381</td>\n",
              "      <td>102.309392</td>\n",
              "      <td>21.081374</td>\n",
              "      <td>0.713287</td>\n",
              "      <td>0.286125</td>\n",
              "    </tr>\n",
              "    <tr>\n",
              "      <th>4</th>\n",
              "      <td>1309245</td>\n",
              "      <td>116.079735</td>\n",
              "      <td>0.789549</td>\n",
              "      <td>53.198005</td>\n",
              "      <td>0.559631</td>\n",
              "      <td>82.739704</td>\n",
              "      <td>60.828383</td>\n",
              "      <td>0.640079</td>\n",
              "      <td>0.652263</td>\n",
              "    </tr>\n",
              "  </tbody>\n",
              "</table>\n",
              "</div>"
            ],
            "text/plain": [
              "   item_nbr  linreg_train_mape  ...  dt_train_rmsle  dt_val_rmsle\n",
              "0   1333307          52.583374  ...        0.727196      0.419208\n",
              "1    502331          28.634624  ...        0.360388      0.323093\n",
              "2   1309246          41.429287  ...        0.530198      0.322671\n",
              "3   1998005          48.102828  ...        0.713287      0.286125\n",
              "4   1309245         116.079735  ...        0.640079      0.652263\n",
              "\n",
              "[5 rows x 9 columns]"
            ]
          },
          "metadata": {
            "tags": []
          },
          "execution_count": 448
        }
      ]
    },
    {
      "cell_type": "code",
      "metadata": {
        "id": "HFrlPiKAIwWg"
      },
      "source": [
        "# Now, I will save this df to a csv in google drive\r\n",
        "\r\n",
        "linreg_dt_df.to_csv('linreg_dt_results.csv')\r\n",
        "!cp linreg_dt_results.csv \"drive/My Drive/High School/Science Fair 2020/Machine Learning/Nitya Mentorship/Notebook Versions/Results/Model Results\""
      ],
      "execution_count": null,
      "outputs": []
    },
    {
      "cell_type": "code",
      "metadata": {
        "colab": {
          "base_uri": "https://localhost:8080/"
        },
        "id": "NtKtBY-ZNZC2",
        "outputId": "ccce6961-dab5-4622-aae4-0fb4a23f80d1"
      },
      "source": [
        "print('mean dt:', np.mean(np.array(linreg_dt_df['dt_val_mape'])))\r\n",
        "print('mean linreg:', np.mean(np.array(linreg_dt_df['linreg_val_mape'])))"
      ],
      "execution_count": null,
      "outputs": [
        {
          "output_type": "stream",
          "text": [
            "mean dt: 53.442843331679974\n",
            "mean linreg: 45.16813765072474\n"
          ],
          "name": "stdout"
        }
      ]
    },
    {
      "cell_type": "markdown",
      "metadata": {
        "id": "GRnDv-hrLadu"
      },
      "source": [
        "### XGBoost"
      ]
    },
    {
      "cell_type": "markdown",
      "metadata": {
        "id": "u8fxHSfYpptw"
      },
      "source": [
        "#### Running on One Item"
      ]
    },
    {
      "cell_type": "markdown",
      "metadata": {
        "id": "oDRYXWtappug"
      },
      "source": [
        "First, we need to get the predictions."
      ]
    },
    {
      "cell_type": "code",
      "metadata": {
        "id": "gbH8VSN8ppui"
      },
      "source": [
        "# now, let's create a custom scorer using the MAPE\r\n",
        "\r\n",
        "from sklearn.metrics import make_scorer\r\n",
        "def mape_scorer(y_true, y_pred):\r\n",
        "  return mape_func(y_pred, y_true)\r\n",
        "\r\n",
        "# creating a new instance of a scorer\r\n",
        "scorer = make_scorer(mape_scorer, greater_is_better=False)"
      ],
      "execution_count": 65,
      "outputs": []
    },
    {
      "cell_type": "code",
      "metadata": {
        "id": "71VxA1Zwppul"
      },
      "source": [
        "# setting variable names to get data\r\n",
        "type_inp = 'A'\r\n",
        "store_inp = 49\r\n",
        "item_inp = 1926217\r\n",
        "num_past_inp = 25\r\n",
        "days_in_future_inp = 7\r\n",
        "\r\n",
        "from sklearn.model_selection import GridSearchCV\r\n",
        "from xgboost import xgb\r\n",
        "\r\n",
        "# getting data\r\n",
        "X_train, X_val, X_test, y_train, y_val, y_test, ml_train, ml_val, ml_test = preprocess(type_inp, store_inp, item_inp, days_in_future_inp, num_past_inp)\r\n",
        "\r\n",
        "# making sure we have enough data\r\n",
        "if X_train.size != 0:\r\n",
        "\r\n",
        "  # controlling the number of trees\r\n",
        "  n_estimators = [int(x) for x in np.linspace(1, 50, num=10)]\r\n",
        "\r\n",
        "  # controlling max_depth of each tree\r\n",
        "  max_depth = [int(x) for x in np.linspace(2, 30, num=15)]\r\n",
        "\r\n",
        "  # controlling learning rate\r\n",
        "  learning_rate = [x-1 for x in np.logspace(0.01, 0.3, num=10)]\r\n",
        "\r\n",
        "  # creating the grid\r\n",
        "  xgb_grid = {'n_estimators': n_estimators,\r\n",
        "              'max_depth': max_depth,\r\n",
        "              'learning_rate': learning_rate\r\n",
        "              }\r\n",
        "\r\n",
        "  # GRID SEARCH\r\n",
        "\r\n",
        "  # creating the base model\r\n",
        "  xgb_model = xgb.XGBRegressor(objective='reg:squarederror')\r\n",
        "\r\n",
        "  # Grid search of parameters, using 4 fold cross validation, use all available cores\r\n",
        "  grid = GridSearchCV(xgb_model, xgb_grid, verbose=1, scoring=scorer, cv = 3, n_jobs = -1)\r\n",
        "\r\n",
        "  # fitting the model\r\n",
        "  grid.fit(X_train, y_train)\r\n",
        "\r\n",
        "  # getting the best estimator and making predictions\r\n",
        "  xgb_y_train = np.reshape(y_train, (y_train.shape[0]))\r\n",
        "  grid.best_estimator_.fit(X_train, xgb_y_train)\r\n",
        "\r\n",
        "  train_preds = grid.best_estimator_.predict(X_train)\r\n",
        "  val_preds = grid.best_estimator_.predict(X_val)\r\n",
        "\r\n",
        "  # reshaping\r\n",
        "  train_labels = np.reshape(y_train, (y_train.shape[0]))\r\n",
        "  val_labels = np.reshape(y_val, (y_val.shape[0]))\r\n",
        "  rmsle_train_preds = np.reshape(train_preds, (train_preds.shape[0], 1))\r\n",
        "  rmsle_val_preds = np.reshape(val_preds, (val_preds.shape[0], 1))\r\n",
        "\r\n",
        "else:\r\n",
        "  print('Not enough data.')"
      ],
      "execution_count": 66,
      "outputs": []
    },
    {
      "cell_type": "markdown",
      "metadata": {
        "id": "YiXLOFnRppun"
      },
      "source": [
        "First, we need to figure out our error metrics."
      ]
    },
    {
      "cell_type": "code",
      "metadata": {
        "id": "T1EIC8MsxI__"
      },
      "source": [
        "xgb_grid"
      ],
      "execution_count": null,
      "outputs": []
    },
    {
      "cell_type": "code",
      "metadata": {
        "id": "GuPZclYzppup"
      },
      "source": [
        "# calculating error metrics\r\n",
        "train_mape = mape_func(train_preds, train_labels)\r\n",
        "val_mape = mape_func(val_preds, val_labels)\r\n",
        "train_rmsle = rmsle(y_train, rmsle_train_preds)\r\n",
        "val_rmsle = rmsle(y_val, rmsle_val_preds)\r\n",
        "\r\n",
        "# printing MAPE and RMSLE\r\n",
        "print('The val MAPE was: '+ str(round(val_mape, 2)) + '%')\r\n",
        "print('The val RMSLE was: '+ str(round(val_rmsle, 2)))"
      ],
      "execution_count": null,
      "outputs": []
    },
    {
      "cell_type": "markdown",
      "metadata": {
        "id": "J1P-kl_cppur"
      },
      "source": [
        "Then, we can print out the optimized model to take a look at the parameters."
      ]
    },
    {
      "cell_type": "code",
      "metadata": {
        "id": "86mp-RgRppus"
      },
      "source": [
        "grid.best_estimator_"
      ],
      "execution_count": null,
      "outputs": []
    },
    {
      "cell_type": "markdown",
      "metadata": {
        "id": "ZoCJtvFYppuu"
      },
      "source": [
        "Now, we can plot the predictions against the labels."
      ]
    },
    {
      "cell_type": "code",
      "metadata": {
        "id": "R9-B27L4ppuv"
      },
      "source": [
        "# setting variable names\r\n",
        "num_days_plot = 50\r\n",
        "\r\n",
        "# plot settings\r\n",
        "plt.figure(figsize=(8, 5))\r\n",
        "plt.style.use('ggplot')\r\n",
        "plt.xlabel(str(num_days_plot) + ' Days')\r\n",
        "plt.ylabel('Unit Sales')\r\n",
        "plt.title('Predicted Unit Sales of Decision Tree')\r\n",
        "\r\n",
        "# plotting the arrays\r\n",
        "plt.plot(dt_val_preds[:num_days_plot], label='Predictions')\r\n",
        "plt.plot(val_labels[:num_days_plot], label='Labels')\r\n",
        "plt.legend()\r\n",
        "plt.show()"
      ],
      "execution_count": null,
      "outputs": []
    },
    {
      "cell_type": "markdown",
      "metadata": {
        "id": "I0fvlWK4K5Mz"
      },
      "source": [
        "#### Running on All Items"
      ]
    },
    {
      "cell_type": "code",
      "metadata": {
        "id": "3tSXL05hLBO5"
      },
      "source": [
        "# setting variables for parameters\r\n",
        "item_input_nbr = 1503844\r\n",
        "type_input_nbr = 'A'\r\n",
        "days_in_future_input = 7\r\n",
        "num_past_input = 25\r\n",
        "ewma_num_past_input = 15\r\n",
        "store_nbr_input = 49\r\n",
        "\r\n",
        "# getting all preds and mse\r\n",
        "X_train, X_val, X_test, y_train, y_val, y_test, ml_train, ml_val, ml_test = preprocess(type_input_nbr, store_nbr_input, item_input_nbr, days_in_future_input, num_past_input)"
      ],
      "execution_count": null,
      "outputs": []
    },
    {
      "cell_type": "code",
      "metadata": {
        "id": "D0bcUHWRLBO5"
      },
      "source": [
        "from sklearn.model_selection import GridSearchCV\r\n",
        "\r\n",
        "# controlling the number of trees\r\n",
        "n_estimators = [int(x) for x in np.linspace(1, 50, num=12)]\r\n",
        "\r\n",
        "# controlling max_depth of each tree\r\n",
        "max_depth = [int(x) for x in np.linspace(2, 30, num=15)]\r\n",
        "\r\n",
        "# controlling learning rate\r\n",
        "learning_rate = [x-1 for x in np.logspace(0.01, 0.3, num=10)]\r\n",
        "\r\n",
        "# creating the grid\r\n",
        "xgb_grid = {'n_estimators': n_estimators,\r\n",
        "            'max_depth': max_depth,\r\n",
        "            'learning_rate': learning_rate\r\n",
        "            }"
      ],
      "execution_count": null,
      "outputs": []
    },
    {
      "cell_type": "code",
      "metadata": {
        "id": "pNg8bOdMLBO5"
      },
      "source": [
        "# creating a custom scorer\r\n",
        "\r\n",
        "from sklearn.metrics import make_scorer\r\n",
        "\r\n",
        "def mape_scorer(y_true, y_pred):\r\n",
        "  return mape_func(y_pred, y_true)\r\n",
        "\r\n",
        "scorer = make_scorer(mape_scorer, greater_is_better=False)"
      ],
      "execution_count": null,
      "outputs": []
    },
    {
      "cell_type": "code",
      "metadata": {
        "colab": {
          "base_uri": "https://localhost:8080/"
        },
        "id": "lm8rr1XTLBO6",
        "outputId": "e12462bc-6095-4bf7-88a4-d30175b9ec5b"
      },
      "source": [
        "# creating the base model\r\n",
        "xgb_model = xgb.XGBRegressor(objective='reg:squarederror')\r\n",
        "\r\n",
        "# Grid search of parameters, using 3 fold cross validation, use all available cores\r\n",
        "grid = GridSearchCV(xgb_model, xgb_grid, verbose=1, scoring=scorer, cv = 3, n_jobs = -1)\r\n",
        "\r\n",
        "# altering y_train & fitting the model\r\n",
        "xgb_y_train = np.reshape(y_train, (y_train.shape[0]))\r\n",
        "grid.fit(X_train, xgb_y_train)"
      ],
      "execution_count": null,
      "outputs": [
        {
          "output_type": "stream",
          "text": [
            "Fitting 3 folds for each of 1800 candidates, totalling 5400 fits\n"
          ],
          "name": "stdout"
        },
        {
          "output_type": "stream",
          "text": [
            "[Parallel(n_jobs=-1)]: Using backend LokyBackend with 4 concurrent workers.\n",
            "[Parallel(n_jobs=-1)]: Done  42 tasks      | elapsed:    2.3s\n",
            "[Parallel(n_jobs=-1)]: Done 296 tasks      | elapsed:   22.4s\n",
            "[Parallel(n_jobs=-1)]: Done 546 tasks      | elapsed:   50.4s\n",
            "[Parallel(n_jobs=-1)]: Done 1004 tasks      | elapsed:  1.6min\n",
            "[Parallel(n_jobs=-1)]: Done 1558 tasks      | elapsed:  2.5min\n",
            "[Parallel(n_jobs=-1)]: Done 2224 tasks      | elapsed:  3.7min\n",
            "[Parallel(n_jobs=-1)]: Done 3082 tasks      | elapsed:  5.3min\n",
            "[Parallel(n_jobs=-1)]: Done 4060 tasks      | elapsed:  6.9min\n",
            "[Parallel(n_jobs=-1)]: Done 5118 tasks      | elapsed:  8.4min\n",
            "[Parallel(n_jobs=-1)]: Done 5400 out of 5400 | elapsed:  8.8min finished\n"
          ],
          "name": "stderr"
        },
        {
          "output_type": "execute_result",
          "data": {
            "text/plain": [
              "GridSearchCV(cv=3, error_score=nan,\n",
              "             estimator=XGBRegressor(base_score=0.5, booster='gbtree',\n",
              "                                    colsample_bylevel=1, colsample_bynode=1,\n",
              "                                    colsample_bytree=1, gamma=0,\n",
              "                                    importance_type='gain', learning_rate=0.1,\n",
              "                                    max_delta_step=0, max_depth=3,\n",
              "                                    min_child_weight=1, missing=None,\n",
              "                                    n_estimators=100, n_jobs=1, nthread=None,\n",
              "                                    objective='reg:squarederror',\n",
              "                                    random_state=0, reg_alpha=...\n",
              "                                           0.37685716485275833,\n",
              "                                           0.48289742522992474,\n",
              "                                           0.5971044999346031,\n",
              "                                           0.7201073656971679,\n",
              "                                           0.8525834406244575,\n",
              "                                           0.9952623149688795],\n",
              "                         'max_depth': [2, 4, 6, 8, 10, 12, 14, 16, 18, 20, 22,\n",
              "                                       24, 26, 28, 30],\n",
              "                         'n_estimators': [1, 5, 9, 14, 18, 23, 27, 32, 36, 41,\n",
              "                                          45, 50]},\n",
              "             pre_dispatch='2*n_jobs', refit=True, return_train_score=False,\n",
              "             scoring=make_scorer(mape_scorer, greater_is_better=False),\n",
              "             verbose=1)"
            ]
          },
          "metadata": {
            "tags": []
          },
          "execution_count": 126
        }
      ]
    },
    {
      "cell_type": "code",
      "metadata": {
        "colab": {
          "base_uri": "https://localhost:8080/"
        },
        "id": "QlWYK8e2LBO6",
        "outputId": "0f1c24bc-f90d-4cc2-8432-81af98793042"
      },
      "source": [
        "xgb_y_train = np.reshape(y_train, (y_train.shape[0]))\r\n",
        "grid.best_estimator_.fit(X_train, xgb_y_train)\r\n",
        "preds = grid.best_estimator_.predict(X_val)\r\n",
        "\r\n",
        "print(mape_func(preds, y_val))"
      ],
      "execution_count": null,
      "outputs": [
        {
          "output_type": "stream",
          "text": [
            "23.397327900669897\n"
          ],
          "name": "stdout"
        }
      ]
    },
    {
      "cell_type": "code",
      "metadata": {
        "colab": {
          "base_uri": "https://localhost:8080/",
          "height": 282
        },
        "id": "dL0L7PfALBO6",
        "outputId": "92efc08b-fec1-45b0-cc8b-174a0e3b7aa8"
      },
      "source": [
        "plt.plot(preds[-100:], color='red')\r\n",
        "plt.plot(y_val[-100:], color='green')"
      ],
      "execution_count": null,
      "outputs": [
        {
          "output_type": "execute_result",
          "data": {
            "text/plain": [
              "[<matplotlib.lines.Line2D at 0x7f5a7ad171d0>]"
            ]
          },
          "metadata": {
            "tags": []
          },
          "execution_count": 128
        },
        {
          "output_type": "display_data",
          "data": {
            "image/png": "[encoded data removed]",
            "text/plain": [
              "<Figure size 432x288 with 1 Axes>"
            ]
          },
          "metadata": {
            "tags": [],
            "needs_background": "light"
          }
        }
      ]
    },
    {
      "cell_type": "markdown",
      "metadata": {
        "id": "L6eKNwbKM7UU"
      },
      "source": [
        "Comparing to linear regression."
      ]
    },
    {
      "cell_type": "code",
      "metadata": {
        "colab": {
          "base_uri": "https://localhost:8080/"
        },
        "id": "A7o65MFaLBO7",
        "outputId": "1c2a0c9b-a0c7-4da1-fa17-c08cbb440972"
      },
      "source": [
        "linreg_preds, linreg_mse, linreg_mae, linreg_mape, linreg_labels = linreg_model(X_train, X_val, y_train, y_val)\r\n",
        "print(linreg_mape)"
      ],
      "execution_count": null,
      "outputs": [
        {
          "output_type": "stream",
          "text": [
            "22.42151660558681\n"
          ],
          "name": "stdout"
        }
      ]
    },
    {
      "cell_type": "markdown",
      "metadata": {
        "id": "jo0YTU4lM80y"
      },
      "source": [
        "Comparing to unoptimized XGBoost."
      ]
    },
    {
      "cell_type": "code",
      "metadata": {
        "colab": {
          "base_uri": "https://localhost:8080/"
        },
        "id": "L55ZtcaSLBO7",
        "outputId": "938c339c-8a70-4f27-dfa4-1535bda01013"
      },
      "source": [
        "xgb_model = xgb.XGBRegressor(objective='reg:squarederror')\r\n",
        "xgb_model.fit(X_train, y_train)\r\n",
        "no_opt_preds = xgb_model.predict(X_val)\r\n",
        "\r\n",
        "print(mape_func(no_opt_preds, y_val))"
      ],
      "execution_count": null,
      "outputs": [
        {
          "output_type": "stream",
          "text": [
            "24.30198787433596\n"
          ],
          "name": "stdout"
        }
      ]
    },
    {
      "cell_type": "markdown",
      "metadata": {
        "id": "SXqahBR7NBPy"
      },
      "source": [
        "Running on all items."
      ]
    },
    {
      "cell_type": "code",
      "metadata": {
        "id": "bgng99pGLBO7"
      },
      "source": [
        "from sklearn.model_selection import GridSearchCV\r\n",
        "\r\n",
        "# setting variables for parameters\r\n",
        "type_input_nbr = 'A'\r\n",
        "days_in_future_input = 1\r\n",
        "num_past_input = 25\r\n",
        "ewma_num_past_input = 15\r\n",
        "store_nbr_input = 49\r\n",
        "\r\n",
        "# dict\r\n",
        "xgb_opt_dict = {'item_nbr': [], 'xgb_mape': [], 'xgb_rmsle': [], 'xgb_mae': []}\r\n",
        "\r\n",
        "# items list\r\n",
        "items = test_items\r\n",
        "\r\n",
        "for item in tqdm(items[27:50]):\r\n",
        "  \r\n",
        "  # getting all data\r\n",
        "  X_train, X_val, X_test, y_train, y_val, y_test, ml_train, ml_val, ml_test = preprocess(type_input_nbr, store_nbr_input, item, days_in_future_input, num_past_input)\r\n",
        "\r\n",
        "  if X_train.size != 0:\r\n",
        "\r\n",
        "    # controlling the number of trees\r\n",
        "    n_estimators = [int(x) for x in np.linspace(2, 30, num=15)]\r\n",
        "\r\n",
        "    # controlling max_depth of each tree\r\n",
        "    max_depth = [int(x) for x in np.linspace(2, 30, num=15)]\r\n",
        "    max_depth.append(6)\r\n",
        "\r\n",
        "    # controlling learning rate\r\n",
        "    learning_rate = [x-1 for x in np.logspace(0.01, 0.3, num=10)]     # CHANGE COMPARED TO LAST WEEK - LINSPACE CHANGED TO LOGSPACE\r\n",
        "    learning_rate.append(0.3)\r\n",
        "\r\n",
        "    # creating the grid\r\n",
        "    xgb_grid = {'n_estimators': n_estimators,\r\n",
        "                'max_depth': max_depth,\r\n",
        "                'learning_rate': learning_rate\r\n",
        "                }\r\n",
        "    \r\n",
        "    # creating the base model\r\n",
        "    xgb_model = xgb.XGBRegressor(objective='reg:squarederror', nthread=-1, njobs=-1)\r\n",
        "\r\n",
        "    # Grid search of parameters, using 3 fold cross validation, use all available cores\r\n",
        "    grid = GridSearchCV(xgb_model, xgb_grid, verbose=2, scoring=scorer, cv = 3, n_jobs = -1)\r\n",
        "\r\n",
        "    # altering y_train & fitting the model\r\n",
        "    xgb_y_train = np.reshape(y_train, (y_train.shape[0]))\r\n",
        "    grid.fit(X_train, xgb_y_train)\r\n",
        "\r\n",
        "    # getting preds\r\n",
        "    grid.best_estimator_.fit(X_train, xgb_y_train)\r\n",
        "    xgb_preds = grid.best_estimator_.predict(X_test)\r\n",
        "\r\n",
        "    # removing the bad data\r\n",
        "    if item == 1503844:\r\n",
        "      for i in range(len(y_test)):\r\n",
        "        if y_test[i][0] < 1:\r\n",
        "          xgb_preds = np.delete(xgb_preds, i, 0)\r\n",
        "          y_test = np.delete(y_test, i, 0)\r\n",
        "          break\r\n",
        "\r\n",
        "    # creating 1d and 2d preds and labels\r\n",
        "    one_d_xgb_preds = np.reshape(xgb_preds, (xgb_preds.shape[0]))\r\n",
        "    one_d_xgb_labels = np.reshape(y_test, (y_test.shape[0]))\r\n",
        "    two_d_xgb_preds = np.reshape(xgb_preds, (xgb_preds.shape[0], 1))\r\n",
        "    two_d_xgb_labels = np.reshape(y_test, (y_test.shape[0], 1))\r\n",
        "\r\n",
        "    # get error metrics\r\n",
        "    xgb_mape = mape_func(one_d_xgb_preds, one_d_xgb_labels)\r\n",
        "    xgb_rmsle = rmsle(two_d_xgb_labels, two_d_xgb_preds)\r\n",
        "    xgb_mae = mean_absolute_error(one_d_xgb_labels, one_d_xgb_preds)\r\n",
        "\r\n",
        "    # append to dictionary\r\n",
        "    xgb_opt_dict['item_nbr'].append(item)\r\n",
        "    xgb_opt_dict['xgb_mape'].append(xgb_mape)\r\n",
        "    xgb_opt_dict['xgb_rmsle'].append(xgb_rmsle)\r\n",
        "    xgb_opt_dict['xgb_mae'].append(xgb_mae)\r\n",
        "\r\n",
        "xgb_opt_df = pd.DataFrame(xgb_opt_dict)\r\n",
        "\r\n",
        "xgb_opt_df.head()"
      ],
      "execution_count": 69,
      "outputs": []
    },
    {
      "cell_type": "code",
      "metadata": {
        "id": "Uj7DnQ6EOvL-"
      },
      "source": [
        "# Now, I will save this df to a csv in google drive\r\n",
        "\r\n",
        "xgb_opt_df.to_csv('xgb_results_27_to_50.csv')\r\n",
        "!cp xgb_results_27_to_50.csv \"drive/My Drive/High School/Science Fair 2020/Machine Learning/Nitya Mentorship/Notebook Versions/Results/Model Results/Testing Results - 1 Day\""
      ],
      "execution_count": 69,
      "outputs": []
    },
    {
      "cell_type": "markdown",
      "metadata": {
        "id": "VnUzeq0yQPHP"
      },
      "source": [
        "#### Building One XGBoost model for **all items** - BEST RESULTS"
      ]
    },
    {
      "cell_type": "code",
      "metadata": {
        "id": "6nqODVFcQTSt"
      },
      "source": [
        "\"\"\"\r\n",
        "Notes\r\n",
        "\r\n",
        "- one XGBoost for 95 items, store 49\r\n",
        "- data format:\r\n",
        "    [t-25 sales, t-24 sales, ... , t sales, one-hot encoding of 95 items]\r\n",
        "- how to get data:\r\n",
        "  - get clear dates for train, val, and test\r\n",
        "  - get 25-vectors and add one-hot encoding for all three\r\n",
        "  - combine arrays for all items\r\n",
        "\r\n",
        "\"\"\""
      ],
      "execution_count": null,
      "outputs": []
    },
    {
      "cell_type": "markdown",
      "metadata": {
        "id": "BcmWwUMp3myj"
      },
      "source": [
        "##### Creating `get_data_items`, function needed to get the sales data for each item family."
      ]
    },
    {
      "cell_type": "code",
      "metadata": {
        "id": "4AoyQ7iwS49f"
      },
      "source": [
        "def get_data_items(test_items, item_family):\r\n",
        "\r\n",
        "  return_items = []\r\n",
        "\r\n",
        "  for item in test_items:\r\n",
        "    temp_item_family = np.array(items_df.loc[items_df['item_nbr'] == item, 'family'])[0]\r\n",
        "    if temp_item_family == item_family:\r\n",
        "      return_items.append(item)\r\n",
        "  \r\n",
        "  return return_items"
      ],
      "execution_count": 70,
      "outputs": []
    },
    {
      "cell_type": "markdown",
      "metadata": {
        "id": "K6X2Mnlc3rjV"
      },
      "source": [
        "##### Actually getting all the data."
      ]
    },
    {
      "cell_type": "code",
      "metadata": {
        "id": "xgsd5kppSYqf"
      },
      "source": [
        "# defining what store to get data from\r\n",
        "days_in_future_input = 1\r\n",
        "num_past = 25\r\n",
        "type_input_nbr = 'A'\r\n",
        "\r\n",
        "# creating a list of item families and stores\r\n",
        "families = np.unique(np.array(items_df.loc[items_df['perishable'] == 1, 'family']))\r\n",
        "families_num = np.arange(1, len(families) + 1)\r\n",
        "families_dict = dict(zip(families, families_num))\r\n",
        "stores = np.unique(np.array(stores_df.loc[stores_df['type'] == 'A', 'store_nbr']))\r\n",
        "\r\n",
        "# stores = [1, 2, 3, 4]\r\n",
        "\r\n",
        "X_train_complete, X_val_complete, X_test_complete, y_train_complete, y_val_complete, y_test_complete = [], [], [], [], [], []\r\n",
        "\r\n",
        "for h in range(len(stores)):\r\n",
        "\r\n",
        "  store = stores[h]\r\n",
        "\r\n",
        "  # narrowing down df and getting dates\r\n",
        "  temp_df = train[train['store_nbr'] == store]\r\n",
        "  dates = np.array(temp_df['date'].unique())\r\n",
        "\r\n",
        "  # defining separate train, test, and val dates\r\n",
        "  train_len = int(len(dates) * 0.7)\r\n",
        "  val_len = int(len(dates) * 0.15)\r\n",
        "  test_len = int(len(dates) * 0.15)\r\n",
        "\r\n",
        "  # getting date restrictions\r\n",
        "  train_dates = dates[:train_len]\r\n",
        "  val_dates = dates[train_len:train_len + val_len]\r\n",
        "  test_dates = dates[train_len + val_len:]\r\n",
        "\r\n",
        "  # keeping track of usable items\r\n",
        "  usable_items = []\r\n",
        "\r\n",
        "  # looping through all items\r\n",
        "  for item in test_items:\r\n",
        "    \r\n",
        "    # narrowing down df\r\n",
        "    temp_item_df = temp_df[temp_df['item_nbr'] == item]\r\n",
        "\r\n",
        "    # creating train df\r\n",
        "    temp_train_df = temp_item_df[temp_item_df['date'] <= train_dates[-1]]\r\n",
        "    temp_train_df = temp_train_df.groupby(['date']).sum()\r\n",
        "\r\n",
        "    # creating val df\r\n",
        "    temp_val_df = temp_item_df[temp_item_df['date'] >= val_dates[1]]\r\n",
        "    temp_val_df = temp_val_df[temp_val_df['date'] <= val_dates[-1]]\r\n",
        "    temp_val_df = temp_val_df.groupby(['date']).sum()\r\n",
        "\r\n",
        "    # creating test df\r\n",
        "    temp_test_df = temp_item_df[temp_item_df['date'] >= test_dates[1]]\r\n",
        "    temp_test_df = temp_test_df.groupby(['date']).sum()\r\n",
        "\r\n",
        "    # checking to see if the item has enough data\r\n",
        "    if len(temp_train_df) > num_past + days_in_future_input and len(temp_val_df) > num_past + days_in_future_input and len(temp_test_df) > num_past + days_in_future_input:\r\n",
        "\r\n",
        "      # appending to usable_items arr\r\n",
        "      usable_items.append(item)\r\n",
        "    \r\n",
        "  # creating full arrays\r\n",
        "  X_train_full, X_val_full, X_test_full, y_train_full, y_val_full, y_test_full = [], [], [], [], [], []\r\n",
        "\r\n",
        "  for i in range(len(usable_items)):\r\n",
        "\r\n",
        "    # getting the current item\r\n",
        "    item = usable_items[i]\r\n",
        "\r\n",
        "    # narrowing down df\r\n",
        "    temp_item_df = temp_df[temp_df['item_nbr'] == item]\r\n",
        "\r\n",
        "    # creating train df\r\n",
        "    temp_train_df = temp_item_df[temp_item_df['date'] <= train_dates[-1]]\r\n",
        "    temp_train_df = temp_train_df.groupby(['date']).sum()\r\n",
        "\r\n",
        "    # creating val df\r\n",
        "    temp_val_df = temp_item_df[temp_item_df['date'] >= val_dates[1]]\r\n",
        "    temp_val_df = temp_val_df[temp_val_df['date'] <= val_dates[-1]]\r\n",
        "    temp_val_df = temp_val_df.groupby(['date']).sum()\r\n",
        "\r\n",
        "    # creating test df\r\n",
        "    temp_test_df = temp_item_df[temp_item_df['date'] >= test_dates[1]]\r\n",
        "    temp_test_df = temp_test_df.groupby(['date']).sum()\r\n",
        "\r\n",
        "    # checking to see if the item has enough data\r\n",
        "    if len(temp_train_df) > num_past + days_in_future_input and len(temp_val_df) > num_past + days_in_future_input and len(temp_test_df) > num_past + days_in_future_input:\r\n",
        "\r\n",
        "      # getting train sales\r\n",
        "      X_train_arr = np.array(temp_train_df['unit_sales'])[:-days_in_future_input]\r\n",
        "      y_train_arr = np.array(temp_train_df['unit_sales'])[days_in_future_input:]\r\n",
        "\r\n",
        "      # reshaping train sales\r\n",
        "      X_train_arr = np.reshape(X_train_arr, (X_train_arr.shape[0], 1))\r\n",
        "      y_train_arr = np.reshape(y_train_arr, (y_train_arr.shape[0], 1))\r\n",
        "\r\n",
        "      # getting train feature vectors\r\n",
        "      X_train, y_train = construct_predictor_vectors(X_train_arr, y_train_arr, num_past)\r\n",
        "\r\n",
        "      # getting val sales\r\n",
        "      X_val_arr = np.array(temp_val_df['unit_sales'])[:-days_in_future_input]\r\n",
        "      y_val_arr = np.array(temp_val_df['unit_sales'])[days_in_future_input:]\r\n",
        "\r\n",
        "      # reshaping val sales\r\n",
        "      X_val_arr = np.reshape(X_val_arr, (X_val_arr.shape[0], 1))\r\n",
        "      y_val_arr = np.reshape(y_val_arr, (y_val_arr.shape[0], 1))\r\n",
        "\r\n",
        "      # getting val feature vectors\r\n",
        "      X_val, y_val = construct_predictor_vectors(X_val_arr, y_val_arr, num_past)\r\n",
        "\r\n",
        "      # getting test sales\r\n",
        "      X_test_arr = np.array(temp_test_df['unit_sales'])[:-days_in_future_input]\r\n",
        "      y_test_arr = np.array(temp_test_df['unit_sales'])[days_in_future_input:]\r\n",
        "\r\n",
        "      # reshaping test sales\r\n",
        "      X_test_arr = np.reshape(X_test_arr, (X_test_arr.shape[0], 1))\r\n",
        "      y_test_arr = np.reshape(y_test_arr, (y_test_arr.shape[0], 1))\r\n",
        "    \r\n",
        "      # getting test feature vectors\r\n",
        "      X_test, y_test = construct_predictor_vectors(X_test_arr, y_test_arr, num_past)\r\n",
        "\r\n",
        "      # creating the one-hot encoding\r\n",
        "      # one_hot_arr = np.zeros(len(usable_items))\r\n",
        "      # one_hot_arr[i] = 1\r\n",
        "\r\n",
        "      # creating the new arrays to fit the one-hot\r\n",
        "      num_extra_features = 3\r\n",
        "      new_X_train = np.zeros((X_train.shape[0], X_train.shape[1] + num_extra_features))\r\n",
        "      new_X_val = np.zeros((X_val.shape[0], X_val.shape[1] + num_extra_features))\r\n",
        "      new_X_test = np.zeros((X_test.shape[0], X_test.shape[1] + num_extra_features))\r\n",
        "\r\n",
        "      # adding category as a feature\r\n",
        "      temp_family_num = families_dict[np.array(items_df.loc[items_df['item_nbr'] == item, 'family'])[0]]\r\n",
        "      \r\n",
        "      # adding the one-hot encoding - with store as a feature\r\n",
        "      for j in range(len(X_train)):\r\n",
        "        new_X_train[j] = list(X_train[j]) + [item] + [temp_family_num] + [store]\r\n",
        "      for j in range(len(X_val)):\r\n",
        "        new_X_val[j] = list(X_val[j]) + [item] + [temp_family_num] + [store]\r\n",
        "      for j in range(len(X_test)):\r\n",
        "        new_X_test[j] = list(X_test[j]) + [item] + [temp_family_num] + [store]\r\n",
        "\r\n",
        "      X_train = new_X_train\r\n",
        "      X_val = new_X_val\r\n",
        "      X_test = new_X_test\r\n",
        "\r\n",
        "      if i == 0:\r\n",
        "        X_train_full = X_train.copy()\r\n",
        "        X_val_full = X_val.copy()\r\n",
        "        X_test_full = X_test.copy()\r\n",
        "        y_train_full = y_train.copy()\r\n",
        "        y_val_full = y_val.copy()\r\n",
        "        y_test_full = y_test.copy()\r\n",
        "      else:\r\n",
        "        X_train_full = np.concatenate((X_train_full, X_train), axis=0)\r\n",
        "        y_train_full = np.concatenate((y_train_full, y_train), axis=0)\r\n",
        "        X_val_full = np.concatenate((X_val_full, X_val), axis=0)\r\n",
        "        y_val_full = np.concatenate((y_val_full, y_val), axis=0)\r\n",
        "        X_test_full = np.concatenate((X_test_full, X_test), axis=0)\r\n",
        "        y_test_full = np.concatenate((y_test_full, y_test), axis=0)\r\n",
        "\r\n",
        "  if h == 0:\r\n",
        "    X_train_complete = X_train_full.copy()\r\n",
        "    X_val_complete = X_val_full.copy()\r\n",
        "    X_test_complete = X_test_full.copy()\r\n",
        "    y_train_complete = y_train_full.copy()\r\n",
        "    y_val_complete = y_val_full.copy()\r\n",
        "    y_test_complete = y_test_full.copy()\r\n",
        "  else:\r\n",
        "    if len(X_train_full) != 0:\r\n",
        "      X_train_complete = np.concatenate((X_train_complete, X_train_full), axis=0)\r\n",
        "      y_train_complete = np.concatenate((y_train_complete, y_train_full), axis=0)\r\n",
        "      X_val_complete = np.concatenate((X_val_complete, X_val_full), axis=0)\r\n",
        "      y_val_complete = np.concatenate((y_val_complete, y_val_full), axis=0)\r\n",
        "      X_test_complete = np.concatenate((X_test_complete, X_test_full), axis=0)\r\n",
        "      y_test_complete = np.concatenate((y_test_complete, y_test_full), axis=0)"
      ],
      "execution_count": 71,
      "outputs": []
    },
    {
      "cell_type": "markdown",
      "metadata": {
        "id": "SxwaPwa3WQy3"
      },
      "source": [
        "##### Running the base model"
      ]
    },
    {
      "cell_type": "code",
      "metadata": {
        "colab": {
          "base_uri": "https://localhost:8080/"
        },
        "id": "2GF9WqbWgF8l",
        "outputId": "098c1967-c8d6-4ff3-9073-14b5b61ef0bd"
      },
      "source": [
        "import xgboost as xgb\r\n",
        "\r\n",
        "model = xgb.XGBRegressor(objective='reg:squarederror', n_estimators=20, min_samples_split=15, max_depth=20)\r\n",
        "# model = xgb.XGBRegressor(objective='reg:squarederror')\r\n",
        "model.fit(X_train_complete, y_train_complete)\r\n",
        "preds = model.predict(X_val_complete)\r\n",
        "\r\n",
        "preds = np.reshape(preds, (preds.shape[0], 1))\r\n",
        "\r\n",
        "mape_func(preds, y_val_complete)"
      ],
      "execution_count": 75,
      "outputs": [
        {
          "output_type": "execute_result",
          "data": {
            "text/plain": [
              "50.47915827806221"
            ]
          },
          "metadata": {
            "tags": []
          },
          "execution_count": 75
        }
      ]
    },
    {
      "cell_type": "code",
      "metadata": {
        "colab": {
          "base_uri": "https://localhost:8080/",
          "height": 0
        },
        "id": "fZmAbQr2QvnA",
        "outputId": "9bd0148a-b6d6-4251-cb40-c2c62eda5aa3"
      },
      "source": [
        "plt.bar(range(len(model.feature_importances_)), model.feature_importances_)\r\n",
        "plt.show()"
      ],
      "execution_count": 76,
      "outputs": [
        {
          "output_type": "display_data",
          "data": {
            "image/png": "[encoded data removed]",
            "text/plain": [
              "<Figure size 432x288 with 1 Axes>"
            ]
          },
          "metadata": {
            "tags": []
          }
        }
      ]
    },
    {
      "cell_type": "code",
      "metadata": {
        "colab": {
          "base_uri": "https://localhost:8080/"
        },
        "id": "v8SCZ2n0XinC",
        "outputId": "727fa922-4ae0-4466-d3a4-91dab132146b"
      },
      "source": [
        "X_val_complete[0]"
      ],
      "execution_count": 77,
      "outputs": [
        {
          "output_type": "execute_result",
          "data": {
            "text/plain": [
              "array([5.20000e+01, 5.90000e+01, 4.60000e+01, 3.40000e+01, 7.90000e+01,\n",
              "       1.06000e+02, 6.60000e+01, 6.10000e+01, 4.70000e+01, 4.60000e+01,\n",
              "       5.20000e+01, 1.02000e+02, 1.15000e+02, 6.00000e+01, 4.60000e+01,\n",
              "       5.40000e+01, 2.60000e+01, 7.80000e+01, 9.30000e+01, 6.50000e+01,\n",
              "       6.70000e+01, 7.70000e+01, 7.60000e+01, 1.21000e+02, 1.87000e+02,\n",
              "       5.02331e+05, 1.00000e+00, 4.40000e+01])"
            ]
          },
          "metadata": {
            "tags": []
          },
          "execution_count": 77
        }
      ]
    },
    {
      "cell_type": "markdown",
      "metadata": {
        "id": "Heknnd1SdDta"
      },
      "source": [
        "##### Finding best parameters with Grid Search"
      ]
    },
    {
      "cell_type": "code",
      "metadata": {
        "id": "8cNwFIxndFMf"
      },
      "source": [
        "# now, let's create a custom scorer using the RMSLE\r\n",
        "\r\n",
        "from sklearn.metrics import make_scorer\r\n",
        "def rmsle_scorer(y_true, y_pred):\r\n",
        "  return rmsle(y_true, y_pred)\r\n",
        "\r\n",
        "# creating a new instance of a scorer\r\n",
        "rmsle_scorer_instance = make_scorer(rmsle_scorer, greater_is_better=False)"
      ],
      "execution_count": null,
      "outputs": []
    },
    {
      "cell_type": "code",
      "metadata": {
        "id": "l_Iqc8UohWBl"
      },
      "source": [
        "# now, let's create a custom scorer using the MAPE\r\n",
        "\r\n",
        "from sklearn.metrics import make_scorer\r\n",
        "def mape_scorer(y_true, y_pred):\r\n",
        "  return mape_func(y_pred, y_true)\r\n",
        "\r\n",
        "# creating a new instance of a scorer\r\n",
        "scorer = make_scorer(mape_scorer, greater_is_better=False)"
      ],
      "execution_count": null,
      "outputs": []
    },
    {
      "cell_type": "code",
      "metadata": {
        "colab": {
          "base_uri": "https://localhost:8080/"
        },
        "id": "AKQ72ay8dMkb",
        "outputId": "05dc9241-4571-471f-95e7-6dfeaeefc634"
      },
      "source": [
        "from sklearn.model_selection import GridSearchCV\r\n",
        "\r\n",
        "# running a grid search\r\n",
        "# controlling three parameters: n_estimators, max_depth, min_samples_split\r\n",
        "\r\n",
        "# controlling the number of trees\r\n",
        "# n_estimators = [int(x) for x in np.linspace(1, 100, num=15)]\r\n",
        "n_estimators = [int(x) for x in np.linspace(15, 20, num=1)]\r\n",
        "\r\n",
        "# controlling max_depth of each tree\r\n",
        "# max_depth = [int(x) for x in np.linspace(2, 30, num=15)]\r\n",
        "max_depth = [int(x) for x in np.linspace(15, 20, num=1)]\r\n",
        "\r\n",
        "# controlling learning rate\r\n",
        "learning_rate = [x-1 for x in np.logspace(0.01, 0.1, num=10)]\r\n",
        "\r\n",
        "# creating the grid\r\n",
        "xgb_grid = {'n_estimators': n_estimators,\r\n",
        "            'max_depth': max_depth,\r\n",
        "            'learning_rate': learning_rate\r\n",
        "            }\r\n",
        "\r\n",
        "# GRID SEARCH\r\n",
        "\r\n",
        "# creating the base model\r\n",
        "xgb_base_model = xgb.XGBRegressor(objective='reg:squarederror', n_jobs=-1)\r\n",
        "\r\n",
        "# Grid search of parameters, using 4 fold cross validation, use all available cores\r\n",
        "xgb_grid = GridSearchCV(xgb_base_model, xgb_grid, verbose=2, scoring='neg_mean_squared_error', cv=2)\r\n",
        "\r\n",
        "# reshaping X_train\r\n",
        "X_train_grid_search = np.reshape(X_train_complete, (X_train_complete.shape[0], X_train_complete.shape[1], 1))\r\n",
        "\r\n",
        "# fitting the model\r\n",
        "xgb_grid.fit(X_train_complete, y_train_complete)\r\n",
        "\r\n",
        "# making predictions\r\n",
        "xgb_grid_val_preds = xgb_grid.best_estimator_.predict(X_val_complete)\r\n",
        "\r\n",
        "# reshaping predictions\r\n",
        "xgb_grid_val_preds = np.reshape(xgb_grid_val_preds, (xgb_grid_val_preds.shape[0]))\r\n",
        "xgb_grid_val_labels = np.reshape(y_val_complete, (y_val_complete.shape[0]))\r\n",
        "\r\n",
        "mape_func(xgb_grid_val_preds, xgb_grid_val_labels)"
      ],
      "execution_count": null,
      "outputs": [
        {
          "output_type": "stream",
          "text": [
            "Fitting 2 folds for each of 10 candidates, totalling 20 fits\n",
            "[CV] learning_rate=0.0232929922807541, max_depth=15, n_estimators=15 .\n"
          ],
          "name": "stdout"
        },
        {
          "output_type": "stream",
          "text": [
            "[Parallel(n_jobs=1)]: Using backend SequentialBackend with 1 concurrent workers.\n"
          ],
          "name": "stderr"
        },
        {
          "output_type": "stream",
          "text": [
            "[CV]  learning_rate=0.0232929922807541, max_depth=15, n_estimators=15, total=  15.3s\n",
            "[CV] learning_rate=0.0232929922807541, max_depth=15, n_estimators=15 .\n"
          ],
          "name": "stdout"
        },
        {
          "output_type": "stream",
          "text": [
            "[Parallel(n_jobs=1)]: Done   1 out of   1 | elapsed:   15.3s remaining:    0.0s\n"
          ],
          "name": "stderr"
        },
        {
          "output_type": "stream",
          "text": [
            "[CV]  learning_rate=0.0232929922807541, max_depth=15, n_estimators=15, total=  15.1s\n",
            "[CV] learning_rate=0.04712854805089961, max_depth=15, n_estimators=15 \n",
            "[CV]  learning_rate=0.04712854805089961, max_depth=15, n_estimators=15, total=  15.3s\n",
            "[CV] learning_rate=0.04712854805089961, max_depth=15, n_estimators=15 \n",
            "[CV]  learning_rate=0.04712854805089961, max_depth=15, n_estimators=15, total=  15.3s\n",
            "[CV] learning_rate=0.07151930523760641, max_depth=15, n_estimators=15 \n",
            "[CV]  learning_rate=0.07151930523760641, max_depth=15, n_estimators=15, total=  15.4s\n",
            "[CV] learning_rate=0.07151930523760641, max_depth=15, n_estimators=15 \n",
            "[CV]  learning_rate=0.07151930523760641, max_depth=15, n_estimators=15, total=  19.6s\n",
            "[CV] learning_rate=0.09647819614318509, max_depth=15, n_estimators=15 \n",
            "[CV]  learning_rate=0.09647819614318509, max_depth=15, n_estimators=15, total=  15.2s\n",
            "[CV] learning_rate=0.09647819614318509, max_depth=15, n_estimators=15 \n",
            "[CV]  learning_rate=0.09647819614318509, max_depth=15, n_estimators=15, total=  15.1s\n",
            "[CV] learning_rate=0.12201845430196356, max_depth=15, n_estimators=15 \n",
            "[CV]  learning_rate=0.12201845430196356, max_depth=15, n_estimators=15, total=  15.2s\n",
            "[CV] learning_rate=0.12201845430196356, max_depth=15, n_estimators=15 \n",
            "[CV]  learning_rate=0.12201845430196356, max_depth=15, n_estimators=15, total=  15.2s\n",
            "[CV] learning_rate=0.14815362149688283, max_depth=15, n_estimators=15 \n",
            "[CV]  learning_rate=0.14815362149688283, max_depth=15, n_estimators=15, total=  15.2s\n",
            "[CV] learning_rate=0.14815362149688283, max_depth=15, n_estimators=15 \n",
            "[CV]  learning_rate=0.14815362149688283, max_depth=15, n_estimators=15, total=  15.5s\n",
            "[CV] learning_rate=0.17489755493952952, max_depth=15, n_estimators=15 \n",
            "[CV]  learning_rate=0.17489755493952952, max_depth=15, n_estimators=15, total=  15.6s\n",
            "[CV] learning_rate=0.17489755493952952, max_depth=15, n_estimators=15 \n",
            "[CV]  learning_rate=0.17489755493952952, max_depth=15, n_estimators=15, total=  15.6s\n",
            "[CV] learning_rate=0.20226443461741295, max_depth=15, n_estimators=15 \n",
            "[CV]  learning_rate=0.20226443461741295, max_depth=15, n_estimators=15, total=  15.2s\n",
            "[CV] learning_rate=0.20226443461741295, max_depth=15, n_estimators=15 \n",
            "[CV]  learning_rate=0.20226443461741295, max_depth=15, n_estimators=15, total=  15.2s\n",
            "[CV] learning_rate=0.23026877081238162, max_depth=15, n_estimators=15 \n",
            "[CV]  learning_rate=0.23026877081238162, max_depth=15, n_estimators=15, total=  15.3s\n",
            "[CV] learning_rate=0.23026877081238162, max_depth=15, n_estimators=15 \n",
            "[CV]  learning_rate=0.23026877081238162, max_depth=15, n_estimators=15, total=  15.6s\n",
            "[CV] learning_rate=0.2589254117941673, max_depth=15, n_estimators=15 .\n",
            "[CV]  learning_rate=0.2589254117941673, max_depth=15, n_estimators=15, total=  15.0s\n",
            "[CV] learning_rate=0.2589254117941673, max_depth=15, n_estimators=15 .\n",
            "[CV]  learning_rate=0.2589254117941673, max_depth=15, n_estimators=15, total=  15.2s\n"
          ],
          "name": "stdout"
        },
        {
          "output_type": "stream",
          "text": [
            "[Parallel(n_jobs=1)]: Done  20 out of  20 | elapsed:  5.2min finished\n"
          ],
          "name": "stderr"
        },
        {
          "output_type": "execute_result",
          "data": {
            "text/plain": [
              "54.83835402023856"
            ]
          },
          "metadata": {
            "tags": []
          },
          "execution_count": 153
        }
      ]
    },
    {
      "cell_type": "markdown",
      "metadata": {
        "id": "0AW3QRDAtkAN"
      },
      "source": [
        "##### Running the whole thing together"
      ]
    },
    {
      "cell_type": "code",
      "metadata": {
        "colab": {
          "base_uri": "https://localhost:8080/"
        },
        "id": "zEDJUd_8tnV6",
        "outputId": "6ce4f568-020e-4634-f694-204fb0cc7e92"
      },
      "source": [
        "# defining what store to get data from\r\n",
        "days_in_future_input = 1\r\n",
        "num_past = 25\r\n",
        "type_input_nbr = 'A'\r\n",
        "\r\n",
        "# creating a list of item families and stores\r\n",
        "families = np.unique(np.array(items_df.loc[items_df['perishable'] == 1, 'family']))\r\n",
        "families_num = np.arange(1, len(families) + 1)\r\n",
        "families_dict = dict(zip(families, families_num))\r\n",
        "stores = np.unique(np.array(stores_df.loc[stores_df['type'] == 'A', 'store_nbr']))\r\n",
        "# stores = [1, 2, 3, 4]\r\n",
        "\r\n",
        "X_train_complete, X_val_complete, X_test_complete, y_train_complete, y_val_complete, y_test_complete = [], [], [], [], [], []\r\n",
        "\r\n",
        "for h in range(len(stores)):\r\n",
        "\r\n",
        "  store = stores[h]\r\n",
        "\r\n",
        "  # narrowing down df and getting dates\r\n",
        "  temp_df = train[train['store_nbr'] == store]\r\n",
        "  dates = np.array(temp_df['date'].unique())\r\n",
        "\r\n",
        "  # defining separate train, test, and val dates\r\n",
        "  train_len = int(len(dates) * 0.7)\r\n",
        "  val_len = int(len(dates) * 0.15)\r\n",
        "  test_len = int(len(dates) * 0.15)\r\n",
        "\r\n",
        "  # getting date restrictions\r\n",
        "  train_dates = dates[:train_len]\r\n",
        "  val_dates = dates[train_len:train_len + val_len]\r\n",
        "  test_dates = dates[train_len + val_len:]\r\n",
        "\r\n",
        "  # keeping track of usable items\r\n",
        "  usable_items = []\r\n",
        "\r\n",
        "  # looping through all items\r\n",
        "  for item in test_items:\r\n",
        "    \r\n",
        "    # narrowing down df\r\n",
        "    temp_item_df = temp_df[temp_df['item_nbr'] == item]\r\n",
        "\r\n",
        "    # creating train df\r\n",
        "    temp_train_df = temp_item_df[temp_item_df['date'] <= train_dates[-1]]\r\n",
        "    temp_train_df = temp_train_df.groupby(['date']).sum()\r\n",
        "\r\n",
        "    # creating val df\r\n",
        "    temp_val_df = temp_item_df[temp_item_df['date'] >= val_dates[1]]\r\n",
        "    temp_val_df = temp_val_df[temp_val_df['date'] <= val_dates[-1]]\r\n",
        "    temp_val_df = temp_val_df.groupby(['date']).sum()\r\n",
        "\r\n",
        "    # creating test df\r\n",
        "    temp_test_df = temp_item_df[temp_item_df['date'] >= test_dates[1]]\r\n",
        "    temp_test_df = temp_test_df.groupby(['date']).sum()\r\n",
        "\r\n",
        "    # checking to see if the item has enough data\r\n",
        "    if len(temp_train_df) > num_past + days_in_future_input and len(temp_val_df) > num_past + days_in_future_input and len(temp_test_df) > num_past + days_in_future_input:\r\n",
        "\r\n",
        "      # appending to usable_items arr\r\n",
        "      usable_items.append(item)\r\n",
        "    \r\n",
        "  # creating full arrays\r\n",
        "  X_train_full, X_val_full, X_test_full, y_train_full, y_val_full, y_test_full = [], [], [], [], [], []\r\n",
        "\r\n",
        "  for i in range(len(usable_items)):\r\n",
        "\r\n",
        "    # getting the current item\r\n",
        "    item = usable_items[i]\r\n",
        "\r\n",
        "    # narrowing down df\r\n",
        "    temp_item_df = temp_df[temp_df['item_nbr'] == item]\r\n",
        "\r\n",
        "    # creating train df\r\n",
        "    temp_train_df = temp_item_df[temp_item_df['date'] <= train_dates[-1]]\r\n",
        "    temp_train_df = temp_train_df.groupby(['date']).sum()\r\n",
        "\r\n",
        "    # creating val df\r\n",
        "    temp_val_df = temp_item_df[temp_item_df['date'] >= val_dates[1]]\r\n",
        "    temp_val_df = temp_val_df[temp_val_df['date'] <= val_dates[-1]]\r\n",
        "    temp_val_df = temp_val_df.groupby(['date']).sum()\r\n",
        "\r\n",
        "    # creating test df\r\n",
        "    temp_test_df = temp_item_df[temp_item_df['date'] >= test_dates[1]]\r\n",
        "    temp_test_df = temp_test_df.groupby(['date']).sum()\r\n",
        "\r\n",
        "    # checking to see if the item has enough data\r\n",
        "    if len(temp_train_df) > num_past + days_in_future_input and len(temp_val_df) > num_past + days_in_future_input and len(temp_test_df) > num_past + days_in_future_input:\r\n",
        "\r\n",
        "      # getting train sales\r\n",
        "      X_train_arr = np.array(temp_train_df['unit_sales'])[:-days_in_future_input]\r\n",
        "      y_train_arr = np.array(temp_train_df['unit_sales'])[days_in_future_input:]\r\n",
        "\r\n",
        "      # reshaping train sales\r\n",
        "      X_train_arr = np.reshape(X_train_arr, (X_train_arr.shape[0], 1))\r\n",
        "      y_train_arr = np.reshape(y_train_arr, (y_train_arr.shape[0], 1))\r\n",
        "\r\n",
        "      # getting train feature vectors\r\n",
        "      X_train, y_train = construct_predictor_vectors(X_train_arr, y_train_arr, num_past)\r\n",
        "\r\n",
        "      # getting val sales\r\n",
        "      X_val_arr = np.array(temp_val_df['unit_sales'])[:-days_in_future_input]\r\n",
        "      y_val_arr = np.array(temp_val_df['unit_sales'])[days_in_future_input:]\r\n",
        "\r\n",
        "      # reshaping val sales\r\n",
        "      X_val_arr = np.reshape(X_val_arr, (X_val_arr.shape[0], 1))\r\n",
        "      y_val_arr = np.reshape(y_val_arr, (y_val_arr.shape[0], 1))\r\n",
        "\r\n",
        "      # getting val feature vectors\r\n",
        "      X_val, y_val = construct_predictor_vectors(X_val_arr, y_val_arr, num_past)\r\n",
        "\r\n",
        "      # getting test sales\r\n",
        "      X_test_arr = np.array(temp_test_df['unit_sales'])[:-days_in_future_input]\r\n",
        "      y_test_arr = np.array(temp_test_df['unit_sales'])[days_in_future_input:]\r\n",
        "\r\n",
        "      # reshaping test sales\r\n",
        "      X_test_arr = np.reshape(X_test_arr, (X_test_arr.shape[0], 1))\r\n",
        "      y_test_arr = np.reshape(y_test_arr, (y_test_arr.shape[0], 1))\r\n",
        "    \r\n",
        "      # getting test feature vectors\r\n",
        "      X_test, y_test = construct_predictor_vectors(X_test_arr, y_test_arr, num_past)\r\n",
        "\r\n",
        "      # creating the one-hot encoding\r\n",
        "      # one_hot_arr = np.zeros(len(usable_items))\r\n",
        "      # one_hot_arr[i] = 1\r\n",
        "\r\n",
        "      # creating the new arrays to fit the one-hot\r\n",
        "      num_extra_features = 3\r\n",
        "      new_X_train = np.zeros((X_train.shape[0], X_train.shape[1] + num_extra_features))\r\n",
        "      new_X_val = np.zeros((X_val.shape[0], X_val.shape[1] + num_extra_features))\r\n",
        "      new_X_test = np.zeros((X_test.shape[0], X_test.shape[1] + num_extra_features))\r\n",
        "\r\n",
        "      # adding category as a feature\r\n",
        "      temp_family_num = families_dict[np.array(items_df.loc[items_df['item_nbr'] == item, 'family'])[0]]\r\n",
        "      \r\n",
        "      # adding the one-hot encoding - with store as a feature\r\n",
        "      for j in range(len(X_train)):\r\n",
        "        new_X_train[j] = list(X_train[j]) + [item] + [temp_family_num] + [store]\r\n",
        "      for j in range(len(X_val)):\r\n",
        "        new_X_val[j] = list(X_val[j]) + [item] + [temp_family_num] + [store]\r\n",
        "      for j in range(len(X_test)):\r\n",
        "        new_X_test[j] = list(X_test[j]) + [item] + [temp_family_num] + [store]\r\n",
        "\r\n",
        "      X_train = new_X_train\r\n",
        "      X_val = new_X_val\r\n",
        "      X_test = new_X_test\r\n",
        "\r\n",
        "      if i == 0:\r\n",
        "        X_train_full = X_train.copy()\r\n",
        "        X_val_full = X_val.copy()\r\n",
        "        X_test_full = X_test.copy()\r\n",
        "        y_train_full = y_train.copy()\r\n",
        "        y_val_full = y_val.copy()\r\n",
        "        y_test_full = y_test.copy()\r\n",
        "      else:\r\n",
        "        X_train_full = np.concatenate((X_train_full, X_train), axis=0)\r\n",
        "        y_train_full = np.concatenate((y_train_full, y_train), axis=0)\r\n",
        "        X_val_full = np.concatenate((X_val_full, X_val), axis=0)\r\n",
        "        y_val_full = np.concatenate((y_val_full, y_val), axis=0)\r\n",
        "        X_test_full = np.concatenate((X_test_full, X_test), axis=0)\r\n",
        "        y_test_full = np.concatenate((y_test_full, y_test), axis=0)\r\n",
        "\r\n",
        "  if h == 0:\r\n",
        "    X_train_complete = X_train_full.copy()\r\n",
        "    X_val_complete = X_val_full.copy()\r\n",
        "    X_test_complete = X_test_full.copy()\r\n",
        "    y_train_complete = y_train_full.copy()\r\n",
        "    y_val_complete = y_val_full.copy()\r\n",
        "    y_test_complete = y_test_full.copy()\r\n",
        "  else:\r\n",
        "    if len(X_train_full) != 0:\r\n",
        "      X_train_complete = np.concatenate((X_train_complete, X_train_full), axis=0)\r\n",
        "      y_train_complete = np.concatenate((y_train_complete, y_train_full), axis=0)\r\n",
        "      X_val_complete = np.concatenate((X_val_complete, X_val_full), axis=0)\r\n",
        "      y_val_complete = np.concatenate((y_val_complete, y_val_full), axis=0)\r\n",
        "      X_test_complete = np.concatenate((X_test_complete, X_test_full), axis=0)\r\n",
        "      y_test_complete = np.concatenate((y_test_complete, y_test_full), axis=0)\r\n",
        "\r\n",
        "import xgboost as xgb\r\n",
        "\r\n",
        "model = xgb.XGBRegressor(objective='reg:squarederror', n_estimators=30, min_samples_split=15, max_depth=20)\r\n",
        "model.fit(X_train_complete, y_train_complete)"
      ],
      "execution_count": 72,
      "outputs": [
        {
          "output_type": "execute_result",
          "data": {
            "text/plain": [
              "XGBRegressor(base_score=0.5, booster='gbtree', colsample_bylevel=1,\n",
              "             colsample_bynode=1, colsample_bytree=1, gamma=0,\n",
              "             importance_type='gain', learning_rate=0.1, max_delta_step=0,\n",
              "             max_depth=20, min_child_weight=1, min_samples_split=15,\n",
              "             missing=None, n_estimators=30, n_jobs=1, nthread=None,\n",
              "             objective='reg:squarederror', random_state=0, reg_alpha=0,\n",
              "             reg_lambda=1, scale_pos_weight=1, seed=None, silent=None,\n",
              "             subsample=1, verbosity=1)"
            ]
          },
          "metadata": {
            "tags": []
          },
          "execution_count": 72
        }
      ]
    },
    {
      "cell_type": "code",
      "metadata": {
        "colab": {
          "base_uri": "https://localhost:8080/",
          "height": 388
        },
        "id": "0IFGVqHPRWut",
        "outputId": "bab2e30c-b069-497f-fe59-24f8e9ec6dd9"
      },
      "source": [
        "preds = model.predict(X_test_complete)\r\n",
        "\r\n",
        "preds = np.reshape(preds, (preds.shape[0], 1))\r\n",
        "\r\n",
        "temp_item_index_list = []\r\n",
        "\r\n",
        "# chosen_item = 502331\r\n",
        "chosen_item = 311994\r\n",
        "chosen_store = 47\r\n",
        "\r\n",
        "for i in range(len(X_test_complete)):\r\n",
        "  if X_test_complete[i][25] == chosen_item and X_val_complete[i][27] == chosen_store:\r\n",
        "    if y_test_complete[i][0] >= 1:\r\n",
        "      temp_item_index_list.append(i)\r\n",
        "\r\n",
        "X_test_temp_item = X_test_complete[temp_item_index_list]\r\n",
        "y_test_temp_item = y_test_complete[temp_item_index_list]\r\n",
        "preds_temp_item = preds[temp_item_index_list]\r\n",
        "\r\n",
        "y_test_temp_item_rmsle = np.reshape(y_test_temp_item, (y_test_temp_item.shape[0], 1))\r\n",
        "preds_temp_item_rmsle = np.reshape(preds_temp_item, (preds_temp_item.shape[0], 1))\r\n",
        "\r\n",
        "print('MAPE:', mape_func(preds_temp_item, y_test_temp_item))\r\n",
        "print('RMSLE:', rmsle(y_test_temp_item_rmsle, preds_temp_item_rmsle))\r\n",
        "\r\n",
        "plt.figure(figsize=(8, 5))\r\n",
        "\r\n",
        "plt.plot(preds_temp_item[:150], color='red', label='Preds')\r\n",
        "plt.plot(y_test_temp_item[:150], color='green', label='Labels')\r\n",
        "\r\n",
        "plt.xlabel('First 150 Days')\r\n",
        "plt.ylabel('Unit Sales')\r\n",
        "plt.title('Predicted vs. Actual Sales of First 150 Days of Item ' + str(chosen_item))\r\n",
        "plt.legend()\r\n",
        "plt.ylim(0, max(max(preds_temp_item), max(y_test_temp_item)) + 10)\r\n",
        "plt.show()"
      ],
      "execution_count": 73,
      "outputs": [
        {
          "output_type": "stream",
          "text": [
            "MAPE: 20.759632193058795\n",
            "RMSLE: 0.24934798239599554\n"
          ],
          "name": "stdout"
        },
        {
          "output_type": "display_data",
          "data": {
            "image/png": "[encoded data removed]",
            "text/plain": [
              "<Figure size 576x360 with 1 Axes>"
            ]
          },
          "metadata": {
            "tags": []
          }
        }
      ]
    },
    {
      "cell_type": "code",
      "metadata": {
        "colab": {
          "base_uri": "https://localhost:8080/",
          "height": 428
        },
        "id": "ul6JORP9YUGf",
        "outputId": "1d62016b-d6d9-4c9d-8a47-8c237df6027d"
      },
      "source": [
        "# Distribution of Labels and Predictions\n",
        "\n",
        "\n",
        "plt.hist(y_test_temp_item, color = 'blue', edgecolor = 'black',\n",
        "         bins = 20)\n",
        "\n",
        "# seaborn histogram\n",
        "sns.distplot(y_test_temp_item, hist=True, kde=False, \n",
        "             bins=20, color = 'green')\n",
        "sns.distplot(preds_temp_item, hist=True, kde=False, \n",
        "             bins=20, color = 'red')\n",
        "\n",
        "plt.title('Distribution of Predictions and Labels')\n",
        "plt.xlabel('Number of Items Sold on each Day')\n",
        "plt.ylabel('Number of Days on which x number of items was sold')"
      ],
      "execution_count": 74,
      "outputs": [
        {
          "output_type": "stream",
          "text": [
            "/usr/local/lib/python3.7/dist-packages/seaborn/distributions.py:2557: FutureWarning: `distplot` is a deprecated function and will be removed in a future version. Please adapt your code to use either `displot` (a figure-level function with similar flexibility) or `histplot` (an axes-level function for histograms).\n",
            "  warnings.warn(msg, FutureWarning)\n"
          ],
          "name": "stderr"
        },
        {
          "output_type": "execute_result",
          "data": {
            "text/plain": [
              "Text(0, 0.5, 'Number of Days on which x number of items was sold')"
            ]
          },
          "metadata": {
            "tags": []
          },
          "execution_count": 74
        },
        {
          "output_type": "display_data",
          "data": {
            "image/png": "[encoded data removed]",
            "text/plain": [
              "<Figure size 432x288 with 1 Axes>"
            ]
          },
          "metadata": {
            "tags": []
          }
        }
      ]
    },
    {
      "cell_type": "markdown",
      "metadata": {
        "id": "8JwWjV-xLLOv"
      },
      "source": [
        "##### What is the MAPE of the big XGBoost for predicting the highest-selling item?"
      ]
    },
    {
      "cell_type": "markdown",
      "metadata": {
        "id": "DKXC26ejC9JW"
      },
      "source": [
        "First, making predictions on testing data."
      ]
    },
    {
      "cell_type": "code",
      "metadata": {
        "colab": {
          "base_uri": "https://localhost:8080/"
        },
        "id": "Dsf-dxP0C_Jz",
        "outputId": "5e74f111-edbd-4f20-de1d-11e8d0d45f6e"
      },
      "source": [
        "import xgboost as xgb\r\n",
        "\r\n",
        "model = xgb.XGBRegressor(objective='reg:squarederror', n_estimators=20, min_samples_split=10, max_depth=15)\r\n",
        "#model = xgb.XGBRegressor(objective='reg:squarederror')\r\n",
        "model.fit(X_train_complete, y_train_complete)\r\n",
        "preds = model.predict(X_test_complete)\r\n",
        "\r\n",
        "preds = np.reshape(preds, (preds.shape[0], 1))\r\n",
        "\r\n",
        "mape_func(preds, y_test_complete)"
      ],
      "execution_count": 78,
      "outputs": [
        {
          "output_type": "execute_result",
          "data": {
            "text/plain": [
              "51.23272250854986"
            ]
          },
          "metadata": {
            "tags": []
          },
          "execution_count": 78
        }
      ]
    },
    {
      "cell_type": "code",
      "metadata": {
        "colab": {
          "base_uri": "https://localhost:8080/"
        },
        "id": "ZolhVijkEFRA",
        "outputId": "45bc9ecd-3541-42ba-e9cc-a07fa4db5e2c"
      },
      "source": [
        "# finding MAPEs of all items in store 49\r\n",
        "\r\n",
        "item_list_evaluate = test_items\r\n",
        "\r\n",
        "item_mapes_evaluate = {}\r\n",
        "\r\n",
        "for item in item_list_evaluate:\r\n",
        "\r\n",
        "  temp_item_index_list = []\r\n",
        "\r\n",
        "  for i in range(len(X_test_complete)):\r\n",
        "    # if X_val_complete[i][25] == item and X_val_complete[i][27] == 49:\r\n",
        "    if X_test_complete[i][25] == item:\r\n",
        "      temp_item_index_list.append(i)\r\n",
        "\r\n",
        "  X_test_temp_item = X_test_complete[temp_item_index_list]\r\n",
        "  y_test_temp_item = y_test_complete[temp_item_index_list]\r\n",
        "  preds_temp_item = preds[temp_item_index_list]\r\n",
        "\r\n",
        "  if X_test_temp_item.size != 0:\r\n",
        "    item_mapes_evaluate[item] = mape_func(preds_temp_item, y_test_temp_item)\r\n",
        "\r\n",
        "items_lowest_mape = sorted(item_mapes_evaluate, key=lambda x: item_mapes_evaluate[x])\r\n",
        "\r\n",
        "items_lowest_mape[:10]"
      ],
      "execution_count": 79,
      "outputs": [
        {
          "output_type": "execute_result",
          "data": {
            "text/plain": [
              "[502331,\n",
              " 311994,\n",
              " 1473474,\n",
              " 1695845,\n",
              " 1473482,\n",
              " 1309246,\n",
              " 582864,\n",
              " 1686656,\n",
              " 1083196,\n",
              " 584028]"
            ]
          },
          "metadata": {
            "tags": []
          },
          "execution_count": 79
        }
      ]
    },
    {
      "cell_type": "code",
      "metadata": {
        "colab": {
          "base_uri": "https://localhost:8080/"
        },
        "id": "0-LrXbtoFyEa",
        "outputId": "a44cfc6d-b458-4fa2-c07b-e8bd225c1290"
      },
      "source": [
        "temp_item_index_list = []\r\n",
        "\r\n",
        "for i in range(len(X_test_complete)):\r\n",
        "  if X_test_complete[i][25] == 1503844 and X_val_complete[i][27] == 49:\r\n",
        "    if y_test_complete[i][0] >= 1:\r\n",
        "      temp_item_index_list.append(i)\r\n",
        "\r\n",
        "X_test_temp_item = X_test_complete[temp_item_index_list]\r\n",
        "y_test_temp_item = y_test_complete[temp_item_index_list]\r\n",
        "preds_temp_item = preds[temp_item_index_list]\r\n",
        "\r\n",
        "y_test_temp_item_rmsle = np.reshape(y_test_temp_item, (y_test_temp_item.shape[0], 1))\r\n",
        "preds_temp_item_rmsle = np.reshape(preds_temp_item, (preds_temp_item.shape[0], 1))\r\n",
        "\r\n",
        "print('MAPE:', mape_func(preds_temp_item, y_test_temp_item))\r\n",
        "print('RMSLE:', rmsle(y_test_temp_item_rmsle, preds_temp_item_rmsle))"
      ],
      "execution_count": 80,
      "outputs": [
        {
          "output_type": "stream",
          "text": [
            "MAPE: 27.213529667981806\n",
            "RMSLE: 0.3660541849555457\n"
          ],
          "name": "stdout"
        }
      ]
    },
    {
      "cell_type": "code",
      "metadata": {
        "colab": {
          "base_uri": "https://localhost:8080/",
          "height": 269
        },
        "id": "apJCo4vkGBEd",
        "outputId": "caff5606-ad24-4fd5-e2cc-6c6222076c74"
      },
      "source": [
        "plt.plot(preds_temp_item, color='red')\r\n",
        "plt.plot(y_test_temp_item, color='green')\r\n",
        "plt.ylim(0, 1000)\r\n",
        "\r\n",
        "plt.show()"
      ],
      "execution_count": 81,
      "outputs": [
        {
          "output_type": "display_data",
          "data": {
            "image/png": "[encoded data removed]",
            "text/plain": [
              "<Figure size 432x288 with 1 Axes>"
            ]
          },
          "metadata": {
            "tags": []
          }
        }
      ]
    },
    {
      "cell_type": "markdown",
      "metadata": {
        "id": "59YT-GEPC_f9"
      },
      "source": [
        "Making predictions on validation data."
      ]
    },
    {
      "cell_type": "code",
      "metadata": {
        "colab": {
          "base_uri": "https://localhost:8080/"
        },
        "id": "QDG5rvv1M0C8",
        "outputId": "39370fb9-9356-4dc6-b859-22b07ea21539"
      },
      "source": [
        "import xgboost as xgb\r\n",
        "\r\n",
        "model = xgb.XGBRegressor(objective='reg:squarederror', n_estimators=50, min_samples_split=15, max_depth=15)\r\n",
        "# model = xgb.XGBRegressor(objective='reg:squarederror')\r\n",
        "model.fit(X_train_complete, y_train_complete)\r\n",
        "preds = model.predict(X_val_complete)\r\n",
        "\r\n",
        "preds = np.reshape(preds, (preds.shape[0], 1))\r\n",
        "\r\n",
        "mape_func(preds, y_val_complete)"
      ],
      "execution_count": 82,
      "outputs": [
        {
          "output_type": "execute_result",
          "data": {
            "text/plain": [
              "56.37753135050883"
            ]
          },
          "metadata": {
            "tags": []
          },
          "execution_count": 82
        }
      ]
    },
    {
      "cell_type": "code",
      "metadata": {
        "colab": {
          "base_uri": "https://localhost:8080/"
        },
        "id": "Ip6z4AuJZEud",
        "outputId": "f22136c2-47ec-4ada-fe17-b487f99bc5e8"
      },
      "source": [
        "# finding MAPEs of all items in store 49\r\n",
        "\r\n",
        "item_list_evaluate = test_items\r\n",
        "\r\n",
        "item_mapes_evaluate = {}\r\n",
        "\r\n",
        "for item in item_list_evaluate:\r\n",
        "\r\n",
        "  temp_item_index_list = []\r\n",
        "\r\n",
        "  for i in range(len(X_val_complete)):\r\n",
        "    # if X_val_complete[i][25] == item and X_val_complete[i][27] == 49:\r\n",
        "    if X_val_complete[i][25] == item and X_val_complete[i][27] == 49:\r\n",
        "      temp_item_index_list.append(i)\r\n",
        "\r\n",
        "  X_val_temp_item = X_val_complete[temp_item_index_list]\r\n",
        "  y_val_temp_item = y_val_complete[temp_item_index_list]\r\n",
        "  preds_temp_item = preds[temp_item_index_list]\r\n",
        "\r\n",
        "  if X_val_temp_item.size != 0:\r\n",
        "    item_mapes_evaluate[item] = mape_func(preds_temp_item, y_val_temp_item)\r\n",
        "\r\n",
        "items_lowest_mape = sorted(item_mapes_evaluate, key=lambda x: item_mapes_evaluate[x])\r\n",
        "\r\n",
        "items_lowest_mape[:10]"
      ],
      "execution_count": 83,
      "outputs": [
        {
          "output_type": "execute_result",
          "data": {
            "text/plain": [
              "[1427659,\n",
              " 1503844,\n",
              " 1473474,\n",
              " 557420,\n",
              " 1584576,\n",
              " 1695845,\n",
              " 502331,\n",
              " 1473393,\n",
              " 1239897,\n",
              " 699703]"
            ]
          },
          "metadata": {
            "tags": []
          },
          "execution_count": 83
        }
      ]
    },
    {
      "cell_type": "code",
      "metadata": {
        "colab": {
          "base_uri": "https://localhost:8080/"
        },
        "id": "nzMuANjtQRlP",
        "outputId": "fc5d6afe-1bd1-4b71-843d-ed1e2a181f95"
      },
      "source": [
        "temp_item_index_list = []\r\n",
        "\r\n",
        "for i in range(len(X_val_complete)):\r\n",
        "  if X_val_complete[i][25] == 311994 and X_val_complete[i][27] == 49:\r\n",
        "  # if X_val_complete[i][25] == 1503844:\r\n",
        "    temp_item_index_list.append(i)\r\n",
        "\r\n",
        "X_val_temp_item = X_val_complete[temp_item_index_list]\r\n",
        "y_val_temp_item = y_val_complete[temp_item_index_list]\r\n",
        "preds_temp_item = preds[temp_item_index_list]\r\n",
        "\r\n",
        "y_val_temp_item_rmsle = np.reshape(y_val_temp_item, (y_val_temp_item.shape[0], 1))\r\n",
        "preds_temp_item_rmsle = np.reshape(preds_temp_item, (preds_temp_item.shape[0], 1))\r\n",
        "\r\n",
        "print('MAPE:', mape_func(preds_temp_item, y_val_temp_item))\r\n",
        "print('RMSLE:', rmsle(y_val_temp_item_rmsle, preds_temp_item_rmsle))"
      ],
      "execution_count": 84,
      "outputs": [
        {
          "output_type": "stream",
          "text": [
            "MAPE: 27.092027155297703\n",
            "RMSLE: 0.32035297156691744\n"
          ],
          "name": "stdout"
        }
      ]
    },
    {
      "cell_type": "code",
      "metadata": {
        "colab": {
          "base_uri": "https://localhost:8080/",
          "height": 316
        },
        "id": "EHHrcSSxn8kt",
        "outputId": "350b434c-ddd5-4c99-bd7b-d36863ded3ee"
      },
      "source": [
        "plt.plot(preds_temp_item[-100:], color='red', label='Preds')\r\n",
        "plt.plot(y_val_temp_item[-100:], color='green', label='Labels')\r\n",
        "\r\n",
        "plt.xlabel('First 100 Days')\r\n",
        "plt.ylabel('Unit Sales')\r\n",
        "plt.title('Predicted vs. Actual Sales of First 100 Days')\r\n",
        "plt.legend()\r\n",
        "plt.ylim(0, max(max(preds_temp_item), max(y_val_temp_item)) + 10)"
      ],
      "execution_count": 85,
      "outputs": [
        {
          "output_type": "execute_result",
          "data": {
            "text/plain": [
              "(0.0, 125.304)"
            ]
          },
          "metadata": {
            "tags": []
          },
          "execution_count": 85
        },
        {
          "output_type": "display_data",
          "data": {
            "image/png": "[encoded data removed]",
            "text/plain": [
              "<Figure size 432x288 with 1 Axes>"
            ]
          },
          "metadata": {
            "tags": []
          }
        }
      ]
    },
    {
      "cell_type": "code",
      "metadata": {
        "colab": {
          "base_uri": "https://localhost:8080/",
          "height": 299
        },
        "id": "PN-Aib1YEZIl",
        "outputId": "49232aa2-1f6b-40cc-dcb6-09465985596b"
      },
      "source": [
        "plt.plot(preds_temp_item[:200], color='red', label='PREDICTIONS')\r\n",
        "plt.plot(y_val_temp_item[:200], color='green', label='LABELS')\r\n",
        "plt.legend()\r\n",
        "plt.ylim(0, 1000)\r\n",
        "\r\n",
        "plt.xlabel('Days')\r\n",
        "plt.ylabel('Sales')\r\n",
        "plt.title('Sales of Item 502331 over 100 Days')\r\n",
        "\r\n",
        "plt.show()"
      ],
      "execution_count": 88,
      "outputs": [
        {
          "output_type": "display_data",
          "data": {
            "image/png": "[encoded data removed]",
            "text/plain": [
              "<Figure size 432x288 with 1 Axes>"
            ]
          },
          "metadata": {
            "tags": []
          }
        }
      ]
    },
    {
      "cell_type": "markdown",
      "metadata": {
        "id": "rB0I6FKINqh8"
      },
      "source": [
        "##### Doing some Feature Importance Exploration for Further Optimization"
      ]
    },
    {
      "cell_type": "markdown",
      "metadata": {
        "id": "xkl_FoOL3wMV"
      },
      "source": [
        "##### What happens if I just include the following features: *t*-1, *t*-8, *t*-15, and *t*-23, along with item and category information?"
      ]
    },
    {
      "cell_type": "code",
      "metadata": {
        "colab": {
          "base_uri": "https://localhost:8080/"
        },
        "id": "nBK5TmKG368o",
        "outputId": "4a3065b6-1222-4083-f558-df817c173df1"
      },
      "source": [
        "kept_features_index_arr = [24-21, 24-17, 24-16, 24-15, 24-14, 24-7, 24, 25, 27]\r\n",
        "\r\n",
        "X_train_feat_imp = X_train_complete[:, kept_features_index_arr]\r\n",
        "X_val_feat_imp = X_val_complete[:, kept_features_index_arr]\r\n",
        "X_test_feat_imp = X_test_complete[:, kept_features_index_arr]\r\n",
        "\r\n",
        "import xgboost as xgb\r\n",
        "\r\n",
        "model = xgb.XGBRegressor(objective='reg:squarederror', n_estimators=25, min_samples_split=15)\r\n",
        "model.fit(X_train_feat_imp, y_train_complete)\r\n",
        "preds = model.predict(X_val_feat_imp)\r\n",
        "\r\n",
        "preds = np.reshape(preds, (preds.shape[0], 1))\r\n",
        "\r\n",
        "print(mape_func(preds, y_val_complete))"
      ],
      "execution_count": 89,
      "outputs": [
        {
          "output_type": "stream",
          "text": [
            "70.3572585338379\n"
          ],
          "name": "stdout"
        }
      ]
    },
    {
      "cell_type": "code",
      "metadata": {
        "colab": {
          "base_uri": "https://localhost:8080/"
        },
        "id": "vEyRkrBOVSIe",
        "outputId": "ba096d3a-3fb2-45a2-a023-be86663d3fa3"
      },
      "source": [
        "model"
      ],
      "execution_count": 90,
      "outputs": [
        {
          "output_type": "execute_result",
          "data": {
            "text/plain": [
              "XGBRegressor(base_score=0.5, booster='gbtree', colsample_bylevel=1,\n",
              "             colsample_bynode=1, colsample_bytree=1, gamma=0,\n",
              "             importance_type='gain', learning_rate=0.1, max_delta_step=0,\n",
              "             max_depth=3, min_child_weight=1, min_samples_split=15,\n",
              "             missing=None, n_estimators=25, n_jobs=1, nthread=None,\n",
              "             objective='reg:squarederror', random_state=0, reg_alpha=0,\n",
              "             reg_lambda=1, scale_pos_weight=1, seed=None, silent=None,\n",
              "             subsample=1, verbosity=1)"
            ]
          },
          "metadata": {
            "tags": []
          },
          "execution_count": 90
        }
      ]
    },
    {
      "cell_type": "code",
      "metadata": {
        "colab": {
          "base_uri": "https://localhost:8080/",
          "height": 0
        },
        "id": "2zhgeaxS7F02",
        "outputId": "7038d79d-adb2-4d89-c629-054e6baa7664"
      },
      "source": [
        "plt.bar(range(len(model.feature_importances_)), model.feature_importances_)\r\n",
        "plt.show()"
      ],
      "execution_count": 91,
      "outputs": [
        {
          "output_type": "display_data",
          "data": {
            "image/png": "[encoded data removed]",
            "text/plain": [
              "<Figure size 432x288 with 1 Axes>"
            ]
          },
          "metadata": {
            "tags": []
          }
        }
      ]
    },
    {
      "cell_type": "code",
      "metadata": {
        "colab": {
          "base_uri": "https://localhost:8080/"
        },
        "id": "5dwuqZyMFHOn",
        "outputId": "41780de5-64a6-4d70-adfa-797635e5f74e"
      },
      "source": [
        "temp_item_index_list = []\r\n",
        "\r\n",
        "for i in range(len(X_val_feat_imp)):\r\n",
        "  # if X_val_complete[i][25] == 1503844 and X_val_complete[i][27] == 49:\r\n",
        "  if X_val_feat_imp[i][X_val_feat_imp.shape[1] - 2] == 1503844:\r\n",
        "    temp_item_index_list.append(i)\r\n",
        "\r\n",
        "X_val_temp_item = X_val_feat_imp[temp_item_index_list]\r\n",
        "y_val_temp_item = y_val_complete[temp_item_index_list]\r\n",
        "preds_temp_item = preds[temp_item_index_list]\r\n",
        "\r\n",
        "mape_func(preds_temp_item, y_val_temp_item)"
      ],
      "execution_count": 92,
      "outputs": [
        {
          "output_type": "execute_result",
          "data": {
            "text/plain": [
              "27.76984890786397"
            ]
          },
          "metadata": {
            "tags": []
          },
          "execution_count": 92
        }
      ]
    },
    {
      "cell_type": "markdown",
      "metadata": {
        "id": "ATT6xilL4hDW"
      },
      "source": [
        "##### What if I only include the *n* features with the highest importances?"
      ]
    },
    {
      "cell_type": "code",
      "metadata": {
        "id": "_oA3stoohFW6"
      },
      "source": [
        "feat_imp = dict(zip(np.arange(1, len(model.feature_importances_) + 1), np.array(model.feature_importances_)))\r\n",
        "# feat_imp = sorted(feat_imp)\r\n",
        "\r\n",
        "feat_imp_sorted_keys = sorted(feat_imp, key=feat_imp.get, reverse=True)\r\n",
        "feat_imp_sorted = {}\r\n",
        "\r\n",
        "i = 1\r\n",
        "\r\n",
        "for w in feat_imp_sorted_keys:\r\n",
        "    feat_imp_sorted[w] = feat_imp[w]\r\n",
        "    i += 1"
      ],
      "execution_count": 93,
      "outputs": []
    },
    {
      "cell_type": "code",
      "metadata": {
        "colab": {
          "base_uri": "https://localhost:8080/"
        },
        "id": "YnkSy0Zwhtzd",
        "outputId": "e8ec966f-9a1c-443f-f6cc-3688393ee891"
      },
      "source": [
        "# indeces to remove\r\n",
        "\r\n",
        "keep_indeces = []\r\n",
        "\r\n",
        "for i in range(0, len(feat_imp_sorted_keys)):\r\n",
        "  keep_indeces.append(list(feat_imp_sorted_keys)[i])\r\n",
        "\r\n",
        "keep_indeces"
      ],
      "execution_count": 94,
      "outputs": [
        {
          "output_type": "execute_result",
          "data": {
            "text/plain": [
              "[7, 3, 5, 1, 4, 6, 2, 9, 8]"
            ]
          },
          "metadata": {
            "tags": []
          },
          "execution_count": 94
        }
      ]
    },
    {
      "cell_type": "code",
      "metadata": {
        "colab": {
          "base_uri": "https://localhost:8080/"
        },
        "id": "PC_d3odQmXQ0",
        "outputId": "b9e74ddb-6e10-4d36-c554-f8f7547a8197"
      },
      "source": [
        "X_train_feat_imp = X_train_complete[:, keep_indeces]\r\n",
        "X_val_feat_imp = X_val_complete[:, keep_indeces]\r\n",
        "X_test_feat_imp = X_test_complete[:, keep_indeces]\r\n",
        "\r\n",
        "print(X_train_feat_imp.shape)\r\n",
        "print(y_train_complete.shape)"
      ],
      "execution_count": 95,
      "outputs": [
        {
          "output_type": "stream",
          "text": [
            "(400505, 9)\n",
            "(400505, 1)\n"
          ],
          "name": "stdout"
        }
      ]
    },
    {
      "cell_type": "code",
      "metadata": {
        "colab": {
          "base_uri": "https://localhost:8080/"
        },
        "id": "MY5QCW6plK4k",
        "outputId": "5367aa2a-f84c-4022-91ab-25f979fa5111"
      },
      "source": [
        "import xgboost as xgb\r\n",
        "\r\n",
        "model = xgb.XGBRegressor(objective='reg:squarederror')\r\n",
        "model.fit(X_train_feat_imp, y_train_complete)\r\n",
        "preds = model.predict(X_val_feat_imp)\r\n",
        "\r\n",
        "preds = np.reshape(preds, (preds.shape[0], 1))\r\n",
        "\r\n",
        "mape_func(preds, y_val_complete)"
      ],
      "execution_count": 96,
      "outputs": [
        {
          "output_type": "execute_result",
          "data": {
            "text/plain": [
              "67.74014098550165"
            ]
          },
          "metadata": {
            "tags": []
          },
          "execution_count": 96
        }
      ]
    },
    {
      "cell_type": "markdown",
      "metadata": {
        "id": "ldiESIR_Fl5G"
      },
      "source": [
        "##### Finding Final Weighted Average"
      ]
    },
    {
      "cell_type": "code",
      "metadata": {
        "colab": {
          "base_uri": "https://localhost:8080/"
        },
        "id": "kuNlaX2UM6PN",
        "outputId": "dd3e2ca3-d97a-4c57-a4b0-cfae30305aa0"
      },
      "source": [
        "# finding weighted average\r\n",
        "\r\n",
        "\r\n",
        "# reducing preds to just store 49\r\n",
        "temp_item_index_list = []\r\n",
        "\r\n",
        "for i in range(len(X_val_complete)):\r\n",
        "  if X_val_complete[i][27] == 49:\r\n",
        "    if y_val_complete[i][0] >= 1:\r\n",
        "      temp_item_index_list.append(i)\r\n",
        "\r\n",
        "X_val_temp_store = X_val_complete[temp_item_index_list]\r\n",
        "y_val_temp_store = y_val_complete[temp_item_index_list]\r\n",
        "temp_preds = preds[temp_item_index_list]\r\n",
        "\r\n",
        "i = 0\r\n",
        "items_completed = []\r\n",
        "\r\n",
        "weights = []\r\n",
        "rmsle_values = []\r\n",
        "values = []\r\n",
        "items = []\r\n",
        "\r\n",
        "best_item_preds = 0\r\n",
        "best_item_labels = 0\r\n",
        "\r\n",
        "while i < len(X_val_temp_store):\r\n",
        "\r\n",
        "  # checking if this item has not already been taken into account\r\n",
        "  if X_val_temp_store[i][num_past] not in items_completed:\r\n",
        "\r\n",
        "    # finding the range of indeces for this item\r\n",
        "    j = i\r\n",
        "    start_index = i\r\n",
        "    end_index = i\r\n",
        "\r\n",
        "    while j < len(X_val_temp_store) and X_val_temp_store[j][num_past] == X_val_temp_store[i][num_past]:\r\n",
        "      end_index += 1\r\n",
        "      j += 1\r\n",
        "\r\n",
        "    # getting preds and labels from these indeces\r\n",
        "    temp_item_preds = temp_preds[start_index:end_index + 1]\r\n",
        "    temp_item_labels = y_val_temp_store[start_index: end_index + 1]\r\n",
        "\r\n",
        "    # reshape both preds and labels into 1D\r\n",
        "    temp_item_preds = np.reshape(temp_item_preds, (temp_item_preds.shape[0]))\r\n",
        "    temp_item_labels = np.reshape(temp_item_labels, (temp_item_labels.shape[0]))\r\n",
        "\r\n",
        "    # getting MAPE for this item only\r\n",
        "    temp_item_mape = mape_func(temp_item_preds, temp_item_labels)\r\n",
        "\r\n",
        "    # adding MAPE to values list\r\n",
        "    values.append(temp_item_mape)\r\n",
        "\r\n",
        "    # reshaping for rmsle\r\n",
        "    temp_item_preds = np.reshape(temp_item_preds, (temp_item_preds.shape[0], 1))\r\n",
        "    temp_item_labels = np.reshape(temp_item_labels, (temp_item_labels.shape[0], 1))\r\n",
        "    rmsle_values.append(rmsle(temp_item_labels, temp_item_preds))\r\n",
        "\r\n",
        "    # calculating weights (sales of item)\r\n",
        "    temp_df = train[train['item_nbr'] == X_val_temp_store[i][num_past]]\r\n",
        "    temp_df = temp_df[temp_df['store_nbr'] == store_input_nbr]\r\n",
        "    temp_df = temp_df.groupby(['date']).sum()\r\n",
        "    temp_item_sales = np.sum(np.array(temp_df['unit_sales']))\r\n",
        "\r\n",
        "    # adding sales to weights list\r\n",
        "    weights.append(temp_item_sales)\r\n",
        "\r\n",
        "    items.append(X_val_temp_store[i][num_past])\r\n",
        "\r\n",
        "    if (X_val_temp_store[i][num_past]) == 1427659:\r\n",
        "      best_item_preds = temp_item_preds\r\n",
        "      best_item_labels = temp_item_labels\r\n",
        "  \r\n",
        "    i = j\r\n",
        "  else:\r\n",
        "    i += 1\r\n",
        "\r\n",
        "print('mape:', np.average(values, weights=weights))\r\n",
        "print('rmsle:', np.average(rmsle_values, weights=weights))"
      ],
      "execution_count": 97,
      "outputs": [
        {
          "output_type": "stream",
          "text": [
            "mape: 42.91266460529995\n",
            "rmsle: 0.4294137407468128\n"
          ],
          "name": "stdout"
        }
      ]
    }
  ]
}